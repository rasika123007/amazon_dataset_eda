{
  "cells": [
    {
      "cell_type": "markdown",
      "metadata": {
        "id": "view-in-github",
        "colab_type": "text"
      },
      "source": [
        "<a href=\"https://colab.research.google.com/github/rasika123007/amazon_dataset_eda/blob/main/Capstone_Project_Amazon_Prime_TV_Shows_And_Movies.ipynb\" target=\"_parent\"><img src=\"https://colab.research.google.com/assets/colab-badge.svg\" alt=\"Open In Colab\"/></a>"
      ]
    },
    {
      "cell_type": "markdown",
      "metadata": {
        "id": "vncDsAP0Gaoa"
      },
      "source": [
        "# **Project Name**    -\n",
        "\n"
      ]
    },
    {
      "cell_type": "markdown",
      "metadata": {
        "id": "beRrZCGUAJYm"
      },
      "source": [
        "##### **Project Type**    - EDA\n",
        "##### **Contribution**    - Individual\n",
        "##### **Team Member 1 -**Rasika Dilip Mundaye"
      ]
    },
    {
      "cell_type": "markdown",
      "metadata": {
        "id": "FJNUwmbgGyua"
      },
      "source": [
        "# **Project Summary -**"
      ]
    },
    {
      "cell_type": "markdown",
      "metadata": {
        "id": "F6v_1wHtG2nS"
      },
      "source": [
        "Amazon Prime TV show dataset comprises of the data related to the shows and movies that is released on OTT platform name ‘Amazon Prime’. It is a paid subscription service of Amazon which is available in many different countries. The overall dataset is built to find the growth and popularity of different shows and movies which is released per year in different countries. It will help to determine the growth of the Amazon Prime on the basis of the content and its engagement with the audience. The amount of popularity in an entertainment industry and what more changes can bring more value in an eye of an audience can be determined through the given dataset.\n",
        "\n",
        "\n",
        "\n",
        "Amazon Prime TV show dataset also give a detailed view of remarkable performance of the actors and their work on different shows. The overall platform will enlighten the popularity of different shows released in different region of different countries. The imdb and TMDB score will generate the enthusiasm of watching shows and movies on different languages of the country.\n",
        "\n",
        "\n",
        "The primary focus will be on understanding the latest trend, having audience insight, focusing on the growth in the market of entertainment industry, delivering engaging result and understanding the overall market demand on high level.\n"
      ]
    },
    {
      "cell_type": "markdown",
      "metadata": {
        "id": "w6K7xa23Elo4"
      },
      "source": [
        "# **GitHub Link -**"
      ]
    },
    {
      "cell_type": "markdown",
      "metadata": {
        "id": "h1o69JH3Eqqn"
      },
      "source": [
        "Provide your GitHub Link here."
      ]
    },
    {
      "cell_type": "markdown",
      "metadata": {
        "id": "yQaldy8SH6Dl"
      },
      "source": [
        "# **Problem Statement**\n"
      ]
    },
    {
      "cell_type": "markdown",
      "metadata": {
        "id": "DpeJGUA3kjGy"
      },
      "source": [
        "The global market of OTT platform is experiencing rapid growth driven by a streaming service that delivers video and audio content directly to viewers over the internet.  In this rapid growth, the delivery of the content plays a pivotal role in the market. The data in Amazon Prime comprises of different genres of movies and TV-Shows which engage audience globally. The following factors needs to take into consideration:\n",
        "\n",
        "•  \tWhich genre of the movies and TV shows engage the audience most?\n",
        "\n",
        "\n",
        "•\tWhich country delivers the best content in every aspect?\n",
        "\n",
        "•\tWhat’s the growth of the TV-Show’s and Movies over the year?\n",
        "\n",
        "\n",
        "•\tWhat’s the most trending movies and TV-Shows catches audience votes?\n",
        "\n",
        "\n",
        "•\tWhat more Actor and Director best performance can bring the change in the aspect of the audience?\n",
        "\n",
        "\n",
        "•\tWhat attributes to be taken care of while delivering amazing content?\n",
        "\n",
        "\n",
        "•\tDoes viewer’s rating can bring changes in delivering the content (TV-shows and movies) globally?\n",
        "\n",
        "•\tWhich type of movies and TV shows can create a great impact on society?\n",
        "\n",
        "\n",
        "•\tWhat type of changes that needs to met an eye while delivering an appropriate age-certified content?\n",
        "\n"
      ]
    },
    {
      "cell_type": "markdown",
      "metadata": {
        "id": "PH-0ReGfmX4f"
      },
      "source": [
        "#### **Define Your Business Objective?**"
      ]
    },
    {
      "cell_type": "markdown",
      "metadata": {
        "id": "PhDvGCAqmjP1"
      },
      "source": [
        "The main objective  of the Amazon Prime-TV Shows and Movies is an audience engagement, content distribution and discoverability which leads to increase in user engagement and satisfaction.\n",
        "\n",
        "Improve content quality: Giving a valuable content to an audience is a primary aspect of the project. Discovering the audience actual growth and delivering the exact amount of content will enrich the market value and demands. The primary purpose is to understand which type of content can bring changes in the perspective of the audience.\n",
        "\n",
        "Enrich user engagement: User/Subscriber/Customer are primary aspect of this project. Understanding the audience view is vital as it bring business to global recognition. It’s very important to deliver a good content that meet an audience eye. The important aspect is to know which genre of the movies and TV shows attract audience attention.\n",
        "\n",
        "Increasing Subscriber’s retention: Prioritize on improving the customer experience by developing strategies of improving content diversity, loyalty and customer satisfaction. Providing exclusive content like Amazon Prime helps keep subscribers engaged and invested in Prime Membership.\n",
        "\n",
        "Improve Content Curation: Improving the curation of TV-shows and movies by identifying popular genre, audience rating, trending movies and long-running TV-shows that ensure diverse audience engagement and more demand for exclusive content.\n",
        "\n",
        "Enhance Global Reach: To attract an international audience providing multilingual content and expand the platform reach to a new market driving growth in subscriber numbers and revenue.\n",
        "\n",
        "Drive Viewer Satisfaction: Analyse customer feedbacks, rating and reviews and enhance the quality of content offering leading to a higher viewer rating.\n",
        "Decision Making: This data driven insight will help to make informed decisions regarding content distribution, user engagement initiatives, suppliers demand, platform enhancement ensuring the strategic moves are backed by actionable data."
      ]
    },
    {
      "cell_type": "markdown",
      "metadata": {
        "id": "mDgbUHAGgjLW"
      },
      "source": [
        "# **General Guidelines** : -  "
      ]
    },
    {
      "cell_type": "markdown",
      "metadata": {
        "id": "ZrxVaUj-hHfC"
      },
      "source": [
        "1.   Well-structured, formatted, and commented code is required.\n",
        "2.   Exception Handling, Production Grade Code & Deployment Ready Code will be a plus. Those students will be awarded some additional credits.\n",
        "     \n",
        "     The additional credits will have advantages over other students during Star Student selection.\n",
        "       \n",
        "             [ Note: - Deployment Ready Code is defined as, the whole .ipynb notebook should be executable in one go\n",
        "                       without a single error logged. ]\n",
        "\n",
        "3.   Each and every logic should have proper comments.\n",
        "4. You may add as many number of charts you want. Make Sure for each and every chart the following format should be answered.\n",
        "        \n",
        "\n",
        "```\n",
        "# Chart visualization code\n",
        "```\n",
        "            \n",
        "\n",
        "*   Why did you pick the specific chart?\n",
        "*   What is/are the insight(s) found from the chart?\n",
        "* Will the gained insights help creating a positive business impact?\n",
        "Are there any insights that lead to negative growth? Justify with specific reason.\n",
        "\n",
        "5. You have to create at least 20 logical & meaningful charts having important insights.\n",
        "\n",
        "\n",
        "[ Hints : - Do the Vizualization in  a structured way while following \"UBM\" Rule.\n",
        "\n",
        "U - Univariate Analysis,\n",
        "\n",
        "B - Bivariate Analysis (Numerical - Categorical, Numerical - Numerical, Categorical - Categorical)\n",
        "\n",
        "M - Multivariate Analysis\n",
        " ]\n",
        "\n",
        "\n",
        "\n"
      ]
    },
    {
      "cell_type": "markdown",
      "metadata": {
        "id": "O_i_v8NEhb9l"
      },
      "source": [
        "# ***Let's Begin !***"
      ]
    },
    {
      "cell_type": "markdown",
      "metadata": {
        "id": "HhfV-JJviCcP"
      },
      "source": [
        "## ***1. Know Your Data***"
      ]
    },
    {
      "cell_type": "markdown",
      "metadata": {
        "id": "Y3lxredqlCYt"
      },
      "source": [
        "### Import Libraries"
      ]
    },
    {
      "cell_type": "code",
      "execution_count": null,
      "metadata": {
        "id": "M8Vqi-pPk-HR"
      },
      "outputs": [],
      "source": [
        "# Import Libraries\n",
        "import numpy as np\n",
        "import pandas as pd\n",
        "import matplotlib.pyplot as plt\n",
        "import seaborn as sns\n",
        "import plotly.express as px\n",
        "import warnings\n",
        "warnings.filterwarnings('ignore')\n",
        "\n",
        "%matplotlib inline\n",
        "\n",
        "sns.set_context('notebook')  #Highlights the graph in a better way.\n",
        "sns.set_style('ticks')"
      ]
    },
    {
      "cell_type": "markdown",
      "metadata": {
        "id": "3RnN4peoiCZX"
      },
      "source": [
        "### Dataset Loading"
      ]
    },
    {
      "cell_type": "code",
      "execution_count": null,
      "metadata": {
        "colab": {
          "base_uri": "https://localhost:8080/"
        },
        "id": "4CkvbW_SlZ_R",
        "outputId": "408c45b8-86b2-46d6-8793-e30c9b0e6de3"
      },
      "outputs": [
        {
          "output_type": "stream",
          "name": "stdout",
          "text": [
            "Drive already mounted at /content/drive; to attempt to forcibly remount, call drive.mount(\"/content/drive\", force_remount=True).\n"
          ]
        }
      ],
      "source": [
        "# Load Dataset\n",
        "from google.colab import drive\n",
        "drive.mount('/content/drive')"
      ]
    },
    {
      "cell_type": "code",
      "execution_count": null,
      "metadata": {
        "id": "0TZ8MxT7t3It"
      },
      "outputs": [],
      "source": [
        "#The data containing amazon_prime.\n",
        "amazon_data=pd.read_csv('/content/drive/MyDrive/PandaFolder/titles.csv')"
      ]
    },
    {
      "cell_type": "code",
      "execution_count": null,
      "metadata": {
        "id": "VxTZ5OZ6vpBj"
      },
      "outputs": [],
      "source": [
        "#The data containing cast of amazon_prime.\n",
        "cast_data=pd.read_csv('/content/drive/MyDrive/PandaFolder/credits.csv')"
      ]
    },
    {
      "cell_type": "markdown",
      "metadata": {
        "id": "x71ZqKXriCWQ"
      },
      "source": [
        "### Dataset First View"
      ]
    },
    {
      "cell_type": "code",
      "execution_count": null,
      "metadata": {
        "collapsed": true,
        "id": "LWNFOSvLl09H",
        "colab": {
          "base_uri": "https://localhost:8080/",
          "height": 158
        },
        "outputId": "90d72e8f-1ba5-4674-9aad-87c9b648da43"
      },
      "outputs": [
        {
          "output_type": "error",
          "ename": "NameError",
          "evalue": "name 'u' is not defined",
          "traceback": [
            "\u001b[0;31m---------------------------------------------------------------------------\u001b[0m",
            "\u001b[0;31mNameError\u001b[0m                                 Traceback (most recent call last)",
            "\u001b[0;32m/tmp/ipython-input-376-192220346.py\u001b[0m in \u001b[0;36m<cell line: 0>\u001b[0;34m()\u001b[0m\n\u001b[0;32m----> 1\u001b[0;31m \u001b[0mu\u001b[0m\u001b[0;31m# Dataset First Look\u001b[0m\u001b[0;34m\u001b[0m\u001b[0;34m\u001b[0m\u001b[0m\n\u001b[0m\u001b[1;32m      2\u001b[0m \u001b[0mamazon_data\u001b[0m\u001b[0;34m\u001b[0m\u001b[0;34m\u001b[0m\u001b[0m\n",
            "\u001b[0;31mNameError\u001b[0m: name 'u' is not defined"
          ]
        }
      ],
      "source": [
        "u# Dataset First Look\n",
        "amazon_data"
      ]
    },
    {
      "cell_type": "code",
      "source": [
        "cast_data"
      ],
      "metadata": {
        "collapsed": true,
        "id": "SNWmJxmtfMOu"
      },
      "execution_count": null,
      "outputs": []
    },
    {
      "cell_type": "code",
      "execution_count": null,
      "metadata": {
        "collapsed": true,
        "id": "exlIJ-mcw50h"
      },
      "outputs": [],
      "source": [
        "#To extract the first 5 rows of the amazon_prime dataset\n",
        "amazon_data.head()"
      ]
    },
    {
      "cell_type": "code",
      "source": [
        "#To extract the first 5  rows of the cast dataset\n",
        "cast_data.head()"
      ],
      "metadata": {
        "collapsed": true,
        "id": "XjG3D4rxfUdT"
      },
      "execution_count": null,
      "outputs": []
    },
    {
      "cell_type": "code",
      "execution_count": null,
      "metadata": {
        "collapsed": true,
        "id": "xyqDSaKyxFpj"
      },
      "outputs": [],
      "source": [
        "#To extract the last 5 rows of the amazon_prime dataset\n",
        "amazon_data.tail()"
      ]
    },
    {
      "cell_type": "code",
      "source": [
        "#To extract the last 5 rows of the cast dataset\n",
        "cast_data.tail()"
      ],
      "metadata": {
        "collapsed": true,
        "id": "Zpief02qfd1x"
      },
      "execution_count": null,
      "outputs": []
    },
    {
      "cell_type": "markdown",
      "metadata": {
        "id": "7hBIi_osiCS2"
      },
      "source": [
        "### Dataset Rows & Columns count"
      ]
    },
    {
      "cell_type": "code",
      "execution_count": null,
      "metadata": {
        "id": "Kllu7SJgmLij"
      },
      "outputs": [],
      "source": [
        "# Dataset Rows & Columns count\n",
        "amazon_data.shape"
      ]
    },
    {
      "cell_type": "code",
      "source": [
        "cast_data.shape"
      ],
      "metadata": {
        "id": "E4cwhm5rfjxJ"
      },
      "execution_count": null,
      "outputs": []
    },
    {
      "cell_type": "markdown",
      "metadata": {
        "id": "JlHwYmJAmNHm"
      },
      "source": [
        "### Dataset Information"
      ]
    },
    {
      "cell_type": "code",
      "execution_count": null,
      "metadata": {
        "collapsed": true,
        "id": "e9hRXRi6meOf"
      },
      "outputs": [],
      "source": [
        "# Dataset Info\n",
        "amazon_data.info()"
      ]
    },
    {
      "cell_type": "code",
      "execution_count": null,
      "metadata": {
        "id": "zEamS-VVyK2E",
        "collapsed": true
      },
      "outputs": [],
      "source": [
        "cast_data.info()"
      ]
    },
    {
      "cell_type": "markdown",
      "metadata": {
        "id": "35m5QtbWiB9F"
      },
      "source": [
        "#### Duplicate Values"
      ]
    },
    {
      "cell_type": "code",
      "execution_count": null,
      "metadata": {
        "id": "1sLdpKYkmox0"
      },
      "outputs": [],
      "source": [
        "# Dataset Duplicate Value Count\n",
        "amazon_data.duplicated().sum()"
      ]
    },
    {
      "cell_type": "code",
      "execution_count": null,
      "metadata": {
        "id": "zd7AvIoNyp9G"
      },
      "outputs": [],
      "source": [
        "cast_data.duplicated().sum()"
      ]
    },
    {
      "cell_type": "code",
      "execution_count": null,
      "metadata": {
        "id": "R6HEUGuhy9Aq"
      },
      "outputs": [],
      "source": [
        "#To remove the values of the duplicates in the rows of the table\n",
        "amazon_data.drop_duplicates(inplace=True, ignore_index=True)"
      ]
    },
    {
      "cell_type": "code",
      "execution_count": null,
      "metadata": {
        "id": "PabDb1smzJ_8"
      },
      "outputs": [],
      "source": [
        "#To remove the values of the duplicates in the rows of the table\n",
        "cast_data.drop_duplicates(inplace=True, ignore_index=True)"
      ]
    },
    {
      "cell_type": "code",
      "execution_count": null,
      "metadata": {
        "collapsed": true,
        "id": "WP1X4EALzO7s"
      },
      "outputs": [],
      "source": [
        "#To check the number of rows and columns\n",
        "amazon_data.shape"
      ]
    },
    {
      "cell_type": "code",
      "execution_count": null,
      "metadata": {
        "collapsed": true,
        "id": "0QIuwQiGzSwm"
      },
      "outputs": [],
      "source": [
        "cast_data.shape"
      ]
    },
    {
      "cell_type": "markdown",
      "metadata": {
        "id": "PoPl-ycgm1ru"
      },
      "source": [
        "#### Missing Values/Null Values"
      ]
    },
    {
      "cell_type": "code",
      "execution_count": null,
      "metadata": {
        "collapsed": true,
        "id": "GgHWkxvamxVg"
      },
      "outputs": [],
      "source": [
        "# Missing Values/Null Values Count\n",
        "missing_values=amazon_data.isnull().sum()\n",
        "\n",
        "missing_values"
      ]
    },
    {
      "cell_type": "code",
      "execution_count": null,
      "metadata": {
        "collapsed": true,
        "id": "-ZcdbDZu6C0g"
      },
      "outputs": [],
      "source": [
        "missing_cast=cast_data.isnull().sum()\n",
        "\n",
        "missing_cast"
      ]
    },
    {
      "cell_type": "code",
      "execution_count": null,
      "metadata": {
        "collapsed": true,
        "id": "3q5wnI3om9sJ"
      },
      "outputs": [],
      "source": [
        "# Visualizing the missing values\n",
        "plt.figure(figsize=(10, 5))\n",
        "plt.barh(missing_values.index, missing_values.values, color='green')\n",
        "plt.xlabel('Number of Missing Values')\n",
        "plt.ylabel('Columns')\n",
        "plt.title('Missing Values in Dataset')\n",
        "plt.grid(False)\n",
        "plt.show()"
      ]
    },
    {
      "cell_type": "code",
      "execution_count": null,
      "metadata": {
        "collapsed": true,
        "id": "sITTefYrVk58"
      },
      "outputs": [],
      "source": [
        "plt.figure(figsize=(10, 5))\n",
        "plt.barh(missing_cast.index, missing_cast.values, color='green')\n",
        "plt.xlabel('Number of Missing Values')\n",
        "plt.ylabel('Columns')\n",
        "plt.title('Missing Values in Dataset')\n",
        "plt.show()"
      ]
    },
    {
      "cell_type": "markdown",
      "metadata": {
        "id": "H0kj-8xxnORC"
      },
      "source": [
        "### What did you know about your dataset?"
      ]
    },
    {
      "cell_type": "markdown",
      "metadata": {
        "id": "gfoNAAC-nUe_"
      },
      "source": [
        "This dataset consists of 2 types:\n",
        "\n",
        "\n",
        "1.   The Amazon TV Shows and Movies record.\n",
        "2.   Actor and Director Performance record.\n",
        "\n",
        "\n",
        "Amazon Prime TV shows and movies dataset including actor and director cast performance record comprises of an Amazon Prime OTT platform operation. It includes the data related to the movies and TV shows which was released in the year 1912 and 2022. It also includes the actor’s and director’s performance record. This dataset is an overview of the content the Amazon OTT platform deliver which engaged the audience on the larger basis.\n",
        "\n",
        "\n",
        "The core component in the dataset:\n",
        "\n",
        "\n",
        "Content Information:\n",
        "\n",
        "*   It includes the information related to the number of Movies and TV-Shows released in Amazon OTT plaform.\n",
        "*   It captures the title (name of the Movie and TV-show), released year, production coutries, description, runtime and age-certification details.\n",
        "*   It covers the different types of genres of movies and TV-shows released in OTT platform globally.\n",
        "\n",
        "\n",
        "\n",
        "User engagement and reviews:\n",
        "\n",
        "*   It includes IMDB and TMDB rating’s.\n",
        "*   It also includes the imdb votes and tmdb popularity which highlight the audience engagement in the content.\n",
        "\n",
        "\n",
        "\n",
        "\n",
        "Actor and Director’s performance:\n",
        "* The 2nd Dataset comprises of the Actor and Director work in related TV-shows and Movies.\n",
        "* It tracks the remarkable performance of an Actor worked in TV-shows and Movies.\n",
        "* It also highlight the director work output in movies and TV shows.\n",
        "\n"
      ]
    },
    {
      "cell_type": "markdown",
      "metadata": {
        "id": "nA9Y7ga8ng1Z"
      },
      "source": [
        "## ***2. Understanding Your Variables***"
      ]
    },
    {
      "cell_type": "code",
      "execution_count": null,
      "metadata": {
        "id": "j7xfkqrt5Ag5"
      },
      "outputs": [],
      "source": [
        "# Dataset Columns\n",
        "amazon_data.columns"
      ]
    },
    {
      "cell_type": "code",
      "execution_count": null,
      "metadata": {
        "id": "9WrLNcd07wU5"
      },
      "outputs": [],
      "source": [
        "cast_data.columns"
      ]
    },
    {
      "cell_type": "code",
      "execution_count": null,
      "metadata": {
        "collapsed": true,
        "id": "DnOaZdaE5Q5t"
      },
      "outputs": [],
      "source": [
        "# Dataset Describe\n",
        "amazon_data.describe().T"
      ]
    },
    {
      "cell_type": "code",
      "execution_count": null,
      "metadata": {
        "id": "bjx40vse8Oad"
      },
      "outputs": [],
      "source": [
        "amazon_data.describe(include=['object'])"
      ]
    },
    {
      "cell_type": "code",
      "execution_count": null,
      "metadata": {
        "id": "HrVfe8768Z8i"
      },
      "outputs": [],
      "source": [
        "cast_data.describe(include=['object'])"
      ]
    },
    {
      "cell_type": "markdown",
      "metadata": {
        "id": "PBTbrJXOngz2"
      },
      "source": [
        "### Variables Description"
      ]
    },
    {
      "cell_type": "markdown",
      "metadata": {
        "id": "aJV4KIxSnxay"
      },
      "source": [
        "**Variable description of amazon_data are as follows:**\n",
        "\n",
        "1)\tid- The unique identification for each title.\n",
        "\n",
        "2)\ttitle- Name of the Movie/TV-Show.\n",
        "\n",
        "3)\ttype- Content type- either Movie or Show.\n",
        "\n",
        "4)\tdescription- Brief synopsis or summary of the title.\n",
        "\n",
        "5)\trelease_year- Year the Movie/Show was released.\n",
        "\n",
        "6)\tage_certification- Age rating based on Regional Standard.\n",
        "\n",
        "•\tTV-PG- Parental Guidelines Suggested.\n",
        "\n",
        "•\tPG- Parental Guidelines.\n",
        "\n",
        "•\tG-General Guidelines.\n",
        "\n",
        "•\tR- Restricted.\n",
        "\n",
        "•\tTV-G-General Audience.\n",
        "\n",
        "•\tTV-Y-Television Youth (All Children).\n",
        "\n",
        "•\tTV-14- Parents Strongly Cautioned (Television – Suitable for ages 14 and up).\n",
        "\n",
        "•\tNC-17- No Children 17 and Under Admitted.\n",
        "\n",
        "•\tTV-Y7- Directed to Older Children.\n",
        "\n",
        "•\tTV-MA-Mature Audience.\n",
        "\n",
        "7)\truntime- Duration of the content (in minutes).\n",
        "\n",
        "8)\tgenres- List of genres associated with title (e.g. Action, Drama, Comedy).\n",
        "\n",
        "9)\tproduction_countries- List of countries where the content was produced.\n",
        "\n",
        "10)\tseasons- Number of seasons (only applicable for TV shows). NAN for Movies.\n",
        "\n",
        "11)\timdb_id- Unique identifier of the title on IMDB.\n",
        "\n",
        "12)\timdb_score- IMDB average rating score (Scale of 0 to 10).\n",
        "\n",
        "13)\timdb_votes- Number of IMDB votes received.\n",
        "\n",
        "14)\ttmdb_score- TMDB average rating score.\n",
        "\n",
        "15)\ttmdb_poplarity- TMDB popularity score.\n",
        "\n",
        "**Variable description of cast_data are as follows:**\n",
        "\n",
        "1)\tperson_id- The unique identifier for the name of Actor/Director in Amazon Prime.\n",
        "\n",
        "2)\tid- The unique identifier for the titles (in amazon_data) linked with cast_data.\n",
        "\n",
        "3)\tname- Name of the Actor/Director.\n",
        "\n",
        "4)\tcharacter- The role/character played in the Movie/TV-Show.\n",
        "\n",
        "5)\trole- Classified name in the role of Actor/Director.\n",
        "\n",
        "\n",
        "\n",
        "\n"
      ]
    },
    {
      "cell_type": "markdown",
      "metadata": {
        "id": "u3PMJOP6ngxN"
      },
      "source": [
        "### Check Unique Values for each variable."
      ]
    },
    {
      "cell_type": "code",
      "execution_count": null,
      "metadata": {
        "id": "c6DHx5v2lRE7",
        "collapsed": true
      },
      "outputs": [],
      "source": [
        "amazon_data.loc[:, 'title'].unique()"
      ]
    },
    {
      "cell_type": "code",
      "source": [
        "amazon_data.loc[:, 'title'].value_counts().reset_index()"
      ],
      "metadata": {
        "collapsed": true,
        "id": "DbgNEbb2ZA1e"
      },
      "execution_count": null,
      "outputs": []
    },
    {
      "cell_type": "code",
      "execution_count": null,
      "metadata": {
        "id": "dkbpJPoRlnKb",
        "collapsed": true
      },
      "outputs": [],
      "source": [
        "amazon_data.loc[:, 'type'].unique()"
      ]
    },
    {
      "cell_type": "code",
      "source": [
        "amazon_data.loc[:, 'type'].value_counts().reset_index()"
      ],
      "metadata": {
        "id": "FqebylmjZLq2",
        "collapsed": true
      },
      "execution_count": null,
      "outputs": []
    },
    {
      "cell_type": "code",
      "execution_count": null,
      "metadata": {
        "collapsed": true,
        "id": "eRStMnULltvk"
      },
      "outputs": [],
      "source": [
        "amazon_data.loc[:, 'release_year'].unique()  #The released year movie data is from 1934-2021"
      ]
    },
    {
      "cell_type": "code",
      "source": [
        "amazon_data.loc[:, 'release_year'].value_counts()"
      ],
      "metadata": {
        "collapsed": true,
        "id": "FE13n6imZTBN"
      },
      "execution_count": null,
      "outputs": []
    },
    {
      "cell_type": "code",
      "execution_count": null,
      "metadata": {
        "id": "UA6ovPfPmAN3"
      },
      "outputs": [],
      "source": [
        "amazon_data.loc[:, 'age_certification'].unique()"
      ]
    },
    {
      "cell_type": "code",
      "source": [
        "amazon_data.loc[:, 'age_certification'].value_counts()"
      ],
      "metadata": {
        "collapsed": true,
        "id": "mWFzv8uQZokM"
      },
      "execution_count": null,
      "outputs": []
    },
    {
      "cell_type": "code",
      "execution_count": null,
      "metadata": {
        "collapsed": true,
        "id": "FaHtCJ9cmJSX"
      },
      "outputs": [],
      "source": [
        "amazon_data.loc[:, 'runtime'].unique()"
      ]
    },
    {
      "cell_type": "code",
      "source": [
        "amazon_data.loc[:, 'runtime'].value_counts()"
      ],
      "metadata": {
        "collapsed": true,
        "id": "mRxaAcZRZ3po"
      },
      "execution_count": null,
      "outputs": []
    },
    {
      "cell_type": "code",
      "execution_count": null,
      "metadata": {
        "id": "fDhC-EyBmco-"
      },
      "outputs": [],
      "source": [
        "amazon_data.loc[:, 'genres'].unique()"
      ]
    },
    {
      "cell_type": "code",
      "source": [
        "amazon_data.loc[:, 'genres'].value_counts()"
      ],
      "metadata": {
        "collapsed": true,
        "id": "n3p2KwxGZ-PS"
      },
      "execution_count": null,
      "outputs": []
    },
    {
      "cell_type": "code",
      "execution_count": null,
      "metadata": {
        "collapsed": true,
        "id": "x_aM0z07mnuh"
      },
      "outputs": [],
      "source": [
        "amazon_data.loc[:, 'production_countries'].unique()"
      ]
    },
    {
      "cell_type": "code",
      "source": [
        "amazon_data.loc[:, 'production_countries'].value_counts()"
      ],
      "metadata": {
        "collapsed": true,
        "id": "tHNJbsgwaGsy"
      },
      "execution_count": null,
      "outputs": []
    },
    {
      "cell_type": "code",
      "execution_count": null,
      "metadata": {
        "id": "axjj1wlQnE9r",
        "collapsed": true
      },
      "outputs": [],
      "source": [
        "amazon_data.loc[:, 'imdb_score'].unique()"
      ]
    },
    {
      "cell_type": "code",
      "source": [
        "amazon_data.loc[:, 'imdb_score'].value_counts()"
      ],
      "metadata": {
        "collapsed": true,
        "id": "ySRKjZOaaNcA"
      },
      "execution_count": null,
      "outputs": []
    },
    {
      "cell_type": "code",
      "execution_count": null,
      "metadata": {
        "id": "d_Nnw3N7m_MF"
      },
      "outputs": [],
      "source": [
        "amazon_data.loc[:, 'imdb_votes'].unique()"
      ]
    },
    {
      "cell_type": "code",
      "source": [
        "amazon_data.loc[:, 'imdb_votes'].value_counts()"
      ],
      "metadata": {
        "collapsed": true,
        "id": "kqpN34HbaS2A"
      },
      "execution_count": null,
      "outputs": []
    },
    {
      "cell_type": "code",
      "execution_count": null,
      "metadata": {
        "id": "fph-_IcenMk_"
      },
      "outputs": [],
      "source": [
        "amazon_data.loc[:, 'tmdb_popularity'].unique()"
      ]
    },
    {
      "cell_type": "code",
      "source": [
        "amazon_data.loc[:, 'tmdb_popularity'].value_counts()"
      ],
      "metadata": {
        "collapsed": true,
        "id": "6zHO94uyaeez"
      },
      "execution_count": null,
      "outputs": []
    },
    {
      "cell_type": "code",
      "execution_count": null,
      "metadata": {
        "collapsed": true,
        "id": "X6bGdFQhnhOg"
      },
      "outputs": [],
      "source": [
        "amazon_data.loc[:, 'tmdb_score'].unique()"
      ]
    },
    {
      "cell_type": "code",
      "execution_count": null,
      "metadata": {
        "id": "tmEn4Zuenp_1",
        "collapsed": true
      },
      "outputs": [],
      "source": [
        "amazon_data.loc[:, 'imdb_votes'].value_counts()"
      ]
    },
    {
      "cell_type": "code",
      "execution_count": null,
      "metadata": {
        "id": "N0PD7MJjntU1"
      },
      "outputs": [],
      "source": [
        "cast_data.loc[:, 'name'].unique()"
      ]
    },
    {
      "cell_type": "code",
      "source": [
        "cast_data.loc[:, 'name'].value_counts()"
      ],
      "metadata": {
        "collapsed": true,
        "id": "SdBWRkJhasrh"
      },
      "execution_count": null,
      "outputs": []
    },
    {
      "cell_type": "code",
      "execution_count": null,
      "metadata": {
        "id": "Z0suukGBn12L"
      },
      "outputs": [],
      "source": [
        "cast_data.loc[:, 'character'].unique()"
      ]
    },
    {
      "cell_type": "code",
      "source": [
        "cast_data.loc[:, 'character'].value_counts()"
      ],
      "metadata": {
        "collapsed": true,
        "id": "wwrh-WOQazvG"
      },
      "execution_count": null,
      "outputs": []
    },
    {
      "cell_type": "code",
      "execution_count": null,
      "metadata": {
        "id": "6dmgTf_4n38J"
      },
      "outputs": [],
      "source": [
        "cast_data.loc[:, 'role'].unique()"
      ]
    },
    {
      "cell_type": "code",
      "source": [
        "cast_data.loc[:, 'role'].value_counts()"
      ],
      "metadata": {
        "id": "zi_p1-7oa3SH"
      },
      "execution_count": null,
      "outputs": []
    },
    {
      "cell_type": "markdown",
      "metadata": {
        "id": "dauF4eBmngu3"
      },
      "source": [
        "## 3. ***Data Wrangling***"
      ]
    },
    {
      "cell_type": "markdown",
      "metadata": {
        "id": "bKJF3rekwFvQ"
      },
      "source": [
        "### Data Wrangling Code"
      ]
    },
    {
      "cell_type": "markdown",
      "source": [
        "**Functions to convert list of genres and production countries names into string format.**"
      ],
      "metadata": {
        "id": "mUj_BK9JxIZx"
      }
    },
    {
      "cell_type": "code",
      "execution_count": null,
      "metadata": {
        "id": "wk-9a2fpoLcV"
      },
      "outputs": [],
      "source": [
        "# Write your code to make your dataset analysis ready.\n",
        "# Create an apply function to extract list and join values from list.\n",
        "def list_values(value):\n",
        "  try:\n",
        "    A=eval(value)\n",
        "    return ', '.join(A)\n",
        "  except:\n",
        "    return value"
      ]
    },
    {
      "cell_type": "code",
      "execution_count": null,
      "metadata": {
        "id": "6IhlnIwbKNLZ"
      },
      "outputs": [],
      "source": [
        "#Use the apply function on genres.\n",
        "amazon_data.loc[:, 'genres']=amazon_data.loc[:, 'genres'].apply(list_values)"
      ]
    },
    {
      "cell_type": "code",
      "execution_count": null,
      "metadata": {
        "id": "2rx0aDTKKy7Y"
      },
      "outputs": [],
      "source": [
        "#Use the apply function on production_countries.\n",
        "amazon_data.loc[:, 'production_countries']=amazon_data.loc[:, 'production_countries'].apply(list_values)"
      ]
    },
    {
      "cell_type": "code",
      "execution_count": null,
      "metadata": {
        "id": "OOZz20dRLbtL"
      },
      "outputs": [],
      "source": [
        "amazon_data.loc[:, 'production_countries'].replace({'United States of America': 'USA', 'US':'USA'}, inplace=True)"
      ]
    },
    {
      "cell_type": "code",
      "execution_count": null,
      "metadata": {
        "collapsed": true,
        "id": "QKwFdTnDLzwO"
      },
      "outputs": [],
      "source": [
        "amazon_data"
      ]
    },
    {
      "cell_type": "code",
      "source": [
        "#To check if there is any hidden missing values present in the columns\n",
        "amazon_data.loc[:, 'genres'].value_counts().head(20)\n"
      ],
      "metadata": {
        "collapsed": true,
        "id": "NDA1_vtoyI98"
      },
      "execution_count": null,
      "outputs": []
    },
    {
      "cell_type": "code",
      "source": [
        "#There are around  rows which was empty\n",
        "amazon_data.loc[amazon_data.loc[:, 'genres']=='']"
      ],
      "metadata": {
        "collapsed": true,
        "id": "yJgovQtFyplC"
      },
      "execution_count": null,
      "outputs": []
    },
    {
      "cell_type": "markdown",
      "source": [
        "**Check For Missing Values**"
      ],
      "metadata": {
        "id": "uULHY_KTzbz1"
      }
    },
    {
      "cell_type": "code",
      "execution_count": null,
      "metadata": {
        "id": "-kgvHjVJsWHK"
      },
      "outputs": [],
      "source": [
        "#Using the replace function to replace the hidden null values into NAN.\n",
        "amazon_data.replace('', np.nan, inplace=True)"
      ]
    },
    {
      "cell_type": "code",
      "execution_count": null,
      "metadata": {
        "collapsed": true,
        "id": "ibTkaFFHsqc6"
      },
      "outputs": [],
      "source": [
        "amazon_data.isnull().sum()"
      ]
    },
    {
      "cell_type": "code",
      "source": [
        "#Groupby done on Season column to check where the null values are present.\n",
        "amazon_data.groupby('type')['seasons'].count()"
      ],
      "metadata": {
        "collapsed": true,
        "id": "q7T1tfVn0PRp"
      },
      "execution_count": null,
      "outputs": []
    },
    {
      "cell_type": "markdown",
      "source": [
        "**Handling Missing Values.**"
      ],
      "metadata": {
        "id": "ra0K_WPJ0QoJ"
      }
    },
    {
      "cell_type": "code",
      "execution_count": null,
      "metadata": {
        "id": "Sp7MEJkItfZr",
        "collapsed": true
      },
      "outputs": [],
      "source": [
        "#To replace the missing values in genres.\n",
        "amazon_data.loc[:, 'genres'].mode()"
      ]
    },
    {
      "cell_type": "code",
      "execution_count": null,
      "metadata": {
        "id": "bqaTXPEnuEwz"
      },
      "outputs": [],
      "source": [
        "amazon_data.loc[:, 'genres'].fillna('drama', inplace=True)"
      ]
    },
    {
      "cell_type": "code",
      "execution_count": null,
      "metadata": {
        "id": "JzF9_tjIuNqN",
        "collapsed": true
      },
      "outputs": [],
      "source": [
        "#To replace the missing values in production_countries\n",
        "amazon_data.loc[:, 'production_countries'].mode()"
      ]
    },
    {
      "cell_type": "code",
      "execution_count": null,
      "metadata": {
        "id": "QMHJhgVjuPp5"
      },
      "outputs": [],
      "source": [
        "amazon_data.loc[:, 'production_countries'].fillna('USA', inplace=True)"
      ]
    },
    {
      "cell_type": "code",
      "execution_count": null,
      "metadata": {
        "id": "Bv7UDVqGuhva",
        "collapsed": true
      },
      "outputs": [],
      "source": [
        "amazon_data.describe(include='object')"
      ]
    },
    {
      "cell_type": "code",
      "execution_count": null,
      "metadata": {
        "collapsed": true,
        "id": "4XZGwsAuukRl"
      },
      "outputs": [],
      "source": [
        "#To replace the missing values in production_countries\n",
        "amazon_data.loc[:, 'description'].fillna('No overview found.', inplace=True)"
      ]
    },
    {
      "cell_type": "code",
      "execution_count": null,
      "metadata": {
        "id": "5XIF-oqgu8lV"
      },
      "outputs": [],
      "source": [
        "#To replace the missing values in age_certification\n",
        "amazon_data.loc[:, 'age_certification'].fillna('R', inplace=True)"
      ]
    },
    {
      "cell_type": "code",
      "source": [
        "#To check the unique data in production_countries\n",
        "amazon_data.loc[:, 'production_countries'].value_counts().head(30)"
      ],
      "metadata": {
        "collapsed": true,
        "id": "gzWoH63P3Emy"
      },
      "execution_count": null,
      "outputs": []
    },
    {
      "cell_type": "code",
      "source": [
        "#Replace the hidden missing values with NAN\n",
        "amazon_data.replace('XX', np.nan, inplace=True)"
      ],
      "metadata": {
        "id": "vDVxMCvq3YfU"
      },
      "execution_count": null,
      "outputs": []
    },
    {
      "cell_type": "code",
      "source": [
        "#To check the count of null values\n",
        "amazon_data.isnull().sum()"
      ],
      "metadata": {
        "collapsed": true,
        "id": "ljx6JYJV3q4u"
      },
      "execution_count": null,
      "outputs": []
    },
    {
      "cell_type": "code",
      "source": [
        "amazon_data.loc[:, 'production_countries'].mode()"
      ],
      "metadata": {
        "collapsed": true,
        "id": "V9nr2K7d32ay"
      },
      "execution_count": null,
      "outputs": []
    },
    {
      "cell_type": "code",
      "source": [
        "#Replace that with Mode values.\n",
        "amazon_data.loc[:, 'production_countries'].fillna('US', inplace=True)"
      ],
      "metadata": {
        "id": "82xFXEiO4DK6"
      },
      "execution_count": null,
      "outputs": []
    },
    {
      "cell_type": "markdown",
      "source": [
        "**Drop the column.**"
      ],
      "metadata": {
        "id": "rmjj7W6O0_A9"
      }
    },
    {
      "cell_type": "code",
      "execution_count": null,
      "metadata": {
        "id": "i7WH_fXBzU41"
      },
      "outputs": [],
      "source": [
        "#Drop the column which are not important.\n",
        "amazon_data.drop('imdb_id', axis=1, inplace=True)"
      ]
    },
    {
      "cell_type": "code",
      "execution_count": null,
      "metadata": {
        "collapsed": true,
        "id": "noWBEz-7zZoU"
      },
      "outputs": [],
      "source": [
        "amazon_data.isnull().sum()"
      ]
    },
    {
      "cell_type": "code",
      "source": [
        "amazon_data.loc[:, 'genres'].value_counts().head(20)"
      ],
      "metadata": {
        "collapsed": true,
        "id": "dFoZ-YC86Lzh"
      },
      "execution_count": null,
      "outputs": []
    },
    {
      "cell_type": "markdown",
      "metadata": {
        "id": "I4l4AHhg0eeK"
      },
      "source": [
        "**Handling the Missing Values in Numerical Columns.**"
      ]
    },
    {
      "cell_type": "code",
      "execution_count": null,
      "metadata": {
        "id": "IfVPhf0L0SrY",
        "collapsed": true
      },
      "outputs": [],
      "source": [
        "#To check the distribution of data using skew()\n",
        "A=['imdb_score', 'imdb_votes', 'tmdb_popularity', 'tmdb_score']\n",
        "for x in A:\n",
        "  print(x, '--->', amazon_data[x].skew())"
      ]
    },
    {
      "cell_type": "code",
      "execution_count": null,
      "metadata": {
        "collapsed": true,
        "id": "MEAOCgDv2f-U"
      },
      "outputs": [],
      "source": [
        "#If the values are in the range of -0.5 to 0.5: Use Mean\n",
        "amazon_data.loc[:, 'imdb_score'].fillna(amazon_data['imdb_score'].mean(), inplace=True)\n",
        "amazon_data.loc[:, 'tmdb_score'].fillna(amazon_data['tmdb_score'].mean(), inplace=True)"
      ]
    },
    {
      "cell_type": "code",
      "execution_count": null,
      "metadata": {
        "collapsed": true,
        "id": "P_CuagPa3QlH"
      },
      "outputs": [],
      "source": [
        "#If the distribution is right skewed: Use Median\n",
        "amazon_data.loc[:, 'tmdb_popularity'].fillna(amazon_data['tmdb_popularity'].median(), inplace=True)\n",
        "amazon_data.loc[:, 'imdb_votes'].fillna(amazon_data['imdb_votes'].median(), inplace=True)"
      ]
    },
    {
      "cell_type": "code",
      "source": [
        "amazon_data.loc[:, 'tmdb_popularity']"
      ],
      "metadata": {
        "collapsed": true,
        "id": "RLpY6WPkaJ__"
      },
      "execution_count": null,
      "outputs": []
    },
    {
      "cell_type": "code",
      "execution_count": null,
      "metadata": {
        "collapsed": true,
        "id": "wEWOxru73yL1"
      },
      "outputs": [],
      "source": [
        "amazon_data.isnull().sum()"
      ]
    },
    {
      "cell_type": "code",
      "execution_count": null,
      "metadata": {
        "id": "bWMx4kNO6Et1"
      },
      "outputs": [],
      "source": [
        "#Filling the values in Season.\n",
        "amazon_data.loc[:, 'seasons'].fillna(0, inplace=True)"
      ]
    },
    {
      "cell_type": "code",
      "source": [
        "#Converting column season into integer.\n",
        "amazon_data['seasons']=amazon_data['seasons'].astype('int64', errors='raise')"
      ],
      "metadata": {
        "id": "o1aEzLxFqfxZ"
      },
      "execution_count": null,
      "outputs": []
    },
    {
      "cell_type": "code",
      "execution_count": null,
      "metadata": {
        "collapsed": true,
        "id": "vdLNxKb07L6V"
      },
      "outputs": [],
      "source": [
        "amazon_data.isnull().sum()"
      ]
    },
    {
      "cell_type": "markdown",
      "source": [
        "**Handling Null Values in Cast Data**"
      ],
      "metadata": {
        "id": "1uo1aglQ2oOQ"
      }
    },
    {
      "cell_type": "code",
      "execution_count": null,
      "metadata": {
        "collapsed": true,
        "id": "YQGOS06x7R-i"
      },
      "outputs": [],
      "source": [
        "#Checking Null values in Cast_data\n",
        "cast_data.isnull().sum()"
      ]
    },
    {
      "cell_type": "code",
      "execution_count": null,
      "metadata": {
        "id": "NBlDp24T7WO3",
        "collapsed": true
      },
      "outputs": [],
      "source": [
        "#Replacing null Values in character columns\n",
        "cast_data.loc[:, 'character'].mode()"
      ]
    },
    {
      "cell_type": "code",
      "execution_count": null,
      "metadata": {
        "id": "RMPeU0zw7cjs"
      },
      "outputs": [],
      "source": [
        "cast_data.loc[:, 'character'].fillna('Himself', inplace=True)"
      ]
    },
    {
      "cell_type": "code",
      "execution_count": null,
      "metadata": {
        "collapsed": true,
        "id": "3y7JJHDi7jbu"
      },
      "outputs": [],
      "source": [
        "cast_data.isnull().sum()"
      ]
    },
    {
      "cell_type": "code",
      "execution_count": null,
      "metadata": {
        "id": "xdwT9brC71rf"
      },
      "outputs": [],
      "source": [
        "#Replace USA with US\n",
        "amazon_data.loc[:, 'production_countries'].replace({'USA': 'US'}, inplace=True)"
      ]
    },
    {
      "cell_type": "code",
      "source": [
        "amazon_data.isnull().sum()"
      ],
      "metadata": {
        "collapsed": true,
        "id": "1p2338vibWum"
      },
      "execution_count": null,
      "outputs": []
    },
    {
      "cell_type": "code",
      "source": [
        "amazon_data['imdb_votes'].unique()"
      ],
      "metadata": {
        "collapsed": true,
        "id": "hy9ShJAo4e1v"
      },
      "execution_count": null,
      "outputs": []
    },
    {
      "cell_type": "markdown",
      "source": [
        "**Data-type Conversion**"
      ],
      "metadata": {
        "id": "e9Ge0RX35YGc"
      }
    },
    {
      "cell_type": "code",
      "source": [
        "#Round and convert IMDB votes to int.\n",
        "amazon_data['imdb_votes']=amazon_data['imdb_votes'].round().astype('int64', errors='raise')"
      ],
      "metadata": {
        "id": "1TeFEtobqrCe"
      },
      "execution_count": null,
      "outputs": []
    },
    {
      "cell_type": "code",
      "source": [
        "amazon_data['imdb_votes']"
      ],
      "metadata": {
        "collapsed": true,
        "id": "zJEcGliTrbHL"
      },
      "execution_count": null,
      "outputs": []
    },
    {
      "cell_type": "code",
      "execution_count": null,
      "metadata": {
        "collapsed": true,
        "id": "B2a7ZScJ-jS3"
      },
      "outputs": [],
      "source": [
        "data=pd.merge(amazon_data, cast_data, on='id', how='inner')\n",
        "data"
      ]
    },
    {
      "cell_type": "markdown",
      "source": [
        "**apply() function with lambda function.**"
      ],
      "metadata": {
        "id": "4az3CQ4B6Xyh"
      }
    },
    {
      "cell_type": "code",
      "source": [
        "amazon_data.loc[:, 'imdb_score'].unique()"
      ],
      "metadata": {
        "collapsed": true,
        "id": "y1nVOKsFujLC"
      },
      "execution_count": null,
      "outputs": []
    },
    {
      "cell_type": "code",
      "source": [
        "# round imdb-score values to 1 decimal places\n",
        "amazon_data.loc[:, 'imdb_score']=amazon_data.loc[:, 'imdb_score'].apply(lambda x: round(x, 1))"
      ],
      "metadata": {
        "id": "R4H9s0T2VaBq"
      },
      "execution_count": null,
      "outputs": []
    },
    {
      "cell_type": "code",
      "source": [
        "# round tmdb-score values to 1 decimal places\n",
        "amazon_data.loc[:, 'tmdb_score']=amazon_data.loc[:, 'tmdb_score'].apply(lambda x: round(x, 1))"
      ],
      "metadata": {
        "id": "4Io91ZJLd0Ty"
      },
      "execution_count": null,
      "outputs": []
    },
    {
      "cell_type": "markdown",
      "source": [
        "**Create a new column.**"
      ],
      "metadata": {
        "id": "8qBxcbrN8l9i"
      }
    },
    {
      "cell_type": "code",
      "source": [
        "amazon_data.loc[:, 'imdb_score'].unique()"
      ],
      "metadata": {
        "id": "zsPDDekj8uXs"
      },
      "execution_count": null,
      "outputs": []
    },
    {
      "cell_type": "code",
      "source": [
        "#Custom function to define IMDB Status\n",
        "def movie_status(x):\n",
        "  if x>0.0 and x<5.0:\n",
        "    return 'Bad Rating'\n",
        "  elif x>=5.0 and x<7.0:\n",
        "    return 'Average Rating'\n",
        "  else:\n",
        "    return 'Good Rating'"
      ],
      "metadata": {
        "id": "ERr54iUWv2t8"
      },
      "execution_count": null,
      "outputs": []
    },
    {
      "cell_type": "code",
      "source": [
        "#To check the rating of IMDB\n",
        "movie_status(7.)"
      ],
      "metadata": {
        "id": "nYBmO-43WHUg"
      },
      "execution_count": null,
      "outputs": []
    },
    {
      "cell_type": "code",
      "source": [
        "#Use apply function to a new column.\n",
        "amazon_data.loc[:, 'IMDB Rating Status']=amazon_data.loc[:, 'imdb_score'].apply(movie_status)"
      ],
      "metadata": {
        "id": "QzTNapa4vw6a"
      },
      "execution_count": null,
      "outputs": []
    },
    {
      "cell_type": "markdown",
      "source": [
        "**Rename the Column**"
      ],
      "metadata": {
        "id": "dldzn3vK9nYa"
      }
    },
    {
      "cell_type": "code",
      "source": [
        "# rename columns to give standardized name\n",
        "amazon_data.rename({'type': 'Type'}, axis=1, inplace=True)\n",
        "amazon_data.rename({'release_year': 'Release Year'}, axis=1, inplace=True)\n",
        "amazon_data.rename({'imdb_score': 'IMDB Score'}, axis=1, inplace=True)\n",
        "amazon_data.rename({'imdb_votes': 'IMDB Votes'}, axis=1, inplace=True)\n",
        "amazon_data.rename({'tmdb_popularity': 'TMDB Popularity', 'tmdb_score': 'TMDB Score'}, axis=1, inplace=True)\n",
        "amazon_data.rename({'age_certification': 'Age Certification'}, axis=1, inplace=True)\n",
        "amazon_data.rename({'production_countries': 'Production Countries', 'title': 'Title', 'description': 'Description', 'seasons': 'Seasons', 'genres': 'Genres', 'runtime': 'Runtime'}, axis=1, inplace=True)"
      ],
      "metadata": {
        "id": "-Bfijw8E9ql6"
      },
      "execution_count": null,
      "outputs": []
    },
    {
      "cell_type": "code",
      "source": [
        "#Rename the column for the cast dat\n",
        "cast_data.rename({'name': 'Name', 'character': 'Character', 'role': 'Role'}, axis=1, inplace=True)"
      ],
      "metadata": {
        "id": "3zqlT-K_zPwJ"
      },
      "execution_count": null,
      "outputs": []
    },
    {
      "cell_type": "code",
      "source": [
        "amazon_data.columns"
      ],
      "metadata": {
        "id": "rmcPKyc7zVBP"
      },
      "execution_count": null,
      "outputs": []
    },
    {
      "cell_type": "markdown",
      "source": [
        "**Row-values Cleanup**"
      ],
      "metadata": {
        "id": "1wXD6KGFvPGH"
      }
    },
    {
      "cell_type": "code",
      "source": [
        "# convert Type into capitalize case using lambda function\n",
        "amazon_data.loc[:, 'Type']=amazon_data.loc[:, 'Type'].apply(lambda x : x.capitalize())\n"
      ],
      "metadata": {
        "collapsed": true,
        "id": "uSSAhftqwemQ"
      },
      "execution_count": null,
      "outputs": []
    },
    {
      "cell_type": "code",
      "source": [
        "# convert Role into capitalize case using lambda function\n",
        "cast_data.loc[:, 'Role']=cast_data.loc[:, 'Role'].apply(lambda x : x.capitalize())"
      ],
      "metadata": {
        "id": "QUdc5lCb0LiR"
      },
      "execution_count": null,
      "outputs": []
    },
    {
      "cell_type": "markdown",
      "source": [
        "**How many titles fall under each age certification?**"
      ],
      "metadata": {
        "id": "0z_L1HC1QwR8"
      }
    },
    {
      "cell_type": "code",
      "source": [
        "#Group By function to find the number of title per age certification.\n",
        "amazon_data.groupby('Age Certification')['Title'].count().reset_index().sort_values('Title', ascending=False)"
      ],
      "metadata": {
        "id": "Prej7vg2A0RM",
        "collapsed": true
      },
      "execution_count": null,
      "outputs": []
    },
    {
      "cell_type": "markdown",
      "source": [
        "**What are the trends of a release year over a period of time?**"
      ],
      "metadata": {
        "id": "-jcxyAvxWfVM"
      }
    },
    {
      "cell_type": "code",
      "source": [
        "#Group By function to find the number of released title per year.\n",
        "amazon_data.groupby('Release Year')['Title'].count().reset_index().sort_values('Title', ascending=False).head(30)"
      ],
      "metadata": {
        "collapsed": true,
        "id": "r7IqBsfvWXGd"
      },
      "execution_count": null,
      "outputs": []
    },
    {
      "cell_type": "markdown",
      "source": [
        "**What are the most common performing genres?**"
      ],
      "metadata": {
        "id": "I8_GjbO-XVIx"
      }
    },
    {
      "cell_type": "code",
      "source": [
        "#Convert the genres into list using split()\n",
        "\n",
        "#Use explode to explode multiple-genres rows into individual rows.\n",
        "common_genres=amazon_data.loc[:, 'Genres'].str.split(', ').explode()\n",
        "\n",
        "#Count the number of unique genres\n",
        "common_genres.value_counts()\n"
      ],
      "metadata": {
        "collapsed": true,
        "id": "guCibc5gXbAe"
      },
      "execution_count": null,
      "outputs": []
    },
    {
      "cell_type": "markdown",
      "source": [
        "**What are the average IMDB score of all titles based on different genres?**"
      ],
      "metadata": {
        "id": "DdCMAZ8hc4Zw"
      }
    },
    {
      "cell_type": "code",
      "source": [
        "avg_score=amazon_data.groupby('Genres').agg({'IMDB Score': 'mean', 'Title':'count'}).reset_index().sort_values('IMDB Score', ascending=False)\n",
        "\n",
        "#Filter the data to find title>10\n",
        "filter_title=avg_score.loc[(avg_score.loc[:, 'Title']>5) & (avg_score.loc[:, 'IMDB Score']>=7)].head(10)\n",
        "\n",
        "#Show the Filter Title\n",
        "filter_title"
      ],
      "metadata": {
        "collapsed": true,
        "id": "MpegPiq9bNjL"
      },
      "execution_count": null,
      "outputs": []
    },
    {
      "cell_type": "markdown",
      "source": [
        "**Compare TMDB popluarity by Content Type**"
      ],
      "metadata": {
        "id": "TaGp-lqQtesD"
      }
    },
    {
      "cell_type": "code",
      "source": [
        "tmdb_popularity=amazon_data.groupby('Type')['TMDB Popularity'].mean().reset_index()\n",
        "print(tmdb_popularity)"
      ],
      "metadata": {
        "id": "-uCPORzYtuR7"
      },
      "execution_count": null,
      "outputs": []
    },
    {
      "cell_type": "markdown",
      "source": [
        "**Handle Outliers**"
      ],
      "metadata": {
        "id": "unNshN_nAcyk"
      }
    },
    {
      "cell_type": "code",
      "source": [
        "plt.figure(figsize=(10, 4))\n",
        "sns.boxplot(amazon_data, x='IMDB Votes')\n",
        "plt.show()"
      ],
      "metadata": {
        "collapsed": true,
        "id": "ABgo3FE4DrxZ"
      },
      "execution_count": null,
      "outputs": []
    },
    {
      "cell_type": "code",
      "source": [
        "Q1=amazon_data.loc[:, 'IMDB Votes'].quantile(0.25)\n",
        "print(Q1)\n",
        "#138.0--In the imdb_votes -ratio 25 % data is less than 138.0."
      ],
      "metadata": {
        "id": "SLUoPcFfEdyK"
      },
      "execution_count": null,
      "outputs": []
    },
    {
      "cell_type": "code",
      "source": [
        "Q3=amazon_data.loc[:, 'IMDB Votes'].quantile(0.75)\n",
        "print(Q3)\n",
        "#138.0--In the imdb_votes-ratio 75 % data is less than 1763.25."
      ],
      "metadata": {
        "id": "wcJ25VuQROrh"
      },
      "execution_count": null,
      "outputs": []
    },
    {
      "cell_type": "code",
      "source": [
        "IQR=amazon_data.loc[:, 'IMDB Votes'].quantile(0.75)-amazon_data.loc[:, 'IMDB Votes'].quantile(0.25)\n",
        "print(IQR)\n"
      ],
      "metadata": {
        "id": "mp_yR4OYReoJ"
      },
      "execution_count": null,
      "outputs": []
    },
    {
      "cell_type": "code",
      "source": [
        "#Lower Bound\n",
        "#Any Value< Q1- 1.5 * IQR\n",
        "lower_bound=amazon_data.loc[:, 'IMDB Votes'].quantile(0.25)- 1.5 * IQR\n",
        "print(lower_bound)"
      ],
      "metadata": {
        "id": "SbZ3QUG8Sb5L"
      },
      "execution_count": null,
      "outputs": []
    },
    {
      "cell_type": "code",
      "source": [
        "#Upper Bound\n",
        "#Any Value>Q3 + 1.5 * IQR\n",
        "upper_bound=amazon_data.loc[:, 'IMDB Votes'].quantile(0.75) + 1.5 * IQR\n",
        "print(upper_bound)"
      ],
      "metadata": {
        "id": "ahnFS9jhTEHX"
      },
      "execution_count": null,
      "outputs": []
    },
    {
      "cell_type": "code",
      "source": [
        "#To fetch an outlier find the value which is less than lower limit\n",
        "amazon_data.loc[amazon_data.loc[:, 'IMDB Votes']<lower_bound]"
      ],
      "metadata": {
        "id": "MbegSDfnTyDe"
      },
      "execution_count": null,
      "outputs": []
    },
    {
      "cell_type": "code",
      "source": [
        "#To fetch an outlier find the value which is greater than upper limit\n",
        "amazon_data.loc[amazon_data.loc[:, 'IMDB Votes']>upper_bound]"
      ],
      "metadata": {
        "id": "DrndY_mFUWDv",
        "collapsed": true
      },
      "execution_count": null,
      "outputs": []
    },
    {
      "cell_type": "code",
      "source": [
        "len(amazon_data.loc[amazon_data.loc[:,'IMDB Votes']>upper_bound])/len(amazon_data)*100"
      ],
      "metadata": {
        "id": "kQ4_jUARAAdW"
      },
      "execution_count": null,
      "outputs": []
    },
    {
      "cell_type": "code",
      "source": [
        "movie_data=pd.merge(amazon_data, cast_data, on='id', how='inner')"
      ],
      "metadata": {
        "id": "JaDr__emgjcj"
      },
      "execution_count": null,
      "outputs": []
    },
    {
      "cell_type": "code",
      "source": [
        "movie_data.duplicated().sum()"
      ],
      "metadata": {
        "id": "zROhkMlyTDLe"
      },
      "execution_count": null,
      "outputs": []
    },
    {
      "cell_type": "code",
      "source": [
        "movie_data.drop_duplicates(ignore_index=True, inplace=True)"
      ],
      "metadata": {
        "id": "Yu3BaW5sTJld"
      },
      "execution_count": null,
      "outputs": []
    },
    {
      "cell_type": "markdown",
      "source": [
        "**What are the names of the Top 10 actors who worked in number of different unique genres in Amazon Prime?**"
      ],
      "metadata": {
        "id": "i5lkQKUyuz2n"
      }
    },
    {
      "cell_type": "code",
      "source": [
        "# Filter data with actor\n",
        "movie_data.loc[movie_data.loc[:, 'Role']=='Actor']\n",
        "\n",
        "#Groupby data with actor names and count the  number of unique genres.\n",
        "movie_data.groupby(['Name'])['Genres'].nunique().reset_index().sort_values('Genres', ascending=False).head(10)\n"
      ],
      "metadata": {
        "collapsed": true,
        "id": "adb8_uaIqagg"
      },
      "execution_count": null,
      "outputs": []
    },
    {
      "cell_type": "markdown",
      "metadata": {
        "id": "MSa1f5Uengrz"
      },
      "source": [
        "### What all manipulations have you done and insights you found?"
      ]
    },
    {
      "cell_type": "markdown",
      "metadata": {
        "id": "LbyXE7I1olp8"
      },
      "source": [
        "The following manipulations done inside the dataset to make data more reliable to work on:\n",
        "\n",
        "**1)\tColumn Cleanup:**\n",
        "\n",
        "Drop irrelevant columns like imdb_id which contains unique string values. It’s not needed as there is no external dataset to link with IMDB data.\n",
        "\n",
        "Rename columns for consistency and give standardized look- imdb_score as IMDB Score, release_year as Release Year etc.\n",
        "\n",
        "**2)\tRow Cleanup:**\n",
        "\n",
        "Fix text case consistency:\n",
        "\n",
        "•\tMake text like Movie or Show in Type column.\n",
        "\n",
        "•\tMake text like Actor or Director in Role column.\n",
        "\n",
        "**3)\tData Type Conversion:**\n",
        "\n",
        "•\tConverted IMDB Votes to integer as votes represent number of people who rated a title.\n",
        "\n",
        "•\tConverted seasons to integer as season needs to represented as naturally whole number.\n",
        "\n",
        "\n",
        "**4)\tHandling Missing Values:**\n",
        "\n",
        "•\tCategorical columns like description, Age Certification, genres, Production Countries values are replaced. Similarly, values are replaced in another dataset for character column.\n",
        "\n",
        "•\tNumerical columns like IMDB Votes, IMDB Score, TMDB popularity and TMDB score value are replaced with mean and median. The season column is only relevant for TV-Show. Hence replaced with 0 for Movies which represent No season for Movies.\n",
        "\n",
        "**5)\tRating Processing:**\n",
        "\n",
        "Rounded IMDB Score and TMDB Score to one decimal for making data more consistent, readable and clean. IMDB Score like 7.8734, 6.9999, or 8.2323 become 7.9, 7.0 and 8.2.\n",
        "\n",
        "**6)\tData Inconsistency:**\n",
        "\n",
        "•\tGenres and Production Countries: Both columns represent a list type object data which is inconsistent. Hence list values are extracted and cleaned using custom function.\n",
        "\n",
        "•\tCountry Abbreviations in Production Countries:  Standardized Countries abbreviation like United States of America/USA/US are replaced with US.\n",
        "\n",
        "•\tHidden Null Values which cannot be interpretated are extracted from genres and Production Countries column and replaced it with mode.\n",
        "\n",
        "**7)\t IMDB score Categorization:**\n",
        "\n",
        "Created a new column IMDb Rating Status:\n",
        "\n",
        "•\tGood Rating: IMDb ≥ 7\n",
        "\n",
        "•\tAverage Rating: 5 ≤ IMDb < 7\n",
        "\n",
        "•\tLow Rating: IMDb < 5\n",
        "\n",
        "**8)\tGrouping and Aggregation:**\n",
        "\n",
        "Group Data By:\n",
        "\n",
        "•\tAge certification to find title distribution.\n",
        "\n",
        "•\tRelease Year to view trends over a time.\n",
        "\n",
        "•\tGenres to find most common performing genres.\n",
        "\n",
        "•\tGenres based on average IMDB score.\n",
        "\n",
        "•\tNames of the actor worked on multiple genres.\n",
        "\n",
        "**9)\tInsight Found:**\n",
        "\n",
        "**Age certification to find title distribution.**\n",
        "\n",
        "•\tR has the highest number of titles that target mature audience.\n",
        "\n",
        "•\tPG-13 and PG hold moderate number of titles(588, 582) which also target mature audience on broader scale.\n",
        "\n",
        "•\tNC-17 or unrated title are rare.\n",
        "\n",
        "**Release Year to view trends over a time.**\n",
        "\n",
        "•\tYear 2021 and Year 2019 hold a maximum number of titles. It’s likely to linked with Pandemic era Covid 19 lockdown boosting streaming demand.\n",
        "\n",
        "•\tMajor Fall found in the year 2022 due to production-delays.\n",
        "\n",
        "**Genres to find most common performing genres.**\n",
        "\n",
        "•\tDrama is by far the most common genres appears to be in majority of titles.\n",
        "\n",
        "•\tHigh Presence of comedy, thriller, action, romance, crime, documentation and horror also engaged audience with moderate majority of titles.\n",
        "\n",
        "•\tSport and Reality by far carry the fewer titles as compared to overall genres.\n",
        "\n",
        "**Genres based on average IMDB score.**\n",
        "\n",
        "•\tMulti Genres with Documentation like ‘documentation, drama’, ‘documentation, sport’, ‘documentation, crime’, ‘documentation, family’, ‘reality, documentation’, ‘war, documentation, history’, ‘documentation, comedy’ were served on large scale and also carries IMDB Good rating score.\n",
        "\n",
        "•\tanimation, comedy genres also top the chart with constant good IMDB rating.\n",
        "\n",
        "•\tMulti Genres with Drama like ‘drama, crime, european’ and ‘drama, scifi, thriller’ also carries good IMDB score.\n",
        "\n",
        "**Names of the actor woked on multiple genres.**\n",
        "\n",
        "\n",
        "•\tThese top actors have appeared in the widest variety of genres, showcasing their versatility and broad audience appeal.\n",
        "\n",
        "\n",
        "**10)\t Handle Outliers:**\n",
        "\n",
        "•\tFound Outliers in right side location of the box-plot.\n",
        "\n",
        "•\tIMDb votes are right-skewed — a few very popular titles get disproportionately high votes.\n",
        "\n",
        "•\tMost outlier will be blockbusters or cult hit.\n",
        "\n"
      ]
    },
    {
      "cell_type": "markdown",
      "metadata": {
        "id": "GF8Ens_Soomf"
      },
      "source": [
        "## ***4. Data Vizualization, Storytelling & Experimenting with charts : Understand the relationships between variables***"
      ]
    },
    {
      "cell_type": "markdown",
      "metadata": {
        "id": "0wOQAZs5pc--"
      },
      "source": [
        "#### Chart - 1"
      ]
    },
    {
      "cell_type": "markdown",
      "metadata": {
        "id": "ZfzTfvdl2Oc0"
      },
      "source": [
        "**What is the distribution of runtime for movies and shows available on Amazon Prime?**"
      ]
    },
    {
      "cell_type": "code",
      "execution_count": null,
      "metadata": {
        "collapsed": true,
        "id": "7v_ESjsspbW7"
      },
      "outputs": [],
      "source": [
        "# Chart - 1 visualization code\n",
        "\n",
        "# Set aesthetic styling first\n",
        "\n",
        "\n",
        "fig, ax=plt.subplots(figsize=(15, 5))\n",
        "sns.histplot(amazon_data, x='Runtime', bins=30, kde=True, hue='Type', ax=ax, edgecolor='black')\n",
        "ax.set_title('Distribution of Runtimes: Amazon Prime Movies vs TV Shows', weight=\"bold\")\n",
        "ax.set_xlabel('Runtime', size=10)\n",
        "ax.set_ylabel('Counts', size=10)\n",
        "ax.set_xlim(0, 300)\n",
        "\n",
        "# Ticks styling\n",
        "ax.tick_params(axis='x', labelsize=10)\n",
        "ax.tick_params(axis='y', labelsize=10)\n",
        "\n",
        "\n",
        "plt.tight_layout()\n",
        "plt.show()\n"
      ]
    },
    {
      "cell_type": "markdown",
      "metadata": {
        "id": "K5QZ13OEpz2H"
      },
      "source": [
        "##### 1. Why did you pick the specific chart?"
      ]
    },
    {
      "cell_type": "markdown",
      "metadata": {
        "id": "XESiWehPqBRc"
      },
      "source": [
        "Histogram helps to visualize the distribution of duration of Movies and TV shows and how the variable are spread. By showing both distributions side-by-side, we can easily compare how durations differ between movies and shows."
      ]
    },
    {
      "cell_type": "markdown",
      "metadata": {
        "id": "lQ7QKXXCp7Bj"
      },
      "source": [
        "##### 2. What is/are the insight(s) found from the chart?"
      ]
    },
    {
      "cell_type": "markdown",
      "metadata": {
        "id": "C_j1G7yiqdRP"
      },
      "source": [
        "**Insight:**\n",
        "\n",
        "**Movies and TV-Shows Distribution:**\n",
        "\n",
        "The distribution of durations for Amazon Prime content shows distinct patterns for Movies and TV-shows:\n",
        "\n",
        "**Movies:**\n",
        "\n",
        "•\tHave a strong peak around 90 Minutes, indicating a standard feature-length tuntime.\n",
        "\n",
        "•\tMost movie runtimes are concentrated between 80 to 120 minutes.\n",
        "\n",
        "•\tSome longtail movies go beyond 200 minutes, but they are rare.\n",
        "\n",
        "**TV-Shows:**\n",
        "\n",
        "•\tAppear in cluster below 60 minutes, likely indicating episode lengths or encoded as number of seasons or average episode length.\n",
        "\n",
        "•\tShort runtimes like 0-30 minutes may indicate short format series.\n",
        "\n",
        "•\tMuch lower count compared to movies, which is expected as movies dominates the platform.\n",
        "\n",
        "\n",
        "**Spotting Outliers:**\n",
        "\n",
        "•\tLong tail in movie runtimes shows outliers like extra-long films.\n",
        "\n",
        "•\tTV shows show multiple runtime formats, indicating variety in episode structure.\n",
        "\n"
      ]
    },
    {
      "cell_type": "markdown",
      "metadata": {
        "id": "448CDAPjqfQr"
      },
      "source": [
        "##### 3. Will the gained insights help creating a positive business impact?\n",
        "Are there any insights that lead to negative growth? Justify with specific reason."
      ]
    },
    {
      "cell_type": "markdown",
      "metadata": {
        "id": "3cspy4FjqxJW"
      },
      "source": [
        "**Positive Impact:**\n",
        "\n",
        "**Catered User Engagement Pattern:**\n",
        "\n",
        "•\tMovies (90 Minutes) satisfy users looking for quick one-time entertainment.\\\\\n",
        "\n",
        "•\tTV-Shows (20-50 Minutes) cater to binge watchers who prefer episodic, ongoing content.\n",
        "\n",
        "•\tIt enables the personalized content recommendation based on user watch habit, increasing retention and engagement.\n",
        "\n",
        "**Content Diversification Strategy:**\n",
        "\n",
        "•\tThe platform offers both short and long form content, covering a wide spectrum of preferences.\n",
        "\n",
        "•\tThis diversity help Amazon Prime attract a broader audience (e.g. busy professionals vs weekend binge-watchers).\n",
        "\n",
        "•\tImproves subscription appeal across different demographics and time constraints.\n",
        "\n",
        "**Data Driven Productions and Acquisition:**\n",
        "\n",
        "•\tIdentifying that 90 mins is a sweet spot for movie runtimes guides content production and licensing decision.\n",
        "\n",
        "•\tSimilarly for TV shows with 22-45 minutes episode can be targeted for acquisition aligning with viewer habit.\n",
        "\n",
        "•\tIt will improve ROI on content investments by aligning with proven audience preferences.\n",
        "\n",
        "\n",
        "**Negative Impact:**\n",
        "\n",
        "**Lack of Runtime Diversity in TV Shows:**\n",
        "\n",
        "•\tTV-Shows are mostly clustered around 20-50 minutes, with few longer or shorter episodes.\n",
        "\n",
        "•\tThis limits appeal for only viewers who prefer:\n",
        "\n",
        "1)\tMicro-content (under 10-15 mins, only for mobile user).\n",
        "\n",
        "2)\tLong-format story telling (60 min, preferred for dramas, documentary).  \n",
        "\n",
        "•\tIt could leads to viewer fatigue or loss of audience to platform like Youtube Shorts or Netflix broader format.\n",
        "\n",
        "**Not fully capturing Regional Preferences:**\n",
        "\n",
        "•\tDifferent regions may have distinct content duration preferences (Indian dramas often span > 40 minutes per episode).\n",
        "\n",
        "•\tUniform runtime distribution may not align with localized user expectations.\n",
        "\n",
        "•\tHampers global market penetration and viewers satisfaction in cultural diverse region.\n",
        "\n",
        "**Viewer Burnout Risk:**\n",
        "\n",
        "•\tRepetitive runtimes can make content feel predictable or formulaic.\n",
        "\n",
        "•\tLack of variety may reduce excitement or curiosity, impacting binge worthiness.\n",
        "\n",
        "•\tMay lead to drop in engagement or watch time per session.\n"
      ]
    },
    {
      "cell_type": "markdown",
      "metadata": {
        "id": "KSlN3yHqYklG"
      },
      "source": [
        "#### Chart - 2"
      ]
    },
    {
      "cell_type": "markdown",
      "metadata": {
        "id": "ewSeOEMN-Smu"
      },
      "source": [
        "**What is the volume of Good, Bad and Average Rating of movies and TV-Shows in Amazon Prime?**\n"
      ]
    },
    {
      "cell_type": "code",
      "execution_count": null,
      "metadata": {
        "collapsed": true,
        "id": "R4YgtaqtYklH"
      },
      "outputs": [],
      "source": [
        "# Chart - 2 visualization code\n",
        "movie_rating=amazon_data.loc[amazon_data.loc[:, 'Type']=='Movie']\n",
        "show_rating=amazon_data.loc[amazon_data.loc[:, 'Type']=='Show']\n",
        "\n",
        "fig, ax=plt.subplots(1, 2, figsize=(15, 5))\n",
        "sns.countplot(movie_rating, x='IMDB Rating Status', ax=ax[0], palette='pastel')\n",
        "ax[0].set_title('Distribution of Movie Ratings in Amazon Prime', weight=\"bold\")\n",
        "ax[0].set_xlabel('IMDb Rating Category')\n",
        "ax[0].set_ylabel('Frequency')\n",
        "ax[0].tick_params(axis='x')\n",
        "sns.countplot(show_rating, x='IMDB Rating Status', ax=ax[1], palette='pastel')\n",
        "ax[1].set_title('Distribution of TV-Show Ratings in Amazon Prime', weight=\"bold\")\n",
        "ax[1].set_xlabel('IMDb Rating Category')\n",
        "ax[1].set_ylabel('Frequency')\n",
        "ax[1].tick_params(axis='x')\n",
        "\n",
        "sns.set_context('notebook')\n",
        "sns.set_style(\"whitegrid\")\n",
        "plt.show()"
      ]
    },
    {
      "cell_type": "markdown",
      "metadata": {
        "id": "t6dVpIINYklI"
      },
      "source": [
        "##### 1. Why did you pick the specific chart?"
      ]
    },
    {
      "cell_type": "markdown",
      "metadata": {
        "id": "5aaW0BYyYklI"
      },
      "source": [
        "To analyse the performance of the movies and TV-shows based on the imdb-ratings. The count plot help us to track the record of how many movies and TV-shows perform Good, Bad and Worse in OTT platform."
      ]
    },
    {
      "cell_type": "markdown",
      "metadata": {
        "id": "ijmpgYnKYklI"
      },
      "source": [
        "##### 2. What is/are the insight(s) found from the chart?"
      ]
    },
    {
      "cell_type": "markdown",
      "metadata": {
        "id": "PSx9atu2YklI"
      },
      "source": [
        "The following insights help to track the progress of the performance of Movies and TV-shows.\n",
        "\n",
        "**Rating Distribution:**\n",
        "\n",
        "**Movies:**\n",
        "\n",
        "•\tMost movies are average-rated.\n",
        "\n",
        "•\tA significant number are bad-rated, which might hurt platform reputation.\n",
        "\n",
        "•\tFewer movies are highly rated, suggesting scope for improving movie selection.\n",
        "\n",
        "**TV Shows:**\n",
        "\n",
        "•\tMajority have good or average ratings, indicating strong content curation.\n",
        "\n",
        "•\tVery few bad-rated shows — a positive sign of quality.\n",
        "\n",
        "\n",
        "\n",
        "**Performance Indication:**\n",
        "\n",
        "\n",
        "The above plot gradually indicates that TV-show is leading more with Good-ratings as compared to Movies giving less Good ratings.\n",
        "\n",
        "\n",
        "\n",
        "\n"
      ]
    },
    {
      "cell_type": "markdown",
      "metadata": {
        "id": "-JiQyfWJYklI"
      },
      "source": [
        "##### 3. Will the gained insights help creating a positive business impact?\n",
        "Are there any insights that lead to negative growth? Justify with specific reason."
      ]
    },
    {
      "cell_type": "markdown",
      "metadata": {
        "id": "BcBbebzrYklV"
      },
      "source": [
        "**Positive Impact:**\n",
        "\n",
        "**1)\tHigh Quality of TV-Shows:**\n",
        "\n",
        "•\tMajority of TV-shows fall under the Good rating and Average Rating categories.\n",
        "\n",
        "•\tVery few TV shows are poorly rated, indicates strong content selection strategy and higher viewer satisfaction.\n",
        "\n",
        "•\tThis builds user trust and increase binge-watching likelihood, boosting retention and watch time.\n",
        "\n",
        "**2)\tClear Differentiation for Improvement:**\n",
        "\n",
        "•\tThe rating segmentation helps Amazon Prime to identify strengths (TV-Shows with good ratings) and Spot Weakness (Movies with bad ratings) for strategic improvement.\n",
        "\n",
        "•\tAllow targeted marketing around high-rated TV-shows and removal or replacement of poorly performing titles.\n",
        "\n",
        "**3)\tPotential for Brand Loyalty:**\n",
        "\n",
        "•\tWith a solid offering of well rated shows, users are more likely to subscribe for long term and recommend the platform based on content quality especially TV-series.\n",
        "\n",
        "**Negative Impact:**\n",
        "\n",
        "**1)\tHigh number of poorly rated movies.**\n",
        "\n",
        "•\tThe chart shows more movies in the Bad Rating categories compared to TV-shows. This indicates lower quality control or oversaturation of low rated films. Viewer may be discouraged after encountering multiple disappointing movies.\n",
        "\n",
        "•\tThis affects user trust in the movie catalogue and may reduce engagement.\n",
        "\n",
        "**2)\tMisallocation of Licensing/Production Budget:**\n",
        "\n",
        "•\tInvesting in or acquiring a large amount of movies that result in Bad Ratings suggests inefficient use of budget and resources.\n",
        "\n",
        "•\tIt could lead to losses in subscription value perception.\n",
        "\n"
      ]
    },
    {
      "cell_type": "markdown",
      "metadata": {
        "id": "EM7whBJCYoAo"
      },
      "source": [
        "#### Chart - 3"
      ]
    },
    {
      "cell_type": "markdown",
      "metadata": {
        "id": "yJ_N_6JK6M0o"
      },
      "source": [
        "**Are Movies more dominant than TV-Shows?**"
      ]
    },
    {
      "cell_type": "code",
      "execution_count": null,
      "metadata": {
        "collapsed": true,
        "id": "t6GMdE67YoAp"
      },
      "outputs": [],
      "source": [
        "# Chart - 3 visualization code\n",
        "\n",
        "# Count types of content\n",
        "content_type=amazon_data.loc[:, 'Type'].value_counts()\n",
        "\n",
        "\n",
        "explode=[0.1, 0]\n",
        "color=['green', 'red']\n",
        "labels = content_type.index.tolist()\n",
        "\n",
        "#Plot the Graph\n",
        "fig, axes=plt.subplots(figsize=(12, 5))\n",
        "axes.pie(content_type, autopct=\"%0.1f%%\", explode=explode, colors=color, textprops={'color': 'black'}, labels=labels)\n",
        "\n",
        "# Set title and styling\n",
        "axes.set_ylabel(\" \")\n",
        "axes.set_title(\"Content Proportion on Amazon Prime\", weight=\"bold\")\n",
        "axes.axis('equal')\n",
        "\n",
        "\n",
        "\n",
        "plt.legend()\n",
        "plt.tight_layout()\n",
        "plt.show()"
      ]
    },
    {
      "cell_type": "markdown",
      "metadata": {
        "id": "fge-S5ZAYoAp"
      },
      "source": [
        "##### 1. Why did you pick the specific chart?"
      ]
    },
    {
      "cell_type": "markdown",
      "metadata": {
        "id": "5dBItgRVYoAp"
      },
      "source": [
        "The pie-chart displays the proportion of movies and TV-shows in the dataset."
      ]
    },
    {
      "cell_type": "markdown",
      "metadata": {
        "id": "85gYPyotYoAp"
      },
      "source": [
        "##### 2. What is/are the insight(s) found from the chart?"
      ]
    },
    {
      "cell_type": "markdown",
      "metadata": {
        "id": "4jstXR6OYoAp"
      },
      "source": [
        "**Content Distribution Breakdown:**\n",
        "\n",
        "Movies vs TV Shows: The pie-chart provides a clear visual representation of the percentage split between movies and TV-Shows on Amazon Prime.\n",
        "\n",
        "\n",
        "The proportions of 86.2% of the content are delivered in Movies, while only 13.8%  of the content are hold by TV-shows of different region.\n",
        "\n",
        "\n",
        "\n",
        "\n",
        "**Dominance of one content Type:**\n",
        "\n",
        "A pie chart shows the larger proportion of movies than TV-shows. It clearly indicates that Movies are more dominant than TV-shows in Amazon Prime dataset."
      ]
    },
    {
      "cell_type": "markdown",
      "metadata": {
        "id": "RoGjAbkUYoAp"
      },
      "source": [
        "##### 3. Will the gained insights help creating a positive business impact?\n",
        "Are there any insights that lead to negative growth? Justify with specific reason."
      ]
    },
    {
      "cell_type": "markdown",
      "metadata": {
        "id": "zfJ8IqMcYoAp"
      },
      "source": [
        "**Positive Insights:**\n",
        "\n",
        "**1.   Wide Variety of Movies Attracts Casual Viewers:**\n",
        "\n",
        "\n",
        "*   Movies are ideal for short, one-time viewing, suiting busy professionals, travellers and Weekend watchers.\n",
        "*   The large volume increases chances of finding content matching every taste (action, romance, thriller, etc.).\n",
        "\n",
        "**2.\tBetter for Global Markets:**\n",
        "\n",
        "Movies, especially with subtitles/dubbing, can be easily distributed internationally. This helps Amazon:\n",
        "\n",
        "\n",
        "*   Reach non-English-speaking audiences.\n",
        "*   Expand its global presence efficiently\n",
        "\n",
        "**3.  Opportunity to Highlight Quality TV Shows:**\n",
        "\n",
        "The smaller proportion of shows allows Amazon to:\n",
        "\n",
        "\n",
        "*   Focus on fewer, high-quality series.\n",
        "*   Increase marketing impact and audience engagement.\n",
        "*   Build strong fan bases for popular shows.\n",
        "\n",
        "**Negative Insights:**\n",
        "\n",
        "**1.\tLack of Balance in Content Variety:**\n",
        "\n",
        "\n",
        "*   Heavily skewed toward movies, leaving a relatively small share for TV shows.\n",
        "\n",
        "*   This imbalance limits options for binge-watchers or series lovers and may disappoint long-form content viewers.\n",
        "\n",
        "\n",
        "**2. Lost Engagement Opportunity:**\n",
        "\n",
        "\n",
        "*   TV shows typically have higher engagement rates (more episodes, longer time on platform).\n",
        "*   Underinvestment in shows misses potential for long-term user retention and reduces the likelihood of creating hit series that drive subscriptions.\n",
        "\n",
        "\n",
        "\n",
        "\n"
      ]
    },
    {
      "cell_type": "markdown",
      "metadata": {
        "id": "4Of9eVA-YrdM"
      },
      "source": [
        "#### Chart - 4"
      ]
    },
    {
      "cell_type": "markdown",
      "metadata": {
        "id": "TdwlYk8A9H_2"
      },
      "source": [
        "**What are the most common genres in Amazon TV shows and movies dataset?**"
      ]
    },
    {
      "cell_type": "code",
      "execution_count": null,
      "metadata": {
        "id": "irlUoxc8YrdO"
      },
      "outputs": [],
      "source": [
        "# Chart - 4 visualization code\n",
        "\n",
        "# Split and count genres\n",
        "amazon_data.loc[:, 'Genres']\n",
        "common_genres=amazon_data.loc[:, 'Genres'].str.split(', ').explode()\n",
        "top_genres=common_genres.value_counts()\n",
        "\n",
        "# Plot\n",
        "fig=px.bar(top_genres, x=top_genres.index, y=top_genres.values, title='Top Most Common Genres in Amazon Prime.', labels={'genres': 'Genres', 'y': 'Frequency'}, color=top_genres.index)\n",
        "fig.update_layout(title_font=dict(size=15, color='blue'), font=dict(size=10, color='blue'), paper_bgcolor='pink', plot_bgcolor='grey')\n",
        "fig.show()"
      ]
    },
    {
      "cell_type": "markdown",
      "metadata": {
        "id": "iky9q4vBYrdO"
      },
      "source": [
        "##### 1. Why did you pick the specific chart?"
      ]
    },
    {
      "cell_type": "markdown",
      "metadata": {
        "id": "aJRCwT6DYrdO"
      },
      "source": [
        "The Bar chart representing the distribution of  common genres content in Amazon Prime OTT platform which help to identify which content of genre attract audience engagement and viewership."
      ]
    },
    {
      "cell_type": "markdown",
      "metadata": {
        "id": "F6T5p64dYrdO"
      },
      "source": [
        "##### 2. What is/are the insight(s) found from the chart?"
      ]
    },
    {
      "cell_type": "markdown",
      "metadata": {
        "id": "Xx8WAJvtYrdO"
      },
      "source": [
        "**Most Frequent Genres:**\n",
        "\n",
        "Based on the genre count, more frequent and common genre in Amazon Prime dataset include:\n",
        "\n",
        "1.\tThe top-most leading genre is Drama which attract audience worldwide. These genres are core of Amazon Prime which attract audience on large scale.\n",
        "\n",
        "2.\tThe second highest presence of comedy genre also have a significant presence and popularity among viewers on the platform.\n",
        "\n",
        "3.\tThe thriller, action and romance genre content have a significant but moderate presence in the Amazon OTT platform.\n",
        "\n",
        "\n",
        "Low-content Genre:\n",
        "1.\tThe low content genres include crime, documentation, horror which are lowered in number and growth and need to more focused.\n",
        "2.\tThe very low content as per above graph is the reality, sports and war.\n",
        "3.\tThe sci-fi type genres which attracts genz and youngster are also very low in number.\n",
        "\n"
      ]
    },
    {
      "cell_type": "markdown",
      "metadata": {
        "id": "y-Ehk30pYrdP"
      },
      "source": [
        "##### 3. Will the gained insights help creating a positive business impact?\n",
        "Are there any insights that lead to negative growth? Justify with specific reason."
      ]
    },
    {
      "cell_type": "markdown",
      "metadata": {
        "id": "jLNxxz7MYrdP"
      },
      "source": [
        "**Positive Insights:**\n",
        "\n",
        "**1.\tCatering to Universal Tastes:**\n",
        "\n",
        "Drama and Comedy dominate because they appeal to:\n",
        "\n",
        "\n",
        "*   Broad audiences.\n",
        "*   All age groups and regions.\n",
        "*   Ensures wide engagement, enhancing subscriber retention.\n",
        "\n",
        "**2.\tStrategic Genre Mix:**\n",
        "\n",
        "High presence of thriller, action, and romance:\n",
        "\n",
        "*   Keeps content exciting and emotionally engaging.\n",
        "*   Encourages binge-watching (good for engagement KPIs).\n",
        "\n",
        "**3.\tMarket Differentiation:**\n",
        "\n",
        "*   Niche genres like European, Fantasy, History, War, Sport are still present.\n",
        "*   Helps Amazon stand out from Netflix or Disney+ by offering diverse, global content.\n",
        "*   Attracts international and genre-specific fans.\n",
        "\n",
        "**4.\tData-Driven Production Choices:**\n",
        "\n",
        "The chart enables Amazon Studios to:\n",
        "\n",
        "*   Invest more in high-performing genres.\n",
        "*   Explore underutilized genres (e.g., animation or sport) for untapped markets.\n",
        "\n",
        "**Negative Insights:**\n",
        "\n",
        "**1. Overdependence on Drama & Comedy:**\n",
        "\n",
        "Drama (5000 titles) and Comedy (3000 titles) make up the majority.\n",
        "\n",
        "Risk:\n",
        "\n",
        "\n",
        "*   Content fatigue: Audiences may feel the platform is repetitive.\n",
        "*   Viewers seeking fresh or unique genres (e.g., fantasy or sci-fi) might turn to competitors.\n",
        "\n",
        "**2.  Neglect of Emerging Genres:**\n",
        "\n",
        "Genres like Animation, Music, History, Sport, Reality, War each has < 500 titles.\n",
        "\n",
        "Risk:\n",
        "\n",
        "*   Missed opportunities with Gen Z, kids, and fans of niche content.\n",
        "*   Competitors (e.g., Netflix with animation/anime or Disney+ with family genres) may dominate these markets.\n",
        "\n",
        "**3. Lack of Genre Innovation:**\n",
        "\n",
        "No visible emphasis on xxperimental genres (e.g., dark comedy, docudrama)\n",
        "\n",
        "Risk:\n",
        "*   Amazon Prime may be seen as safe or outdated in comparison to innovative platforms.\n",
        "\n",
        "\n",
        "\n",
        "\n",
        "\n",
        "\n",
        "\n"
      ]
    },
    {
      "cell_type": "markdown",
      "metadata": {
        "id": "bamQiAODYuh1"
      },
      "source": [
        "#### Chart - 5"
      ]
    },
    {
      "cell_type": "markdown",
      "metadata": {
        "id": "w17zskO7OTZY"
      },
      "source": [
        "**What are the top-20 high-rated movies title in each combined genres?**"
      ]
    },
    {
      "cell_type": "code",
      "execution_count": null,
      "metadata": {
        "id": "TIJwrbroYuh3"
      },
      "outputs": [],
      "source": [
        "# Chart - 5 visualization code\n",
        "\n",
        "# Filter top 20 rated movies\n",
        "movie_list=amazon_data.loc[amazon_data.loc[:, 'Type']=='Movie']\n",
        "top_rated=movie_list.sort_values('IMDB Score', ascending=False)\n",
        "top_10_movies=top_rated[['Title', 'Genres', 'IMDB Score', 'Type']].head(20)\n",
        "\n",
        "# Plot with Plotly\n",
        "fig=px.bar(top_10_movies, x='Title', y='IMDB Score', color='Genres', title='Top 20 high rated movies of different combined-genres in Amazon Prime', labels={'title': 'Movie Title'})\n",
        "fig.update_layout(title_font=dict(size=15, color='blue'), font=dict(size=10, color='blue'), paper_bgcolor='pink')\n",
        "fig.show()"
      ]
    },
    {
      "cell_type": "markdown",
      "metadata": {
        "id": "QHF8YVU7Yuh3"
      },
      "source": [
        "##### 1. Why did you pick the specific chart?"
      ]
    },
    {
      "cell_type": "markdown",
      "metadata": {
        "id": "dcxuIMRPYuh3"
      },
      "source": [
        "The bar plot highlights the Amazon Prime genre diversity, showcasing the top performing movies in genres like Action, Drama, Comedy, Thriller etc. identifying the strongest movie titles per genres.  "
      ]
    },
    {
      "cell_type": "markdown",
      "metadata": {
        "id": "GwzvFGzlYuh3"
      },
      "source": [
        "##### 2. What is/are the insight(s) found from the chart?"
      ]
    },
    {
      "cell_type": "markdown",
      "metadata": {
        "id": "uyqkiB8YYuh3"
      },
      "source": [
        "**Insight:**\n",
        "\n",
        "**Drama-led Combinations dominates:**\n",
        "\n",
        "Genres like ‘Drama’, ‘Action, Drama, History’, ‘Drama, Family’, ‘Drama, Crime’, ‘Drama, Action’, ‘Family, Drama’, consistently appear in the top-rated combinations. This suggest that emotional depth and story-telling driven genres perform well with audiences and critics alike.\n",
        "\n",
        "**Documentary=Higher Ratings:**\n",
        "\n",
        "Documentary movies like ‘A Promise to My Father’ and ‘Toxification’ often have imdb-scores as 9.1 and 9.2. It indicates that non-fictional storytelling with niche themes attracts strong viewer engagement and appreciation.\n",
        "\n",
        "**Comedy:**\n",
        "\n",
        "Pure Comedy tend to have wider audience appeal. Alexander Babu: Alex in the wonderland and Steven Banks: Home Entertainment Centers stand in the line of Top-20 chart in the imdb-ratings of 9.1 and 9.2.\n",
        "\n",
        "**Romance-led Combination:**\n",
        "\n",
        "The Romance genres are most prevalent genres in the Amazon-Prime Catalog. Frequently appears both as a standalone genre and in the combination with Drama, Comedy or History. It also top the High-rated chart of Amazon Prime.\n",
        "\n",
        "**Crime-led Combination:**\n",
        "\n",
        "Crime is widely featured genre, often combined with Drama, Thriller, and Mystery. Top performing titles of Crime are King B’s Roost 1-2 with IMDB rating of 9.2.\n",
        "\n",
        "**Family-led Combination:**\n",
        "\n",
        "The Family genres include animated films, educational content, wholesome stories and holiday special. Family and Family Drama combination also top the chart with good IMDB rating of 9.1 and 9.2 in Amazon Prime.\n",
        "\n",
        "**Music themed content:**\n",
        "\n",
        "Music genres often to a niche audience only. Hence, they are less dominant. The audience who has love for music can top the high rated IMDB charts. High IMDB score in this genre shows how strong is the audience approval. Title like Unity: The Latin Tribute to Michael Jackson fall into this category where Michael Jackson fan globally made the movie success with High IMDB rating of 9.0.\n",
        "\n",
        "\n",
        "\n",
        "\n"
      ]
    },
    {
      "cell_type": "markdown",
      "metadata": {
        "id": "qYpmQ266Yuh3"
      },
      "source": [
        "##### 3. Will the gained insights help creating a positive business impact?\n",
        "Are there any insights that lead to negative growth? Justify with specific reason."
      ]
    },
    {
      "cell_type": "markdown",
      "metadata": {
        "id": "_WtzZ_hCYuh4"
      },
      "source": [
        "**Positive Impact:**\n",
        "\n",
        "**1.\tDiverse Genre Blends Excel:**\n",
        "\n",
        "Movies with blended genres—like action, drama, history (Pawankhind) or drama, crime (Jai Bhim)—achieve exceptionally high ratings (above 9.0). Mixing compelling genres can broaden appeal and deepen narrative engagement, leading to strong critical and viewer acclaim.\n",
        "\n",
        "**2.\tConsistency Across Genres:**\n",
        "\n",
        "All top 20 movies maintain IMDB scores above 8.9, regardless of genre. Content quality and storytelling outweigh genre bias—a good film performs well, no matter the category.\n",
        "\n",
        "**3.\tEmerging Popularity of Non-Traditional Themes:**\n",
        "\n",
        "Movies like Quota (drama, action) and Toxification (documentation) show that even documentaries and socially aware dramas can rank among the highest-rated. Viewers increasingly appreciate real-world narratives and socially relevant topics.\n",
        "\n",
        "**Negative Impact:**\n",
        "\n",
        "**1.\tGenre Homogeneity at the Top:**\n",
        "\n",
        "Most top-rated titles belong to drama-related blends (e.g., drama, family, drama, crime, action, drama). This indicates a lack of diversity in top-rated genres, potentially overshadowing sci-fi, horror, thriller, and other niche genres that may not be receiving equal viewer attention or platform promotion.\n",
        "\n",
        "**2.\tChildren & Animation Genres Underrepresented:**\n",
        "\n",
        "No top-rated entries feature animated or children’s genres, which could signal a content gap or lower engagement in those categories. Lack of top-performing family/animated content may discourage investment in younger audience segments.\n",
        "\n",
        "**3.\tViewer Ratings Bias:**\n",
        "\n",
        "Some high IMDb scores might come from smaller, highly engaged viewer bases (e.g., niche fan communities), which can skew ratings upward. This raises questions about score inflation and whether these top titles represent broader viewer consensus.\n",
        "\n",
        "\n"
      ]
    },
    {
      "cell_type": "markdown",
      "metadata": {
        "id": "OH-pJp9IphqM"
      },
      "source": [
        "#### Chart - 6"
      ]
    },
    {
      "cell_type": "markdown",
      "metadata": {
        "id": "FCZy8SbmW9pq"
      },
      "source": [
        "Which top 10 countries produce highest number of TV shows and movies in Amazon Prime?"
      ]
    },
    {
      "cell_type": "code",
      "execution_count": null,
      "metadata": {
        "id": "kuRf4wtuphqN",
        "collapsed": true
      },
      "outputs": [],
      "source": [
        "# Chart - 6 visualization code\n",
        "\n",
        "# Explode and count production countries\n",
        "amazon_data.loc[:, 'Production Countries']\n",
        "df=amazon_data.loc[:, 'Production Countries'].str.split(', ').explode()\n",
        "top_countries=df.value_counts()\n",
        "\n",
        "\n",
        "# Plot Top 10 countries\n",
        "fig=px.bar(top_countries, x=top_countries.index[:10], y=top_countries.values[:10], title='Top 10 Countries Producing shows/movies in Amazon Prime.', color=top_countries.index[:10], labels={'x':'Production_Countries', 'y':'Frequency'})\n",
        "fig.update_layout(title_font=dict(size=15, color='blue'), font=dict(size=10, color='blue'), paper_bgcolor='pink', plot_bgcolor='grey')\n",
        "fig.show()\n",
        "\n",
        "\n",
        "\n"
      ]
    },
    {
      "cell_type": "markdown",
      "metadata": {
        "id": "bbFf2-_FphqN"
      },
      "source": [
        "##### 1. Why did you pick the specific chart?"
      ]
    },
    {
      "cell_type": "markdown",
      "metadata": {
        "id": "loh7H2nzphqN"
      },
      "source": [
        "To find the Top-10 production countries in Amazon-Prime TV-shows and Movies."
      ]
    },
    {
      "cell_type": "markdown",
      "metadata": {
        "id": "_ouA3fa0phqN"
      },
      "source": [
        "##### 2. What is/are the insight(s) found from the chart?"
      ]
    },
    {
      "cell_type": "markdown",
      "metadata": {
        "id": "VECbqPI7phqN"
      },
      "source": [
        "\n",
        "\n",
        "1.\tHighlights dominance: The United States overwhelming contribution is clearly visible, showing a leading content-producing country.\n",
        "\n",
        "2.  US-centric library: Amazon Prime's content is heavily skewed toward American productions, reflecting either licensing ease or market demand.\n",
        "\n",
        "3. Emerging markets like India and the UK are strong but still far behind, indicating room for regional content expansion.\n",
        "\n",
        "4. Diversification opportunity: Countries like Japan, Germany, and France contribute less, highlighting potential for investment in local productions to tap into new audiences.\n",
        "\n"
      ]
    },
    {
      "cell_type": "markdown",
      "metadata": {
        "id": "Seke61FWphqN"
      },
      "source": [
        "##### 3. Will the gained insights help creating a positive business impact?\n",
        "Are there any insights that lead to negative growth? Justify with specific reason."
      ]
    },
    {
      "cell_type": "markdown",
      "metadata": {
        "id": "DW4_bGpfphqN"
      },
      "source": [
        "**Positive Impact:**\n",
        "\n",
        "**1.\tGlobal Expansion Opportunities:**\n",
        "\n",
        "Amazon Prime can leverage this insight to diversify and localize its content portfolio by increasing investments in countries currently underrepresented (like Japan, Germany, and China). This enhances regional relevance and attracts more international subscribers.\n",
        "\n",
        "**2.\tEnhanced Viewer Engagement:**\n",
        "\n",
        "Recognizing popular content-producing countries allows Amazon Prime to promote culturally relevant content to users from these regions, resulting in higher viewer satisfaction, longer watch times, and stronger subscriber retention.\n",
        "\n",
        "\n",
        "**3. Regional Market Expansion:**\n",
        "\n",
        "India and non-English speaking countries like France, Germany, Japan are rising contributors. It will encourage the platform by creating localization efforts such as dubbing, subtitles, which will further improve engagement and subscription efforts on large global scale.\n",
        "\n",
        "**4. Competitive Advantage in Emerging Market:**\n",
        "\n",
        "Countries like Spain, Japan, China including South Korea are producing globally popular genres like K-drama, C-drama, Anime, Thriller etc. Early investment and exclusive deal with these market can help Amazon stay ahead of the competitors.\n",
        "\n",
        "**Negative Impact:**\n",
        "\n",
        "**1.\tLimited Global Representation:**\n",
        "\n",
        "Countries like China, Germany, and Japan contribute very little. This underrepresentation may alienate potential viewers in those regions, limiting Amazon’s global appeal and reducing potential subscriber growth in emerging markets.\n",
        "\n",
        "**2.\tContent Saturation:**\n",
        "\n",
        "With such heavy content volume from the U.S., users may experience repetitive themes, genres, or cultural narratives—leading to content fatigue and lower engagement among international viewers.\n",
        "\n",
        "**3. Overdependence on US content:**\n",
        "\n",
        "Viewers with non-English speaking countries may feel underserved. Without cultural relevant or localized content, subscriber growth remains constant outside the US.\n",
        "\n"
      ]
    },
    {
      "cell_type": "markdown",
      "metadata": {
        "id": "PIIx-8_IphqN"
      },
      "source": [
        "#### Chart - 7"
      ]
    },
    {
      "cell_type": "markdown",
      "metadata": {
        "id": "lzhNwOpFgWqJ"
      },
      "source": [
        "What is the distribution of IMDB score for each age_certification?"
      ]
    },
    {
      "cell_type": "code",
      "execution_count": null,
      "metadata": {
        "id": "lqAIGUfyphqO",
        "collapsed": true
      },
      "outputs": [],
      "source": [
        "# Chart - 7 visualization code\n",
        "\n",
        "# Box plot of IMDb Scores by Age Certification\n",
        "fig=px.box(amazon_data, x='Age Certification', y='IMDB Score', title='Distribution of IMDB-Score for different age-certifications', color='Age Certification')\n",
        "fig.update_layout(title_font=dict(size=15, color='blue'), font=dict(size=10, color='blue'), paper_bgcolor='pink')\n",
        "fig.show()\n"
      ]
    },
    {
      "cell_type": "markdown",
      "metadata": {
        "id": "t27r6nlMphqO"
      },
      "source": [
        "##### 1. Why did you pick the specific chart?"
      ]
    },
    {
      "cell_type": "markdown",
      "metadata": {
        "id": "iv6ro40sphqO"
      },
      "source": [
        "Analyzing distribution of IMDB scores of different age-certification movies and TV-shows reveals how audience targeted content perform in terms of quality and reception."
      ]
    },
    {
      "cell_type": "markdown",
      "metadata": {
        "id": "r2jJGEOYphqO"
      },
      "source": [
        "##### 2. What is/are the insight(s) found from the chart?"
      ]
    },
    {
      "cell_type": "markdown",
      "metadata": {
        "id": "Po6ZPi4hphqO"
      },
      "source": [
        "**1.\tTop Performing by Rating:**\n",
        "\n",
        "TV-MA and TV-PG have the highest median IMDb scores, both clustering around 7.5–8.0, indicating critically well-received content.\n",
        "\n",
        "TV-14 and TV-G also show strong ratings, suggesting content in these categories is both family-friendly and well-made.  \n",
        "\n",
        "**2.\tLow Performing Categories:**\n",
        "\n",
        "NC-17 and R-rated content show lower median scores with wide interquartile ranges, pointing to inconsistent quality and greater variance in reception.\n",
        "\n",
        "G and PG categories have a relatively lower average, possibly due to simplistic storytelling or limited appeal beyond children.\n",
        "\n",
        "**3.\tObservations on Outliers:**\n",
        "\n",
        "Most certifications (e.g., R, PG-13, G) show numerous outliers, both high and low, meaning content quality is not uniform across titles in these brackets.\n",
        "\n",
        "TV-MA shows few outliers, suggesting consistent high-quality production in mature content.\n",
        "\n",
        "**4.\tFamily-Oriented Trends:**\n",
        "\n",
        "TV-Y7, TV-G, and TV-PG deliver reliable scores with narrow spreads, indicating consistent, well-received content appropriate for younger audiences.\n",
        "\n",
        "\n",
        "\n",
        "\n",
        "\n"
      ]
    },
    {
      "cell_type": "markdown",
      "metadata": {
        "id": "b0JNsNcRphqO"
      },
      "source": [
        "##### 3. Will the gained insights help creating a positive business impact?\n",
        "Are there any insights that lead to negative growth? Justify with specific reason."
      ]
    },
    {
      "cell_type": "markdown",
      "metadata": {
        "id": "xvSq8iUTphqO"
      },
      "source": [
        "**Positive Impact:**\n",
        "\n",
        "**1.\tHigher Quality in Targeted Age Segments:**\n",
        "\n",
        "TV-MA (Mature audiences) and TV-PG (Parental Guidance) certifications are associated with consistently high IMDb scores, often in the 7.5 to 8.5 range. These certifications allow creators to tailor content appropriately—mature themes for adults or suitable stories for families—resulting in better audience reception.\n",
        "\n",
        "**2.\tConsistency in Viewer Satisfaction:**\n",
        "\n",
        "Certifications like TV-G, TV-14, and TV-Y7 exhibit tight score distributions, showing reliable audience satisfaction. Viewers can trust the quality of content in these categories, enhancing engagement and platform credibility.\n",
        "\n",
        "**3.\tSupport for Niche and Family Content:**\n",
        "\n",
        "Genres like TV-Y7 and TV-G still achieve respectable ratings, proving that quality family content can thrive alongside mature genres. It encourages content creators to invest in high-quality productions across all age brackets.\n",
        "\n",
        "**Negative Impact:**\n",
        "\n",
        "**1.\tHigh Score Variability in Certain Certifications:**\n",
        "\n",
        "R-rated and PG content shows a wide range of IMDb scores, including several low outliers (as low as 1.5–3). Inconsistent quality within these categories may lead to unpredictable viewer satisfaction, reducing trust in these segments.\n",
        "\n",
        "**2.\tLower Median Scores in NC-17 and R-Rated Content:**\n",
        "\n",
        "NC-17 content shows one of the lowest median IMDB scores, and R-rated content also has more spread with a lower median than family-friendly types like TV-PG or TV-MA. Excessively mature or explicit content may alienate audiences, affecting both ratings and perception of overall quality.\n",
        "\n",
        "**3.\tUnderperformance of General Audience Content:**\n",
        "\n",
        "Despite being universally accessible, G and PG certified content often has lower median scores, suggesting bland or overly simplified storytelling.  Content aimed at general audiences might struggle to engage mature viewers, pulling down overall ratings.\n",
        "\n",
        "\n",
        "\n",
        "\n"
      ]
    },
    {
      "cell_type": "markdown",
      "metadata": {
        "id": "BZR9WyysphqO"
      },
      "source": [
        "#### Chart - 8"
      ]
    },
    {
      "cell_type": "markdown",
      "metadata": {
        "id": "q9BKdfFDsL_R"
      },
      "source": [
        "**What are the top-10 trending Movies in Amazon Prime dataset?**"
      ]
    },
    {
      "cell_type": "code",
      "execution_count": null,
      "metadata": {
        "collapsed": true,
        "id": "TdPTWpAVphqO"
      },
      "outputs": [],
      "source": [
        "# Chart - 8 visualization code\n",
        "\n",
        "#Top trending movies and TV-shows.\n",
        "#Trending=Title with highest IMDB votes\n",
        "\n",
        "movie_data=amazon_data.loc[amazon_data.loc[:, 'Type']=='Movie']\n",
        "\n",
        "top_imdb_votes= movie_data.sort_values('IMDB Votes', ascending=False)\n",
        "\n",
        "trending_top10=top_imdb_votes[['Title', 'IMDB Votes']].head(10)\n",
        "\n",
        "# Create an horizontal bar plot\n",
        "plt.figure(figsize=(15, 5))\n",
        "sns.barplot(trending_top10, x='IMDB Votes', y='Title', palette='pastel')\n",
        "\n",
        "# Add titles and labels\n",
        "plt.title(\"Top 10 Trending Movies on Amazon Prime (by IMDB Votes)\", weight='bold')\n",
        "plt.xlabel(\"Movie Title\")\n",
        "plt.ylabel(\"IMDB Votes\")\n",
        "\n",
        "# Add value annotations to each bar for clarity\n",
        "for index, value in enumerate(trending_top10['IMDB Votes']):\n",
        "    plt.text(value+0.1, index, f\"{(value):.0f}\", va='center', fontsize=9, color='black')\n",
        "\n",
        "# Customize tick labels for readability\n",
        "plt.xticks(fontsize=10)\n",
        "plt.yticks(fontsize=10)\n",
        "\n",
        "# Show the plot\n",
        "plt.tight_layout()\n",
        "plt.show()\n",
        "\n"
      ]
    },
    {
      "cell_type": "markdown",
      "metadata": {
        "id": "jj7wYXLtphqO"
      },
      "source": [
        "##### 1. Why did you pick the specific chart?"
      ]
    },
    {
      "cell_type": "markdown",
      "metadata": {
        "id": "Ob8u6rCTphqO"
      },
      "source": [
        "The most trending movies on Amazon Prime have significantly higher IMDb vote counts, suggesting they enjoy broad viewer engagement and sustained interest. These titles are often recent releases or global hits, indicating user preference toward high-visibility, mainstream cinema."
      ]
    },
    {
      "cell_type": "markdown",
      "metadata": {
        "id": "eZrbJ2SmphqO"
      },
      "source": [
        "##### 2. What is/are the insight(s) found from the chart?"
      ]
    },
    {
      "cell_type": "markdown",
      "metadata": {
        "id": "mZtgC_hjphqO"
      },
      "source": [
        "\n",
        "**Insights:**\n",
        "\n",
        "**1.\tHigh IMDB votes= Strong Popularity:**\n",
        "\n",
        "This chart highlights the most popular and highly engaged movies on Amazon Prime, as measured by IMDb votes, which reflects viewer interaction and recognition.\n",
        "\n",
        "Titanic leads the chart with over 1.13 million votes, showing lasting popularity and emotional resonance.\n",
        "\n",
        "Other critically acclaimed films like The Usual Suspects, Braveheart, and The Sixth Sense also attract high attention, showcasing Prime's library of classics with mass appeal.\n",
        "\n",
        "\n",
        "**2.\tIMDB-score is not equal to IMDB-votes:**\n",
        "\n",
        "A movie with highest number of audience engagement but only moderate number of imdb-ratings (6.7-7.5) which suggest high visibility and marketing and mixed but mass appeal.\n"
      ]
    },
    {
      "cell_type": "markdown",
      "metadata": {
        "id": "rFu4xreNphqO"
      },
      "source": [
        "##### 3. Will the gained insights help creating a positive business impact?\n",
        "Are there any insights that lead to negative growth? Justify with specific reason."
      ]
    },
    {
      "cell_type": "markdown",
      "metadata": {
        "id": "ey_0qi68phqO"
      },
      "source": [
        "**Positive Impact:**\n",
        "\n",
        "**1.\tContent Strategy Optimization:**\n",
        "\n",
        "By identifying trending movies through imdb-votes, Amazon prime can prioritize popular titles on the homepage to increase watch time and engagement.\n",
        "\n",
        "**2.\tBoost in User retention:**\n",
        "\n",
        "Trending content draws repeated viewership. Highlighting or rotating these top movies encourages users to stay subscribed and improving retention rates.\n",
        "\n",
        "**3.\tData Driven Content Acquisition:**\n",
        "\n",
        "High IMDB-votes movies help Amazon identify:\n",
        "\n",
        "•\tWhat are the genres that are working.\n",
        "\n",
        "•\tWhich actor or directors are popular.\n",
        "\n",
        "\n",
        "**Negative Impact:**\n",
        "\n",
        "**1.\tBias towards Popular title:**\n",
        "\n",
        "Overemphasis on trending movies may lead to neglect of niche or underrated content. It will create a content bubble where lesser known but high quality films are never surfaced to viewers.\n",
        "\n",
        "**2.\tMisleading Engagement Metrics:**\n",
        "\n",
        "High IMDB-votes doesn’t mean high satisfaction. Some top-voted titles may have very low imdb-score which can lead to disappointment and lack of trust.\n",
        "\n",
        "**3.\tLack of Diversity in offerings:**\n",
        "\n",
        "Relying only on trending titles may exclude regional, independent or experimental films reducing content variety and alienating specific viewer segments.\n",
        "\n"
      ]
    },
    {
      "cell_type": "markdown",
      "metadata": {
        "id": "YJ55k-q6phqO"
      },
      "source": [
        "#### Chart - 9"
      ]
    },
    {
      "cell_type": "markdown",
      "metadata": {
        "id": "_liygurKx-gP"
      },
      "source": [
        "What is the total number of shows and movies released per year?"
      ]
    },
    {
      "cell_type": "code",
      "execution_count": null,
      "metadata": {
        "id": "B2aS4O1ophqO"
      },
      "outputs": [],
      "source": [
        "# Chart - 9 visualization code\n",
        "\n",
        "# Filter for release years after 2000\n",
        "release_year_data=amazon_data.loc[amazon_data.loc[:, 'Release Year']>2000]\n",
        "\n",
        "# Group and count titles per year per type\n",
        "data_release_year=release_year_data.groupby(['Release Year', 'Type'])['Title'].count().reset_index().sort_values('Title', ascending=False, ignore_index=True)\n",
        "\n",
        "# Plot\n",
        "plt.figure(figsize=(15, 5))\n",
        "sns.lineplot(data_release_year, x='Release Year', y='Title', hue='Type', marker='.')\n",
        "plt.title('Title counts for TV Shows and Movies Released Per Year')\n",
        "plt.xlabel('Released Year')\n",
        "plt.ylabel('Total Count')\n",
        "\n",
        "plt.show()"
      ]
    },
    {
      "cell_type": "markdown",
      "metadata": {
        "id": "gCFgpxoyphqP"
      },
      "source": [
        "##### 1. Why did you pick the specific chart?"
      ]
    },
    {
      "cell_type": "markdown",
      "metadata": {
        "id": "TVxDimi2phqP"
      },
      "source": [
        "To analyze the number of movies and TV-shows released in Amazon Prime TV-shows and Movies. It help to mark the significant growth of an OTT content."
      ]
    },
    {
      "cell_type": "markdown",
      "metadata": {
        "id": "OVtJsKN_phqQ"
      },
      "source": [
        "##### 2. What is/are the insight(s) found from the chart?"
      ]
    },
    {
      "cell_type": "markdown",
      "metadata": {
        "id": "ngGi97qjphqQ"
      },
      "source": [
        "**Insight:**\n",
        "\n",
        "1. Consistent Growth: From 2001 to 2021, Amazon Prime has shown a steady and sharp increase in movie releases, peaking in 2021 with over 700 titles. TV shows also grew, but at a slower rate.\n",
        "\n",
        "2. Post-2015 Surge: A significant jump in content—especially movies—occurred after 2015, likely due to increased investment in original and regional content.\n",
        "\n",
        "3. Dramatic Drop in 2022: Both categories show a sharp decline in 2022, which could be due to delays from the COVID-19 pandemic, budget reallocation, or strategic content filtering.\n",
        "\n",
        "4. Movies Dominate Quantity, Shows Dominate Quality: While movies far outnumber\n",
        "shows, earlier visuals indicated TV shows have higher TMDB popularity on average—pointing to a quality-over-quantity trade-off.\n"
      ]
    },
    {
      "cell_type": "markdown",
      "metadata": {
        "id": "lssrdh5qphqQ"
      },
      "source": [
        "##### 3. Will the gained insights help creating a positive business impact?\n",
        "Are there any insights that lead to negative growth? Justify with specific reason."
      ]
    },
    {
      "cell_type": "markdown",
      "metadata": {
        "id": "tBpY5ekJphqQ"
      },
      "source": [
        "**Positive Impact:**\n",
        "\n",
        "**1.\tStrong Growth in Movie Production:**\n",
        "\n",
        "A consistent upward trend in movie releases from 2010 to 2021 shows Amazon Prime's increased investment in content, appealing to a broad audience.\n",
        "\n",
        "**2.\tGradual Rise in Show Releases:**\n",
        "\n",
        "Though smaller in volume, shows have steadily grown since 2010, indicating a strategic diversification of content type.\n",
        "\n",
        "**3.\tPeak Output Reflects Strategic Expansion:**\n",
        "\n",
        "The spike in 2019–2021 highlights aggressive content scaling, likely tied to increased global streaming demand during the pandemic.\n",
        "\n",
        "**Negative Impact:**\n",
        "\n",
        "**1.\tSharp Decline in 2022 Output:**\n",
        "\n",
        "Both movies and shows dropped significantly in 2022, suggesting possible disruptions in production or shifts in content strategy that may reduce platform freshness or viewer engagement.\n",
        "\n",
        "**2.\tOverproduction Risk (2019–2021):**\n",
        "\n",
        "The rapid surge in movie releases during 2019–2021 could signal quantity over quality, potentially diluting viewer satisfaction if standards drop.\n",
        "\n"
      ]
    },
    {
      "cell_type": "markdown",
      "metadata": {
        "id": "U2RJ9gkRphqQ"
      },
      "source": [
        "#### Chart - 10"
      ]
    },
    {
      "cell_type": "markdown",
      "metadata": {
        "id": "kEL87K0f56WA"
      },
      "source": [
        "**Is there any relationship between IMDB Scores and TMDB Scores on Amazon Prime?**\n",
        "\n",
        "\n"
      ]
    },
    {
      "cell_type": "code",
      "execution_count": null,
      "metadata": {
        "id": "GM7a4YP4phqQ"
      },
      "outputs": [],
      "source": [
        "# Chart - 10 visualization code\n",
        "fig, ax=plt.subplots(figsize=(14, 5))\n",
        "sns.scatterplot(amazon_data, x='IMDB Score', y='TMDB Score', marker='o', hue='Type', ax=ax,  palette='Set2')\n",
        "ax.set_title('IMDB Score Vs TMDB Score by Content Type', weight='bold')\n",
        "ax.set_xlabel('IMDB Score')\n",
        "ax.set_ylabel('TMDB Score')\n",
        "\n",
        "\n",
        "# Style enhancements\n",
        "sns.set_context('paper')\n",
        "sns.set_style(\"darkgrid\")\n",
        "plt.grid(True)\n",
        "plt.tight_layout()\n",
        "plt.show()"
      ]
    },
    {
      "cell_type": "markdown",
      "metadata": {
        "id": "1M8mcRywphqQ"
      },
      "source": [
        "##### 1. Why did you pick the specific chart?"
      ]
    },
    {
      "cell_type": "markdown",
      "metadata": {
        "id": "8agQvks0phqQ"
      },
      "source": [
        "To understand the relationship between IMDB-score and TMDB-score.\n",
        "Both IMDB and TMDB scores represent user-generated ratings on a scale from 0 to 10. They are collected from different audience and reflect different perception and bias.\n"
      ]
    },
    {
      "cell_type": "markdown",
      "metadata": {
        "id": "tgIPom80phqQ"
      },
      "source": [
        "##### 2. What is/are the insight(s) found from the chart?"
      ]
    },
    {
      "cell_type": "markdown",
      "metadata": {
        "id": "Qp13pnNzphqQ"
      },
      "source": [
        "**Insight:**\n",
        "\n",
        "**Strong Positive Correlation:**\n",
        "\n",
        "•\tThere’s a clear positive correlation between IMDB and TMDB scores for both content types.\n",
        "\n",
        "•\tAs IMDB score increases, TMDB score generally rises as well.\n",
        "\n",
        "**Shows Tend to Have Higher Ratings:**\n",
        "\n",
        "•\tTV Shows (blue dots) are more concentrated in the upper right quadrant, indicating consistently higher ratings on both platforms compared to movies.\n",
        "\n",
        "•\tMovies (orange dots) show a wider spread, especially in the lower scoring regions.\n",
        "\n",
        "**Outliers Exist for Movies:**\n",
        "\n",
        "•\tMany movies have low IMDB but relatively higher TMDB scores, and vice versa.\n",
        "\n",
        "•\tThis suggests greater variance in perception or subjectivity in rating movies.\n"
      ]
    },
    {
      "cell_type": "markdown",
      "metadata": {
        "id": "JMzcOPDDphqR"
      },
      "source": [
        "##### 3. Will the gained insights help creating a positive business impact?\n",
        "Are there any insights that lead to negative growth? Justify with specific reason."
      ]
    },
    {
      "cell_type": "markdown",
      "metadata": {
        "id": "R4Ka1PC2phqR"
      },
      "source": [
        "**Positive Impact:**\n",
        "\n",
        "**1.\tConsistent Cross-Platform Quality for Shows:**\n",
        "\n",
        "TV Shows exhibit a tighter cluster in higher score ranges, especially between IMDB 7–9 and TMDB 7–9. This indicates that shows are consistently well-received on both rating platforms, enhancing trust in their quality.\n",
        "\n",
        "**2.\tReliable Benchmark for User Preference:**\n",
        "\n",
        "The strong correlation between IMDB and TMDB scores supports the use of one platform’s rating to predict performance on the other. Helpful for content recommendation engines and personalized user experiences.\n",
        "\n",
        "**3.\tEnhanced Investment in High-Scoring Content:**\n",
        "\n",
        "Producers and streaming platforms can invest more in series development, knowing audience ratings are consistently high across platforms.\n",
        "\n",
        "**Negative Impact:**\n",
        "\n",
        "**1.\tHigh Variability in Movie Ratings:**\n",
        "\n",
        "Movie scores (orange dots) show wider dispersion, especially in the low to mid-score range (2–7). This suggests inconsistent audience reception, making it harder to predict movie quality based on one platform alone.\n",
        "\n",
        "**2.\tPlatform Bias Potential:**\n",
        "\n",
        "A movie may have a high IMDB score but low TMDB score, or vice versa. This raises concerns about platform bias, possibly influenced by differences in audience demographics or review mechanisms.\n",
        "\n",
        "**3.\tOverestimation or Underestimation Risk:**\n",
        "\n",
        "For decision-makers (e.g., marketers, investors), relying on only one rating source may lead to inaccurate assessments of content value.\n",
        "\n",
        "\n"
      ]
    },
    {
      "cell_type": "markdown",
      "metadata": {
        "id": "x-EpHcCOp1ci"
      },
      "source": [
        "#### Chart - 11"
      ]
    },
    {
      "cell_type": "markdown",
      "metadata": {
        "id": "0Xbo9c-T7xY4"
      },
      "source": [
        "**What are the name of the top 10 actor who appeared in Maximum number of movies and TV-shows in Amazon Prime?**"
      ]
    },
    {
      "cell_type": "code",
      "execution_count": null,
      "metadata": {
        "id": "mAQTIvtqp1cj",
        "collapsed": true
      },
      "outputs": [],
      "source": [
        "# Chart - 11 visualization code\n",
        "# Merge movie and cast data\n",
        "movie_data=pd.merge(amazon_data, cast_data, on='id', how='inner')\n",
        "\n",
        "#Filter the Actor Data\n",
        "top_actor=movie_data.loc[movie_data.loc[:, 'Role']=='Actor']\n",
        "\n",
        "# Top 10 actors by number of titles\n",
        "top_10actors=top_actor.groupby(['Name'])['Title'].count().sort_values(ascending=False).reset_index().head(10)\n",
        "\n",
        "# Create an horizontal bar plot\n",
        "sns.set_theme(style='whitegrid')\n",
        "plt.figure(figsize=(15, 5))\n",
        "sns.barplot(top_10actors, x='Title', y='Name', palette='pastel')\n",
        "\n",
        "# Add titles and labels\n",
        "plt.title(\"Top 10 Popular Actor\\'s Frequently Worked in Amazon Prime\", weight='bold')\n",
        "plt.xlabel(\"Title Volume\", fontsize=12)\n",
        "plt.ylabel(\"Top Actor\\'s Name\", fontsize=12)\n",
        "\n",
        "for index, value in enumerate(top_10actors['Title']):\n",
        "    plt.text(value+0.1, index, f\"{(value):.0f}\", va='center', fontsize=8, color='black', weight='bold')\n",
        "\n",
        "# Customize tick labels for readability\n",
        "plt.xticks(fontsize=10)\n",
        "plt.yticks(fontsize=10)\n",
        "\n",
        "plt.tight_layout()\n",
        "plt.show()"
      ]
    },
    {
      "cell_type": "markdown",
      "metadata": {
        "id": "X_VqEhTip1ck"
      },
      "source": [
        "##### 1. Why did you pick the specific chart?"
      ]
    },
    {
      "cell_type": "markdown",
      "metadata": {
        "id": "-vsMzt_np1ck"
      },
      "source": [
        "The chart to built the name of the Top-actor who gave maximum quality of works to Amazon Prime TV show and Movies."
      ]
    },
    {
      "cell_type": "markdown",
      "metadata": {
        "id": "8zGJKyg5p1ck"
      },
      "source": [
        "##### 2. What is/are the insight(s) found from the chart?"
      ]
    },
    {
      "cell_type": "markdown",
      "metadata": {
        "id": "ZYdMsrqVp1ck"
      },
      "source": [
        "**Insights:**\n",
        "\n",
        "**1.\tDominance of Classic Actors:**\n",
        "\n",
        "The top actors such as George 'Gabby' Hayes, Roy Rogers, Bess Flower and Gene Autry are known for their extensive work in Western and classic films. This suggests that Amazon Prime hosts a significant number of classic or vintage film titles.\n",
        "\n",
        "**2.\tHigh Repetition in Content:**\n",
        "\n",
        "The top actor, George 'Gabby' Hayes, appears in 49 titles, which is a high count. This indicates that a few actors dominate the catalogue, possibly due to multiple films from the same franchises or studios being available.\n",
        "\n",
        "**3.\tMinimal Title Gap in Lower Ranks:**\n",
        "\n",
        "Actors ranked 6 to 10 (Charles King to George Morrell) all appear in a tight cluster (34–35 titles). This suggests a long tail effect, where many actors contribute nearly equally but slightly less than the top few.\n",
        "\n",
        "**4.\tPresence of Indian Actor – Nassar:**\n",
        "\n",
        "Nassar is the only non-Western actor in the list, with 37 titles. This suggests that Amazon Prime includes a significant volume of South Indian cinema, pointing toward regional diversity in content.\n",
        "\n"
      ]
    },
    {
      "cell_type": "markdown",
      "metadata": {
        "id": "PVzmfK_Ep1ck"
      },
      "source": [
        "##### 3. Will the gained insights help creating a positive business impact?\n",
        "Are there any insights that lead to negative growth? Justify with specific reason."
      ]
    },
    {
      "cell_type": "markdown",
      "metadata": {
        "id": "druuKYZpp1ck"
      },
      "source": [
        "**Positive Impact:**\n",
        "\n",
        "**1.\tRich Classic and Vintage Content Library:**\n",
        "\n",
        "•\tFeaturing actors like George 'Gabby' Hayes, Roy Rogers, and Gene Autry indicates a strong archive of classic Western and vintage films.\n",
        "\n",
        "•\tImpact: Attracts older audiences and film history enthusiasts, enhancing content diversity and brand reputation.\n",
        "\n",
        "**2.\tIncreased Viewer Engagement Through Familiar Faces:**\n",
        "\n",
        "•\tFrequent appearances by certain actors (e.g., Bess Flowers and Charles King) can lead to increased watch time as viewers may binge multiple titles featuring the same actors.\n",
        "\n",
        "•\tImpact: Boosts content continuity and viewer retention.\n",
        "\n",
        "**3.\t Inclusion of Regional Stars (e.g., Nassar):**\n",
        "\n",
        "•\tThe presence of Nassar (a renowned Indian actor) highlights Amazon Prime’s regional and international content investment.\n",
        "\n",
        "•\tImpact: Broadens the platform’s global reach and strengthens appeal to regional audiences, particularly in India.\n",
        "\n",
        "**Negative Impact:**\n",
        "\n",
        "**1. Overreliance on Vintage Content:**\n",
        "\n",
        "•\tThe majority of top actors (e.g., George 'Gabby' Hayes, Roy Rogers) are from classic Western or old Hollywood films.\n",
        "\n",
        "•\tImpact: May create a dated or niche perception of the platform’s library, especially among younger audiences who expect modern, diverse, and trending content.\n",
        "\n",
        "**2.  Lack of Actor Diversity:**\n",
        "\n",
        "•\tThe chart shows limited gender and ethnic diversity, with mostly male and Western actors dominating the list.\n",
        "\n",
        "•\t Impact: Suggests possible gaps in representation, which could be viewed negatively in a market that values inclusive storytelling and diverse casting.\n",
        "\n",
        "**3.  Risk of Content Redundancy:**\n",
        "\n",
        "•\tMultiple titles featuring the same actors may result in similar genres, themes, or production styles.\n",
        "\n",
        "•\tImpact: Users might experience content fatigue, finding the library repetitive or lacking freshness and innovation.\n",
        "\n",
        "\n"
      ]
    },
    {
      "cell_type": "markdown",
      "metadata": {
        "id": "n3dbpmDWp1ck"
      },
      "source": [
        "#### Chart - 12"
      ]
    },
    {
      "cell_type": "markdown",
      "metadata": {
        "id": "ZNEE4Jywn9kl"
      },
      "source": [
        "**What are the names of Top Directors who delivered Highest number of movies and TV-shows in Amazon Prime Dataset?**"
      ]
    },
    {
      "cell_type": "code",
      "execution_count": null,
      "metadata": {
        "collapsed": true,
        "id": "bwevp1tKp1ck"
      },
      "outputs": [],
      "source": [
        "# Chart - 12 visualization code\n",
        "movie_data=pd.merge(amazon_data, cast_data, on='id', how='inner')\n",
        "\n",
        "#Filter Director Data\n",
        "top_directors=movie_data.loc[movie_data.loc[:, 'Role']=='Director']\n",
        "\n",
        "# Top 10 Directors by number of titles\n",
        "top_10directors=top_directors.groupby(['Name'])['Title'].count().sort_values(ascending=False).reset_index().head(10)\n",
        "\n",
        "# Create an horizontal bar plot\n",
        "sns.set_theme(style='whitegrid')\n",
        "plt.figure(figsize=(15, 5))\n",
        "sns.barplot(top_10directors, x='Title', y='Name', palette='pastel')\n",
        "\n",
        "# Add titles and labels\n",
        "plt.title(\"Top 10 Popular Director\\'s Frequently Worked in Amazon Prime\", weight='bold')\n",
        "plt.xlabel(\"Title Volume\", fontsize=12)\n",
        "plt.ylabel(\"Top Director\\'s Name\", fontsize=12)\n",
        "\n",
        "for index, value in enumerate(top_10directors['Title']):\n",
        "    plt.text(value+0.1, index, f\"{(value):.0f}\", va='center', fontsize=8, color='black', weight='bold')\n",
        "\n",
        "# Customize tick labels for readability\n",
        "plt.xticks(fontsize=10)\n",
        "plt.yticks(fontsize=10)\n",
        "\n",
        "plt.tight_layout()\n",
        "plt.show()\n",
        "\n"
      ]
    },
    {
      "cell_type": "markdown",
      "metadata": {
        "id": "ylSl6qgtp1ck"
      },
      "source": [
        "##### 1. Why did you pick the specific chart?"
      ]
    },
    {
      "cell_type": "markdown",
      "metadata": {
        "id": "m2xqNkiQp1ck"
      },
      "source": [
        "To identify the name of the Directors who deliver the highest number of movies and TV shows in Amazon Prime."
      ]
    },
    {
      "cell_type": "markdown",
      "metadata": {
        "id": "ZWILFDl5p1ck"
      },
      "source": [
        "##### 2. What is/are the insight(s) found from the chart?"
      ]
    },
    {
      "cell_type": "markdown",
      "metadata": {
        "id": "x-lUsV2mp1ck"
      },
      "source": [
        "**1.\tStrong Presence of Classic Hollywood Directors:**\n",
        "\n",
        "Directors like Joseph Kane (41 titles), Sam Newfield (38), and Lesley Selander (22) were most active during the 1930s–1950s, often directing Westerns and serials. Amazon Prime has heavily licensed classic and public domain films, likely to expand its catalog cost-effectively.\n",
        "\n",
        "\n",
        "**2. Moderate Frequency Director:**\n",
        "\n",
        "Lesley Selander, John English, Hary L. Fraser where given movies or Tv-show good content but in a moderate number.\n",
        "Some more directors like William Nigh, Manny Rodriguez, Robert N Bradbury, George Archainbaud also showcase their work but in limited amount.\n"
      ]
    },
    {
      "cell_type": "markdown",
      "metadata": {
        "id": "M7G43BXep1ck"
      },
      "source": [
        "##### 3. Will the gained insights help creating a positive business impact?\n",
        "Are there any insights that lead to negative growth? Justify with specific reason."
      ]
    },
    {
      "cell_type": "markdown",
      "metadata": {
        "id": "5wwDJXsLp1cl"
      },
      "source": [
        "**Positive Impact:**\n",
        "\n",
        "**1.\tExtensive Genre Libraries:**\n",
        "\n",
        "Directors like Joseph Kane and Lesley Selander bring a wealth of Westerns and action content to the platform.\n",
        "\n",
        "**2.\tNiche Market Appeal:**\n",
        "\n",
        "Attracts loyal viewers interested in classic, genre-specific entertainment.\n",
        "\n",
        "\n",
        "**3.\tEfficient Content Scaling:**\n",
        "\n",
        "Licensing films from prolific directors enables fast content expansion with minimal cost.\n",
        "\n",
        "**Negative Impact:**\n",
        "\n",
        "**1.\tDominance of Mid-20th Century Directors:**\n",
        "\n",
        "Directors like Joseph Kane and Sam Newfield primarily worked in the 1930s–50s. It suggest overreliance on legacy films, which may not resonate with today’s mainstream viewers.\n",
        "\n",
        "**2.\tLack of Global and Modern Voices.**\n",
        "\n",
        "No international or contemporary directors represented. It reduces Amazon Prime’s global storytelling credibility and modern cinematic appeal.\n",
        "\n",
        "**3.\tInflated Title Volume via Low-Cost Content:**\n",
        "\n",
        "High title counts may come from public domain or low-budget titles, not high-quality productions. It can inflate content numbers without improving perceived value or quality of the platform.\n"
      ]
    },
    {
      "cell_type": "markdown",
      "metadata": {
        "id": "Ag9LCva-p1cl"
      },
      "source": [
        "#### Chart - 13"
      ]
    },
    {
      "cell_type": "markdown",
      "metadata": {
        "id": "i857PMaNRF_j"
      },
      "source": [
        "**Which are the top 10 longest running shows in Amazon_Prime?**"
      ]
    },
    {
      "cell_type": "code",
      "execution_count": null,
      "metadata": {
        "id": "EUfxeq9-p1cl"
      },
      "outputs": [],
      "source": [
        "# Chart - 13 visualization code\n",
        "\n",
        "# Filter only shows (not movies)\n",
        "shows_only = amazon_data[amazon_data['Type'] == 'Show']\n",
        "\n",
        "# Get top 10 shows with most seasons\n",
        "top_show=amazon_data.nlargest(10, 'Seasons').head(10)\n",
        "\n",
        "fig=px.bar(top_show, x='Title', y='Seasons', color='Title', title='Top 10 Highest longest running shows of in Amazon Prime', labels={'Title': 'Show Title'})\n",
        "fig.update_layout(title_font=dict(size=15, color='blue'), font=dict(size=10, color='blue'), paper_bgcolor='pink')\n",
        "fig.show()"
      ]
    },
    {
      "cell_type": "markdown",
      "metadata": {
        "id": "E6MkPsBcp1cl"
      },
      "source": [
        "##### 1. Why did you pick the specific chart?"
      ]
    },
    {
      "cell_type": "markdown",
      "metadata": {
        "id": "V22bRsFWp1cl"
      },
      "source": [
        "To analyse the Top 10 longest running showsare those with the highest number  of seasons and episode on Amazon Prime which engage audience and had consistent viewer interest."
      ]
    },
    {
      "cell_type": "markdown",
      "source": [],
      "metadata": {
        "id": "8dOM5oG37cHb"
      }
    },
    {
      "cell_type": "markdown",
      "metadata": {
        "id": "2cELzS2fp1cl"
      },
      "source": [
        "##### 2. What is/are the insight(s) found from the chart?"
      ]
    },
    {
      "cell_type": "markdown",
      "metadata": {
        "id": "ozQPc2_Ip1cl"
      },
      "source": [
        "\n",
        "**Key Insight:**\n",
        "\n",
        "**Dominance of Educational & Informative Content:**\n",
        "\n",
        "Titles like NOVA, Mister Rogers Neighborhood, and Great Performances indicate a strong viewer interest in factual, documentary-style, and cultural programming.\n",
        "\n",
        "**Sustained Audience Engagement:**\n",
        "\n",
        "Series with 30+ seasons demonstrate consistent viewer loyalty and content relevance across decades.\n",
        "\n",
        "**Diverse Content Categories:**\n",
        "\n",
        "The list spans genres—from science (NOVA), arts (Great Performances), and drama (The Bold and the Beautiful) to reality TV (Survivor, The Real World), appealing to a wide demographic.\n",
        "\n",
        "\n"
      ]
    },
    {
      "cell_type": "markdown",
      "metadata": {
        "id": "3MPXvC8up1cl"
      },
      "source": [
        "##### 3. Will the gained insights help creating a positive business impact?\n",
        "Are there any insights that lead to negative growth? Justify with specific reason."
      ]
    },
    {
      "cell_type": "markdown",
      "source": [
        "**Positive Impact:**\n",
        "\n",
        "**Enhanced Viewer Attention:**\n",
        "\n",
        "Long running shows offer multiple seasons that encourage binge watching and repeated visits to the platform. It will help to improve retention metric and increase average watch time.\n",
        "\n",
        "**Opportunities for Spinn-off & Franchise:**\n",
        "\n",
        "Successful long series open doors for spin-off series or prequel/sequels.\n",
        "\n",
        "**Establish Brand Identity:**\n",
        "\n",
        "Long running shows become content pillar for Amazon Prime. It helps to strengthen the brand recognition and build a reputation for reliable and high-quality story telling.\n",
        "\n",
        "**Negative Impact:**\n",
        "\n",
        "**Viewer’s fatigue and Drop-off:**\n",
        "\n",
        "Too many seasons can lead to decline in quality or repetitive story telling. Viewers may abandon the series mid-way.\n",
        "\n",
        "**Crowding out fresh content:**\n",
        "\n",
        "Continued promotion of legacy shows may limit visibility for new or experimental titles.\n",
        "\n",
        "**High Production Cost:**\n",
        "\n",
        "Long running shows do requires increase in actor salaries, complex production and extended crew and writing skill.  \n",
        "\n",
        "\n"
      ],
      "metadata": {
        "id": "SJHggx6YAQJu"
      }
    },
    {
      "cell_type": "markdown",
      "metadata": {
        "id": "nTSN20Z16syZ"
      },
      "source": [
        "#### Chart - 14\n",
        "\n",
        "\n"
      ]
    },
    {
      "cell_type": "markdown",
      "source": [
        "**What are the Top-20 show titles with high IMDB ratings of different combined-genres in Amazon Prime?**"
      ],
      "metadata": {
        "id": "c99Ylc4TKU6a"
      }
    },
    {
      "cell_type": "code",
      "execution_count": null,
      "metadata": {
        "id": "YVHnEGXJ6sya",
        "collapsed": true
      },
      "outputs": [],
      "source": [
        "# Chart-14 visualization code\n",
        "\n",
        "# Filter and sort shows\n",
        "top_shows=amazon_data.loc[amazon_data.loc[:, 'Type']=='Show']\n",
        "top_rated=top_shows.sort_values('IMDB Score', ascending=False)\n",
        "top_20_shows=top_rated[['Title', 'Genres', 'IMDB Score', 'Type']].head(20)\n",
        "\n",
        "\n",
        "# Bar plot\n",
        "fig=px.bar(top_20_shows, x='Title', y='IMDB Score', color='Genres', title='Top 20 high rated shows of different genres in Amazon Prime', labels={'title': 'Show Title'})\n",
        "fig.update_layout(title_font=dict(size=15, color='blue'), font=dict(size=10, color='blue'), paper_bgcolor='pink')\n",
        "fig.show()\n"
      ]
    },
    {
      "cell_type": "markdown",
      "metadata": {
        "id": "Gfjiekun6sya"
      },
      "source": [
        "##### 1. Why did you pick the specific chart?"
      ]
    },
    {
      "cell_type": "markdown",
      "metadata": {
        "id": "5r9Lr6fi6sya"
      },
      "source": [
        "Amazon Prime top-listed show title are not lagging behind in terms of IMDB rating and getting more attention from viewers despite of having low frequency in dataset. Need to find which genres of show attract audience. Hence Bar plot display the title of the show with different genres and higher rating."
      ]
    },
    {
      "cell_type": "markdown",
      "metadata": {
        "id": "Moq0SI2R6syb"
      },
      "source": [
        "##### 2. What is/are the insight(s) found from the chart?"
      ]
    },
    {
      "cell_type": "markdown",
      "metadata": {
        "id": "ZkjVzpKC6syb"
      },
      "source": [
        "**Insight:**\n",
        "\n",
        "**Comedy-Combined Genres:**\n",
        "\n",
        "Genres with the combination of ‘Drama, Comedy’, ‘Comedy, Drama’, ‘Comedy, Fantasy’, ‘Comedy, Fantasy’ and also ‘Comedy Documentation’ draws an emotional connection while keeping it light. This type of TV-show receives consistently high IMDB ratings, making them critical success and audience favorites. Comedy, Drama is the king. These genres bring emotion and humor and create binge-worthy show.\n",
        "\n",
        "**Drama is the King of the Amazon Prime Platform:**\n",
        "\n",
        "Drama is the core genre blends effectively with crime, thriller, comedy, and sci-fi amplify emotional and narrative depths.\n",
        "1)\tDrama, Comedy: Also known as ‘Dramedy’ is the blend of emotional depth and humor(comedy) creates relatable engaging content. Top-shows in this category are ‘Water Helps the Blood Run’ and ‘Panchayat’ top the chart with IMDB rating 9.7 and 8.8.\n",
        "\n",
        "2)\tDrama, Romance, Crime: These TV-shows titles offer a balanced mix of emotional story telling (Romance), plot driven tension (Crime) and Depth (Drama). Shows like ‘Couple of Mirror’ captivates the audience with multi-layered naratives.\n",
        "\n",
        "Drama, History: Drama + History content appeal to audience who enjoys rich story telling based on real event or historical fiction. The series like ‘The Chosen’ are critically acclaimed globally.\n",
        "\n",
        "3)\tDrama, Sport, Documentation: Titles in this genre’s combination offers behind the scenes visual, emotional journeys and real-life sporting drama which deeply engage fans. They often have international appeal especially for sports fan. ‘The Test: A Era for Australia’s Team’ is an example of it.\n",
        "\n",
        "4)\tDrama, Family, War, Animation, European: These titles excel in emotional storytelling, often dealing with historical conflicts, childhood struggles and cultural memory. The blend of animation with adult theme creates a unique and cinematic experience. European influence adds artistic depth with stylized animation. Title like Long-Long Holidays TV-shows give an artistic look and feel for an audience.\n",
        "\n",
        "5)\tAction, Drama, Family, Fantasy, Horror, European: This genre mix is ideal for imaginative and suspenseful storytelling with mature undertone often tackling dark fairytale theme.\n",
        "\n",
        "**Documentation:**\n",
        "\n",
        "Documentary TV-shows generally maintain a high average rating, often in 8.0 to 9.5 range, indicating strong viewer appreciation for informative and real-life content. High rating shows like Surgeon: At the Edge of Life, Free to Choose, Harmony with A. R. Rahman, James Martin: Home Comforts and My Greatest Dishes enhance brand reputation for offering educational and high-quality content.\n",
        "\n",
        "**Animation:**\n",
        "\n",
        "Appeal for both kid and adults, depending on the sub-genre. High rated series like ‘Bogyó és Babóca’ and ‘Owlegories’ contribute to viewer engagement and subscriber retention.\n",
        "\n",
        "**Other Genres Include: **\n",
        "\n",
        "1)\tSport: The Sport Genre especially combined with Documentary and Drama, has delivered consistently high IMDB ratings. Viewer connect strongly with real-life narratives, behind the scenes access making it   valuable asset in Amazon Prime. Loyal fan base for teams and players boost engagement. A Show like ‘Subaru Launch Control’engage an audience with good IMDB ratings.\n",
        "\n",
        "2)\tReality: The Reality genres thrive when combined with comedy and travel/documentary element especially in a show like ‘Clarkson’s Farm’ and ‘L.A. Frock Stars’ which consistently maintain high IMDB ratings and Strong global appeal.  \n",
        "\n",
        "\n",
        "   \n",
        "\n",
        "\n",
        "\n",
        "\n",
        "\n",
        "\n",
        "\n",
        "\n",
        "\n",
        "\n",
        "\n",
        "\n"
      ]
    },
    {
      "cell_type": "markdown",
      "metadata": {
        "id": "wZt_zqWOLChb"
      },
      "source": [
        "##### 3. Will the gained insights help creating a positive business impact?\n",
        "Are there any insights that lead to negative growth? Justify with specific reason."
      ]
    },
    {
      "cell_type": "markdown",
      "source": [
        "**Positive Impact:**\n",
        "\n",
        "**1.\tBroadened Audience Reach:**\n",
        "\n",
        "The wide range of genres—drama, comedy, history, reality, animation, and more—allows Amazon Prime to attract viewers of all age groups, interests, and cultures. This genre inclusivity increases subscriber retention and platform stickiness.\n",
        "\n",
        "**2.\tGlobal and Cultural Inclusion:**\n",
        "\n",
        "Featuring shows with international appeal and culturally rich narratives (e.g., Indian, European, and multilingual content) supports Amazon’s global expansion strategy. It reflects cultural sensitivity and localization, making the service more relevant to diverse demographics.\n",
        "\n",
        "**3.\tCritical and Audience Acclaim:**\n",
        "\n",
        "All top-rated shows have IMDb scores above 8.5, indicating high viewer satisfaction and critical recognition. Strong ratings enhance platform credibility and word-of-mouth marketing.\n",
        "\n",
        "**Negative Impact:**\n",
        "\n",
        "**1.\tOverrepresentation of Documentaries:**\n",
        "\n",
        "A significant portion of the top-rated shows belongs to the documentary or reality-based genres (e.g., “Surgeons,” “James Martin,” “Clarkson’s Farm”). This could signal a lack of strong narrative-driven scripted series among the top performers, potentially alienating users who prefer fictional or genre-rich content like sci-fi, thrillers, or fantasy.\n",
        "\n",
        "**2.\tLimited Genre Breadth in Top Performers:**\n",
        "\n",
        "Despite apparent diversity, some major genres—such as action, horror, crime, fantasy, and sci-fi—are underrepresented or missing entirely. This indicates a gap in high-quality genre-specific productions, which could limit Amazon’s competitiveness against platforms like Netflix or Disney+ in those categories.\n",
        "\n",
        "**3.\tHigh Ratings Don’t Equate to Popularity:**\n",
        "\n",
        "While these shows have high IMDb scores, they may not necessarily be the most-watched or revenue-generating. Focusing too much on critical darlings instead of balancing critical acclaim with audience mass appeal could affect overall content profitability.\n",
        "\n",
        "\n",
        "\n",
        "\n",
        "\n"
      ],
      "metadata": {
        "id": "vTLivhpaLChc"
      }
    },
    {
      "cell_type": "markdown",
      "metadata": {
        "id": "fLzXrG70Y_rI"
      },
      "source": [
        "#### Chart - 15\n",
        "\n",
        "\n"
      ]
    },
    {
      "cell_type": "markdown",
      "source": [
        "**What are the top-10 trending TV-Shows in Amazon Prime dataset?**"
      ],
      "metadata": {
        "id": "JU4UmZmrY_rJ"
      }
    },
    {
      "cell_type": "code",
      "execution_count": null,
      "metadata": {
        "id": "bzkqM9aiLYiE"
      },
      "outputs": [],
      "source": [
        "# Chart - 15 visualization code\n",
        "\n",
        "#Top trending TV-shows.\n",
        "#Trending=Title with highest IMDB votes\n",
        "\n",
        "movie_data=amazon_data.loc[amazon_data.loc[:, 'Type']=='Show']\n",
        "\n",
        "top_imdb_votes= movie_data.sort_values('IMDB Votes', ascending=False)\n",
        "\n",
        "trending_top10=top_imdb_votes[['Title', 'IMDB Votes']].head(10)\n",
        "\n",
        "# Create an horizontal bar plot\n",
        "plt.figure(figsize=(18, 5))\n",
        "sns.barplot(trending_top10, x='IMDB Votes', y='Title', palette='pastel')\n",
        "\n",
        "# Add titles and labels\n",
        "plt.title(\"Top 10 Trending Tv-Shows on Amazon Prime (by IMDb Votes)\", weight='bold')\n",
        "plt.xlabel(\"Movie Title\")\n",
        "plt.ylabel(\"IMDB Votes\")\n",
        "\n",
        "# Add value annotations to each bar for clarity\n",
        "for index, value in enumerate(trending_top10['IMDB Votes']):\n",
        "    plt.text(value+0.5, index, f\"{(value):.0f}\", va='center', fontsize=9, color='black', weight='bold')\n",
        "\n",
        "# Customize tick labels for readability\n",
        "plt.xticks(fontsize=10)\n",
        "plt.yticks(fontsize=10)\n",
        "\n",
        "# Show the plot\n",
        "plt.tight_layout()\n",
        "plt.show()\n",
        "\n"
      ]
    },
    {
      "cell_type": "markdown",
      "metadata": {
        "id": "S_Hj0S9dY_rJ"
      },
      "source": [
        "##### 1. Why did you pick the specific chart?"
      ]
    },
    {
      "cell_type": "markdown",
      "metadata": {
        "id": "w4lM7-qRY_rK"
      },
      "source": [
        "Amazon Prime top-listed show title are not lagging behind in terms of IMDB rating and getting more attention from viewers despite of having low frequency in dataset. Need to find which genres of show attract audience. Hence Bar plot display the title of the show with different genres and higher rating."
      ]
    },
    {
      "cell_type": "markdown",
      "metadata": {
        "id": "wgIKZYbwY_rK"
      },
      "source": [
        "##### 2. What is/are the insight(s) found from the chart?"
      ]
    },
    {
      "cell_type": "markdown",
      "metadata": {
        "id": "qG9tBAJYY_rK"
      },
      "source": [
        "**Insights:**\n",
        "\n",
        "**1.\tStrong Preference for Crime, Thriller, and Drama:**\n",
        "\n",
        "Top-voted shows like Dexter (711,566), Better Call Saul, Mr. Robot, and The Boys reflect a clear audience interest in crime, psychological thrillers, and morally complex dramas.  These genres drive high viewer engagement and loyalty, offering opportunities for Amazon to invest in similar originals.\n",
        "\n",
        "**2.\tMix of Classic and Contemporary Hits:**\n",
        "\n",
        "Older series like How I Met Your Mother and House are still trending alongside newer shows like The Boys. Amazon is successfully appealing to both nostalgic and current audiences, leveraging timeless content and modern hits.\n",
        "\n",
        "**3.\tHigh IMDb Votes = Strong Brand Recognition:**\n",
        "\n",
        "All top 10 shows have over 250,000 votes, indicating widespread familiarity and global popularity. Amazon is investing in or licensing globally recognized titles, ensuring strong discovery and search traffic.\n",
        "\n",
        "\n",
        "\n",
        "\n",
        "\n",
        "\n",
        "\n",
        "\n",
        "\n",
        "\n"
      ]
    },
    {
      "cell_type": "markdown",
      "metadata": {
        "id": "YkSYH8I1Y_rK"
      },
      "source": [
        "##### 3. Will the gained insights help creating a positive business impact?\n",
        "Are there any insights that lead to negative growth? Justify with specific reason."
      ]
    },
    {
      "cell_type": "markdown",
      "source": [
        "**Positive Impact:**\n",
        "\n",
        "**1.\tHigh Viewer Engagement & Trust:**\n",
        "\n",
        "Shows like Dexter (711K+ votes), How I Met Your Mother, and Vikings reflect massive audience interaction. These titles boost credibility and trust in Amazon Prime’s content library, helping attract new users.\n",
        "\n",
        "**2.\tStrong Genre Coverage:**\n",
        "\n",
        "Includes crime dramas, comedies, sci-fi thrillers, superhero content, and legal shows. It supports a diverse and inclusive viewer base, reducing churn by catering to multiple preferences.\n",
        "\n",
        "**3.\tStrategic Use of Popular Legacy Titles:**\n",
        "\n",
        "Syndicated hits like House, Suits, and How I Met Your Mother are proven binge-friendly series. These shows increase watch time and retention, especially from users seeking long-form, comforting content.\n",
        "\n",
        "**Negative Impact:**\n",
        "\n",
        "**1.\tLack of Amazon Originals in the Top Tier:**\n",
        "\n",
        "Only The Boys is an Amazon Original among the top 10. Weak visibility of in-house content may hurt brand identity and platform differentiation versus Netflix or Disney+.\n",
        "\n",
        "**2.\tOlder Series Dominance:**\n",
        "\n",
        "Several trending shows ended years ago (e.g., Dexter, House, HIMYM, Community). While nostalgic, it implies a lack of fresh, trending new releases driving current engagement.\n",
        "\n",
        "**3.\tLimited Representation of Global or Regional Content:**\n",
        "\n",
        "All shows are Western/English-language productions. Misses opportunities to showcase regional, international, or non-English language series, especially in growing markets like India, Latin America, and Southeast Asia.\n",
        "\n",
        "\n",
        "\n",
        "\n"
      ],
      "metadata": {
        "id": "24KARHMGY_rK"
      }
    },
    {
      "cell_type": "markdown",
      "source": [
        "**What are the Top-20 show titless with high IMDB ratings of different genres?**"
      ],
      "metadata": {
        "id": "mWW4m2UJY_rK"
      }
    },
    {
      "cell_type": "markdown",
      "metadata": {
        "id": "m30OdlaO-06u"
      },
      "source": [
        "#### Chart - 16\n",
        "\n",
        "\n"
      ]
    },
    {
      "cell_type": "markdown",
      "source": [
        "**Which Top-10 Country delivers best content in Amazon Prime?**"
      ],
      "metadata": {
        "id": "TlSaejda-06w"
      }
    },
    {
      "cell_type": "code",
      "execution_count": null,
      "metadata": {
        "collapsed": true,
        "id": "n0NeQ3lN-06x"
      },
      "outputs": [],
      "source": [
        "# Chart - 16 visualization code\n",
        "\n",
        "#Top Countries delivering best content.\n",
        "#Best Content =Title with Good IMDB ratings\n",
        "\n",
        "#Filter with rating status of 'Good Rating' movies or TV-shows\n",
        "rating_status=amazon_data.loc[amazon_data.loc[:, 'IMDB Rating Status']=='Good Rating']\n",
        "\n",
        "#Group By with country names holding count of Good Rating TV-shows or movies.\n",
        "country_content_status=rating_status.groupby('Production Countries')['IMDB Rating Status'].count().reset_index().sort_values('IMDB Rating Status', ascending=False).rename({'IMDB Rating Status':'count'}, axis=1).head(10)\n",
        "\n",
        "#set the index columns as production countries\n",
        "country_content_status.set_index('Production Countries', inplace=True)\n",
        "\n",
        "#Plot the Bar\n",
        "fig, ax=plt.subplots(figsize=(15, 5))\n",
        "ax = country_content_status.plot.bar(ax=ax, legend=False, color='blue')\n",
        "plt.xlabel('Production Countries')\n",
        "plt.ylabel('Frequency of Good Content')\n",
        "plt.title(\"Top-10 Countries Delivering the Best Content in Amazon Prime\", weight='bold')\n",
        "\n",
        "for container in ax.containers:\n",
        "    ax.bar_label(container, fmt='%.0f', padding=1, fontsize=9, weight='bold')\n",
        "\n",
        "plt.tight_layout()\n",
        "plt.show()\n",
        "\n",
        "\n"
      ]
    },
    {
      "cell_type": "markdown",
      "metadata": {
        "id": "lwZN6DM2-06x"
      },
      "source": [
        "##### 1. Why did you pick the specific chart?"
      ]
    },
    {
      "cell_type": "markdown",
      "metadata": {
        "id": "qQy5sEWC-06y"
      },
      "source": [
        "To demonstrate which country deliver the good level of content in both Movies and TV-shows in high volumes. The bar chart will represent the frequency of high-rated content of different countries in Amazon Prime."
      ]
    },
    {
      "cell_type": "markdown",
      "metadata": {
        "id": "2UzQFYeO-06y"
      },
      "source": [
        "##### 2. What is/are the insight(s) found from the chart?"
      ]
    },
    {
      "cell_type": "markdown",
      "metadata": {
        "id": "FV1i-q_k-06y"
      },
      "source": [
        "**Insight:**\n",
        "\n",
        "**1.\tUnited States Dominates Content Delivery:**\n",
        "\n",
        "With 1,009 entries, the US contributes the largest volume of high-quality content on Amazon Prime. Amazon heavily relies on US based productions to maintain platform quality and viewer appeal.\n",
        "\n",
        "**2.\tIndia Ranks 2nd in Quality Content:**\n",
        "\n",
        "India delivers 343 quality titles, showing strong regional and global performance. It Indicates a growing demand and success of Indian cinema/series, especially among South Asian and global diaspora viewers.\n",
        "\n",
        "**3.\tUnited Kingdom Holds a Strong Position:**\n",
        "\n",
        "The UK stands 3rd with 234 titles, showcasing the influence of British drama, crime series, and historical content. UK content serves both English-speaking markets and international audiences appreciating British storytelling.\n",
        "\n",
        "**4.\tWide but Uneven International Representation:**\n",
        "\n",
        "Countries like Japan (71), Canada (65), Australia (50), China (31), France (25), and Germany (19) contribute significantly less.  Amazon Prime’s global content footprint is limited, particularly from non-English speaking regions.\n",
        "\n",
        "\n",
        "\n",
        "\n",
        "\n",
        "\n",
        "\n",
        "\n",
        "\n",
        "\n",
        "\n"
      ]
    },
    {
      "cell_type": "markdown",
      "metadata": {
        "id": "Or5sMb6j-06y"
      },
      "source": [
        "##### 3. Will the gained insights help creating a positive business impact?\n",
        "Are there any insights that lead to negative growth? Justify with specific reason."
      ]
    },
    {
      "cell_type": "markdown",
      "source": [
        "**Positive Impact:**\n",
        "\n",
        "**1.\tStrong U.S. Content Drives Global Appeal:**\n",
        "\n",
        "US productions boost international popularity, helping Amazon Prime dominate in English-speaking and global markets due to Hollywood’s wide reach.\n",
        "\n",
        "**2.\tDiverse International Contributors:**\n",
        "\n",
        "Countries like Japan, Canada, Australia, and France offer unique content perspectives. They support content diversity, catering to a wide range of global tastes and cultural preferences.\n",
        "\n",
        "**3.\tFoundation for Global Expansion:**\n",
        "\n",
        "The current base of international content (especially from India and Japan) provides a launchpad for regional growth. Positions Amazon Prime for future market expansion in Asia-Pacific and Europe.\n",
        "\n",
        "**Negative Impact:**\n",
        "\n",
        "**1.\tOverdependence on US Content:**\n",
        "\n",
        "It creates content concentration risk—if licensing costs rise or user tastes shift, Amazon may struggle to diversify quickly.\n",
        "\n",
        "**2.\tUnderrepresentation of Global Markets:**\n",
        "\n",
        "Countries like France (25 titles), Germany (19), China (31), and others contribute minimal content.  It Signals limited content localization, potentially alienating users in non-English-speaking and emerging markets.\n",
        "\n",
        "**3.\tLimited Genre and Cultural Diversity:**\n",
        "\n",
        "Heavy reliance on US, UK, and Indian content often means similar storytelling styles and themes. It results in less variety in cultural perspectives, making the platform less appealing to viewers seeking international or indigenous storytelling.\n",
        "\n",
        "**4.\tMissed Opportunities in Key Regions.**\n",
        "\n",
        "Africa, Latin America, Southeast Asia, and the Middle East are absent from the top 10.\n",
        "\n",
        "\n",
        "\n",
        "\n",
        "\n",
        "\n"
      ],
      "metadata": {
        "id": "zhibxiFw-06z"
      }
    },
    {
      "cell_type": "markdown",
      "metadata": {
        "id": "rzpUL2zBbAbE"
      },
      "source": [
        "#### Chart - 17\n",
        "\n",
        "\n"
      ]
    },
    {
      "cell_type": "markdown",
      "source": [
        "**Which actors have the highest average IMDb rating across all their titles?**"
      ],
      "metadata": {
        "id": "6qIF1bHUbAbE"
      }
    },
    {
      "cell_type": "code",
      "execution_count": null,
      "metadata": {
        "collapsed": true,
        "id": "Cv0GzE6ObAbE"
      },
      "outputs": [],
      "source": [
        "# Chart - 17 visualization code\n",
        "\n",
        "# Merge Amazon data with cast data\n",
        "movie_data=pd.merge(amazon_data, cast_data, on='id', how='inner')\n",
        "\n",
        "# Filter for actors only\n",
        "actor_data=movie_data.loc[movie_data.loc[:, 'Role']=='Actor']\n",
        "\n",
        "# Group by actor name, count titles, and average IMDb score\n",
        "top_actors=actor_data.groupby(['Name']).agg({'Title': 'count', 'IMDB Score': 'mean'}).reset_index()\n",
        "\n",
        "# Filter: more than 10 titles & IMDb > 7\n",
        "top_rated_actors=top_actors.loc[(top_actors.loc[:, 'Title'] > 10) & (top_actors.loc[:, 'IMDB Score']>7)].sort_values('IMDB Score', ascending=False)\n",
        "\n",
        "#set_index\n",
        "top_rated_actors.set_index('Name', inplace=True)\n",
        "\n",
        "\n",
        "#Plot a graph\n",
        "fig, axes=plt.subplots(figsize=(15, 5))\n",
        "barplot=sns.barplot(top_rated_actors, x=top_rated_actors.index, y='IMDB Score', hue='Title', palette='pastel', ax=axes)\n",
        "\n",
        "\n",
        "# Add titles and labels\n",
        "axes.legend(title='Titles Count', bbox_to_anchor=(1.02, 1), loc='upper left', borderaxespad=0)\n",
        "axes.set_title(\"Top Actors on Amazon Prime (IMDb Score > 7 & More than 10 Titles)\", weight='bold')\n",
        "axes.set_xlabel(\"Actor\\'s Name\")\n",
        "axes.set_ylabel(\"IMDB Average Rating\")\n",
        "\n",
        "# Add value annotations to each bar for clarity\n",
        "for container in barplot.containers:\n",
        "    barplot.bar_label(container, fmt='%.2f', padding=1, fontsize=9, weight='bold')\n",
        "\n",
        "# Customize tick labels for readability\n",
        "plt.xticks(fontsize=10)\n",
        "plt.yticks(fontsize=10)\n",
        "plt.tight_layout()\n",
        "plt.show()\n",
        "\n"
      ]
    },
    {
      "cell_type": "markdown",
      "metadata": {
        "id": "-o0EXnD3bAbE"
      },
      "source": [
        "##### 1. Why did you pick the specific chart?"
      ]
    },
    {
      "cell_type": "markdown",
      "metadata": {
        "id": "1Nc3y6_NbAbE"
      },
      "source": [
        "To determine which actors, have the highest average IMDb rating across all their titles, we analyse their IMDb score averages, filtered by the number of appearances (titles) they have. This ensures ratings are not biased by single-hit performances."
      ]
    },
    {
      "cell_type": "markdown",
      "metadata": {
        "id": "8qwiRylAbAbF"
      },
      "source": [
        "##### 2. What is/are the insight(s) found from the chart?"
      ]
    },
    {
      "cell_type": "markdown",
      "metadata": {
        "id": "cl_pwhWrbAbF"
      },
      "source": [
        "**Insights:**\n",
        "\n",
        "**1)\tConsistently High Performers:**\n",
        "\n",
        "Achyuth Kumar leads with an impressive IMDb average rating of 7.38 across 14 titles. Actor Kaali Venkat also appear in multiple highly rated titles, showing consistent audience approval and critical acclaim.\n",
        "\n",
        "**2)\tGlobal Representation:**\n",
        "\n",
        "All six actors maintain ratings between 7.02 and 7.38, demonstrating remarkable consistency. The group includes talent from diverse backgrounds, including Indian cinema and Japanese voice acting, showing cross-regional appeal.\n",
        "\n",
        "\n",
        "\n"
      ]
    },
    {
      "cell_type": "markdown",
      "metadata": {
        "id": "_uaU9JYubAbF"
      },
      "source": [
        "##### 3. Will the gained insights help creating a positive business impact?\n",
        "Are there any insights that lead to negative growth? Justify with specific reason."
      ]
    },
    {
      "cell_type": "markdown",
      "source": [
        "**Positive Impact:**\n",
        "\n",
        "**1.\tBoosts Platform Credibility:**\n",
        "\n",
        "High IMDb ratings (7.02–7.38) suggest these actors frequently deliver well-received content. It builds trust in Amazon Prime's catalogue as viewers associate these actors with quality.\n",
        "\n",
        "**2.\tPromotes Regional & International Talent:**\n",
        "\n",
        "Actors such as Achyuth Kumar, Samantha Ruth Prabhu, and Takahiro Sakurai indicate strong performance by Indian and Japanese actors. Highlights Amazon’s regional content success, especially in South Asia and East Asia, aiding in localized growth.\n",
        "\n",
        "**3.\tRetention Through Familiar Faces:**\n",
        "\n",
        "These actors appear in 11 to 14 titles each, indicating repeated collaborations with Amazon Prime. It strengthens viewer retention, as fans are likely to continue watching content featuring familiar high-rated actors.\n",
        "\n",
        "**Negative Impact:**\n",
        "\n",
        "**1.\tNarrow Representation:**\n",
        "\n",
        "Only 6 actors are featured, suggesting limited diversity in consistently high-rated performers with large title volumes. It could indicate over-reliance on a small talent pool, potentially limiting content variety.\n",
        "\n",
        "**2.\tGenre/Regional Clustering:**\n",
        "\n",
        "The actors may be concentrated in specific genres or regional markets (e.g., South Indian cinema, anime). While strong locally, this may not translate to broad international appeal, reducing global platform engagement.\n",
        "\n",
        "\n",
        "\n",
        "\n"
      ],
      "metadata": {
        "id": "yvdb8csobAbF"
      }
    },
    {
      "cell_type": "markdown",
      "metadata": {
        "id": "TIZe1m8DWGZj"
      },
      "source": [
        "#### Chart - 18\n",
        "\n",
        "\n"
      ]
    },
    {
      "cell_type": "markdown",
      "source": [
        "**Which directors bring in higher IMDb votes from global audiences?**"
      ],
      "metadata": {
        "id": "NVY0-N00WGZk"
      }
    },
    {
      "cell_type": "code",
      "source": [
        "# Chart - 18 visualization code\n",
        "# Merge the datasets\n",
        "movie_data=pd.merge(amazon_data, cast_data, on='id', how='inner')\n",
        "\n",
        "# Filter directors only\n",
        "director_data=movie_data.loc[movie_data.loc[:, 'Role']=='Director']\n",
        "\n",
        "# Aggregate title count and total IMDb votes\n",
        "top_directors=director_data.groupby(['Name']).agg({'Title': 'count', 'IMDB Votes': 'sum'}).reset_index().sort_values('IMDB Votes', ascending=False)\n",
        "\n",
        "# Filter directors with more than 3 titles\n",
        "top_rated_director=top_directors.loc[top_directors.loc[:, 'Title'] > 3].head(10)\n",
        "\n",
        "#Plot a graph\n",
        "fig, axes=plt.subplots(figsize=(15, 5))\n",
        "barplot=sns.barplot(top_rated_director, x='IMDB Votes', y='Name', hue='Title', palette='pastel', ax=axes)\n",
        "\n",
        "# Add titles and labels\n",
        "axes.legend(title='Titles Count', bbox_to_anchor=(1.02, 1), loc='upper left', borderaxespad=0)\n",
        "axes.set_title(\"Top 10 Directors with Highest IMDB Votes (Amazon Prime)\", weight='bold')\n",
        "axes.set_ylabel(\"Director\\'s Name\")\n",
        "axes.set_xlabel(\"Total IMDB Votes\")\n",
        "\n",
        "\n",
        "# Add value annotations to each bar for clarity\n",
        "for container in barplot.containers:\n",
        "    barplot.bar_label(container, fmt='%.0f', padding=1, fontsize=9, weight='bold')\n",
        "\n",
        "# Customize tick labels for readability\n",
        "plt.xticks(fontsize=10)\n",
        "plt.yticks(fontsize=10)\n",
        "\n",
        "plt.tight_layout()\n",
        "plt.show()\n",
        "\n"
      ],
      "metadata": {
        "id": "amAqeVztc9NU"
      },
      "execution_count": null,
      "outputs": []
    },
    {
      "cell_type": "markdown",
      "metadata": {
        "id": "w02F-3zpWGZl"
      },
      "source": [
        "##### 1. Why did you pick the specific chart?"
      ]
    },
    {
      "cell_type": "markdown",
      "metadata": {
        "id": "b5x7KWGFWGZm"
      },
      "source": [
        "Highlighting and promoting directors with globally engaging titles increases platform viewership, boosts engagement (votes, reviews), and elevates brand trust. Amazon Prime should prioritize exclusive rights and original productions from such directors."
      ]
    },
    {
      "cell_type": "markdown",
      "metadata": {
        "id": "OpCPZHz3WGZm"
      },
      "source": [
        "##### 2. What is/are the insight(s) found from the chart?"
      ]
    },
    {
      "cell_type": "markdown",
      "metadata": {
        "id": "F-VNwhk4WGZm"
      },
      "source": [
        "**Insights:**\n",
        "\n",
        "**1)\tHigh Global Popularity:**\n",
        "\n",
        "Directors like Martin Scorsese films have massive international reach, confirming legendary status and influence in cinematic storytelling.\n",
        "\n",
        "Roger Donaldson and Frank Capra follow closely with 471,418 and 463,964 votes, respectively—highlighting their significant appeal.\n",
        "\n",
        "\n",
        "**3)\tQuality over Quantity:**\n",
        "\n",
        "Despite directing fewer titles (4 to 6) compared to others with up to 13 titles, many of these directors have amassed a higher vote-per-title ratio, indicating high-impact productions.\n",
        "\n",
        "\n",
        "\n",
        "\n"
      ]
    },
    {
      "cell_type": "markdown",
      "metadata": {
        "id": "q1G0TPwaWGZm"
      },
      "source": [
        "##### 3. Will the gained insights help creating a positive business impact?\n",
        "Are there any insights that lead to negative growth? Justify with specific reason."
      ]
    },
    {
      "cell_type": "markdown",
      "source": [
        "**Positive Impact:**\n",
        "\n",
        "**1.\tEnhanced Viewer Trust & Loyalty:**\n",
        "\n",
        "Directors like Martin Scorsese and Frank Capra are trusted names in cinema. Their presence boosts viewer confidence, encouraging users to watch more content on Amazon Prime.\n",
        "\n",
        "**2.\tBoost in Platform Credibility:**\n",
        "\n",
        "Hosting films by globally acclaimed directors strengthens Amazon Prime's brand authority in the competitive streaming market.\n",
        "\n",
        "**3.\tHigh Engagement & Watch Time:**\n",
        "\n",
        "High IMDb vote counts suggest that their movies attract large audiences and often lead to rewatches or discussions, increasing overall user engagement.\n",
        "\n",
        "**4.\tIncreased Subscription Retention:**\n",
        "\n",
        "Fans of these directors may subscribe and remain active on the platform longer, knowing they can access exclusive or hard-to-find classic and modern titles.\n",
        "\n",
        "**Negative Impact:**\n",
        "\n",
        "**1.\tOver-Reliance on Legacy Directors:**\n",
        "\n",
        "Many listed directors (e.g., Martin Scorsese, Frank Capra, William Wyler) are known for older or classic films. This can skew the content library toward older demographics, potentially alienating younger viewers seeking fresh, contemporary stories.\n",
        "\n",
        "**2.\tContent Saturation Risk:**\n",
        "\n",
        "If a large portion of popular content is centered around a few directors, Amazon Prime risks content repetition, where new releases may feel redundant or stylistically similar.\n",
        "\n",
        "**3.\tGeographical Bias:**\n",
        "\n",
        "Despite some global representation, most top directors are from Western countries, possibly limiting regional storytelling diversity. This may weaken Prime Video’s competitiveness in emerging markets.\n",
        "\n",
        "\n",
        "\n",
        "\n",
        "\n",
        "\n",
        "\n"
      ],
      "metadata": {
        "id": "kHkk5sVyWGZm"
      }
    },
    {
      "cell_type": "markdown",
      "metadata": {
        "id": "upMMnIYFrRgB"
      },
      "source": [
        "#### Chart - 19\n",
        "\n",
        "\n"
      ]
    },
    {
      "cell_type": "markdown",
      "source": [
        "**Which genre combination receives the most IMDb votes?**"
      ],
      "metadata": {
        "id": "RLw0joj3rRgB"
      }
    },
    {
      "cell_type": "code",
      "source": [
        "# Chart - 19 visualization code\n",
        "\n",
        "\n",
        "genres_data=amazon_data.loc[:, ['Genres', 'Title', 'IMDB Votes']]\n",
        "\n",
        "# Aggregate vote counts and title frequency\n",
        "top_genres=genres_data.groupby(['Genres']).agg({'Title': 'count', 'IMDB Votes': 'sum'}).reset_index().sort_values('IMDB Votes', ascending=False).head(10)\n",
        "\n",
        "#Plot a graph\n",
        "fig, axes=plt.subplots(figsize=(15, 5))\n",
        "barplot=sns.barplot(top_genres, x='IMDB Votes', y='Genres', hue='Title', palette='pastel', ax=axes)\n",
        "\n",
        "# Add titles and labels\n",
        "axes.legend(title='Titles Count', bbox_to_anchor=(1.02, 1), loc='upper left', borderaxespad=0)\n",
        "axes.set_title(\"Top 10 Genres with Total IMDb Votes (Amazon Prime)\", weight='bold')\n",
        "axes.set_ylabel(\"Genre\")\n",
        "axes.set_xlabel(\"Total IMDB Votes\")\n",
        "\n",
        "\n",
        "# Add value annotations to each bar for clarity\n",
        "for container in barplot.containers:\n",
        "    barplot.bar_label(container, fmt='%.0f', padding=1, fontsize=7, weight='bold')\n",
        "\n",
        "# Customize tick labels for readability\n",
        "plt.xticks(fontsize=10)\n",
        "plt.yticks(fontsize=10)\n",
        "\n",
        "sns.set_context('notebook')  #Highlights the graph in a better way.\n",
        "sns.set_style(\"darkgrid\")\n",
        "plt.tight_layout()\n",
        "plt.show()\n",
        "\n"
      ],
      "metadata": {
        "id": "naMhbIhCrRgB"
      },
      "execution_count": null,
      "outputs": []
    },
    {
      "cell_type": "markdown",
      "metadata": {
        "id": "ZRCLUUKcrRgB"
      },
      "source": [
        "##### 1. Why did you pick the specific chart?"
      ]
    },
    {
      "cell_type": "markdown",
      "metadata": {
        "id": "2aKG36KmrRgB"
      },
      "source": [
        "Genres with high IMDB vote counts signal strong user attention, buzz and repeat viewership. Investing in Top performing genres like Thriller, Drama, Romance and Comedy and Action can lead to greater platform stickiness and subscriber growth."
      ]
    },
    {
      "cell_type": "markdown",
      "metadata": {
        "id": "IzHp_60UrRgC"
      },
      "source": [
        "##### 2. What is/are the insight(s) found from the chart?"
      ]
    },
    {
      "cell_type": "markdown",
      "metadata": {
        "id": "bXlxwYtOrRgC"
      },
      "source": [
        "**Insights:**\n",
        "\n",
        "**1)\tThriller, Crime, Drama and Drama, Romance:**\n",
        "\n",
        "Thriller, Crime, Drama- Multi-genres content of thriller, crime and drama dominates the chart as the most viewed genres. These genres usually contain the suspense and thriller that engage audience on a large scale.\n",
        "Drama, Romance- These multi-genres also step foot in audience engagement giving a vibe of romance, love and entertainment. These dramas have high number of content and also attract audience on global level.\n",
        "\n",
        "**2)\tComedy/Drama/Comedy and Drama:**\n",
        "\n",
        "Comedy: The Comedy contains a higher number of titles which express an audience with dosage of laughter. This light-hearted entertainment also captures audience attentions and has been given more flavor of entertainment.\n",
        "\n",
        "Drama: Drama do have a very large number of contents compare to overall genres. The dramas are watch by selective audience who are interested in emotional narratives like complex human relationship, social issues and conflict and many more.\n",
        "\n",
        "Comedy and Drama: Comedy and Drama combines genres with very large content do express emotions very well and content are made on the basis of humorous and emotional purpose. The audience who watches these content will receive a mixed expression.\n",
        "\n",
        "**3)\tSci-Fi, Action:**\n",
        "\n",
        "Though smaller in volume, Sci-Fi and Mystery show intense engagement per title. Their complex plots often drive fan-discussion and repeat viewing.\n",
        "\n",
        "**4)\tThriller, Drama:**\n",
        "\n",
        "Thriller often top the chart with frequently incorporating dramatic elements and dramas sometimes featuring suspenseful and thrilling storylines. These drama with large number of give binge audience the thrill to watch the content.\n",
        "\n",
        "**5)\tDrama, History, War:**\n",
        "\n",
        "The periodical content with very fewer titles (10) but do attract audience on a large scale. These types of drama do have ancient history, suspense and war which attract regional audience and international who find interesting to know the storyline and content that serve on Amazon platform. These genre give a vibe of quality over quantity.\n",
        "\n",
        "**6)\tThriller, Action, Crime:**\n",
        "\n",
        "The content based on Thriller can be seen to widely served in Amazon platform which giving a mixture of multi-genre. The Thriller combined with action and crime which have very fewer title (26) but do have more engagement of an audience which gives an expression that audience loves suspense and thrilling storylines.\n",
        "\n",
        "**7)\tDrama, Comedy, Romance:**\n",
        "\n",
        "The drama filled with Comedy and Romance often known as rom-com drama also entertained audience on a large scale giving multi-genres vibes giving mixed emotions content on a large scale.\n",
        "\n",
        "**8)\tGenre diversity supports broader engagement:**\n",
        "\n",
        "The presence of multiple high-vote genres shows Amazon Prime content strategy is well rounded.\n",
        "\n",
        "\n",
        "\n",
        "\n",
        "\n"
      ]
    },
    {
      "cell_type": "markdown",
      "metadata": {
        "id": "4wNEHKnKrRgC"
      },
      "source": [
        "##### 3. Will the gained insights help creating a positive business impact?\n",
        "Are there any insights that lead to negative growth? Justify with specific reason."
      ]
    },
    {
      "cell_type": "markdown",
      "source": [
        "**Positive Impact:**\n",
        "\n",
        "**1.\tIncreased Viewer Engagement:**\n",
        "\n",
        "Genres like “Thriller, Crime, Drama” and “Drama, Romance” are drawing millions of IMDb votes, indicating strong viewer connection and sustained interest.\n",
        "\n",
        "**2.\tContent Diversification Success:**\n",
        "\n",
        "The high vote counts across diverse genre combinations (comedy, action, sci-fi, romance) suggest Amazon Prime’s strategy of offering a wide variety of hybrid genres is effectively appealing to different audience segments.\n",
        "\n",
        "**3.\tData-Driven Content Acquisition:**\n",
        "\n",
        "High-performing genres provide Amazon with clear signals for future content investment, helping prioritize content that aligns with audience tastes and maximizes viewership.\n",
        "\n",
        "**Negative Impact:**\n",
        "\n",
        "**1.\tOver-Concentration on Popular Genres:**\n",
        "\n",
        "Heavy reliance on top genres like “thriller, crime, drama” and “drama, romance” may lead to content saturation, making the platform feel repetitive and less innovative.\n",
        "\n",
        "**2.\tUnderrepresentation of Niche Genres:**\n",
        "\n",
        "Genres with fewer votes or less visibility may receive reduced investment, potentially alienating audiences who seek unique or culturally diverse content (e.g., documentaries, experimental cinema).\n",
        "\n",
        "**3.\tViewer Fatigue:**\n",
        "\n",
        "Overuse of emotionally intense genres (like thrillers and dramas) can lead to viewer burnout, especially if lighter or alternative content is lacking.\n",
        "\n",
        "\n",
        "\n",
        "\n"
      ],
      "metadata": {
        "id": "4-vrbaF1rRgC"
      }
    },
    {
      "cell_type": "markdown",
      "metadata": {
        "id": "XcHgfet5CnAg"
      },
      "source": [
        "#### Chart - 20\n",
        "\n",
        "\n"
      ]
    },
    {
      "cell_type": "markdown",
      "source": [
        "**Do movies or TV shows have higher TMDB popularity on average?**\n",
        "\n",
        "\n"
      ],
      "metadata": {
        "id": "nmJSMwwFCnAl"
      }
    },
    {
      "cell_type": "code",
      "source": [
        "# Chart - 20 visualization code\n",
        "\n",
        "#Top Countries delivering best content.\n",
        "#Best Content =Title with Good IMDB ratings\n",
        "\n",
        "#Filter with rating status of 'Good Rating' movies or TV-shows\n",
        "rating_status=amazon_data.loc[amazon_data.loc[:, 'IMDB Rating Status']=='Good Rating']\n",
        "\n",
        "#Group By with genres names holding count of Good Rating TV-shows or movies.\n",
        "genre_content_status=rating_status.groupby('Genres')['IMDB Rating Status'].count().reset_index().sort_values('IMDB Rating Status', ascending=False).rename({'IMDB Rating Status':'count'}, axis=1).head(10)\n",
        "\n",
        "#set the index columns as production countries\n",
        "genre_content_status.set_index('Genres', inplace=True)\n",
        "\n",
        "\n",
        "fig, ax=plt.subplots(figsize=(15, 5))\n",
        "\n",
        "#Plot the Bar\n",
        "ax = genre_content_status.plot.bar(ax=ax, legend=False, color='blue')\n",
        "ax.set_xlabel('Top-10 Combined-Genres', fontsize=10)\n",
        "ax.set_ylabel('Frequency of Good Rating', fontsize=10)\n",
        "ax.set_title(\"Top-10 Genres Delivering the Best Content in Amazon Prime\", weight='bold')\n",
        "\n",
        "for container in ax.containers:\n",
        "    ax.bar_label(container, fmt='%.0f', padding=0, fontsize=8, weight='bold')\n",
        "\n",
        "\n",
        "plt.xticks(rotation=45, fontsize=9)\n",
        "plt.yticks(fontsize=9)\n",
        "plt.tight_layout()\n",
        "plt.show()\n",
        "\n",
        "\n",
        "\n"
      ],
      "metadata": {
        "id": "90-5iJQcCnAl"
      },
      "execution_count": null,
      "outputs": []
    },
    {
      "cell_type": "markdown",
      "metadata": {
        "id": "MuXQSj_VCnAl"
      },
      "source": [
        "##### 1. Why did you pick the specific chart?"
      ]
    },
    {
      "cell_type": "markdown",
      "metadata": {
        "id": "q-qTMBYdCnAl"
      },
      "source": [
        "To check the count of Top-10 genres holding highest rating. The bar chart compares the different genres with there potential of engaging audience with different niche, content and storytelling. This help to find the number of Top-10 combined genres of Amazon Prime who have given content with large number of good ratings in IMDB platform."
      ]
    },
    {
      "cell_type": "markdown",
      "metadata": {
        "id": "yzSohGyTCnAl"
      },
      "source": [
        "##### 2. What is/are the insight(s) found from the chart?"
      ]
    },
    {
      "cell_type": "markdown",
      "metadata": {
        "id": "-dWdNU4ZCnAl"
      },
      "source": [
        "**Insight:**\n",
        "\n",
        "**1)\t Documentation:**\n",
        "\n",
        "High-quality informative content that is often award winning dominates the chart by giving maximum good rating in overall genres. It is highly rated by engaged and intellectual viewers.\n",
        "\n",
        "**2)\tDrama:**\n",
        "\n",
        "The Drama genres which rank 2nd after Documentation which focus on realistic characters, emotionally charged narratives and complex conflict, highly received a good ratings content by IMDB.\n",
        "\n",
        "**3)\tComedy:**\n",
        "\n",
        "Comedy have a flavor of laughter and humor content which attract audience with the storytelling and entertainment. After Documentation and Drama genres, Comedy genres deliver a content with good imdb ratings and attract audience attention globally.\n",
        "\n",
        "**4)\tComedy, Documentation:**\n",
        "\n",
        "Comedy, Documentary is a unique hybrid genre that combines factual storytelling with humor. It’s gaining good imdb ratings due to its entertaining yet informative style.\n",
        "\n",
        "**5)\tDrama, Comedy:**\n",
        "\n",
        "Highly dramatic with light hearted or humorous moment. These genres has emotional story-telling with relief through wit. This also attract audience who are binge-watcher and give mixed emotional vibes.\n",
        "\n",
        "**6)\tComedy, Drama:**\n",
        "\n",
        "Mainly Comedic with occasional serious or touching moments. The moderate number of titles but gives laugh focused narratives with bits of depth also received good rating content in Amazon Prime.\n",
        "\n",
        "**7)\tDrama, Romance:**\n",
        "\n",
        "The Drama, Romance combined genre mostly built on serious storytelling with romantic subplots. These titles are often based on life struggles, loss or historical love stories. These genres also receive good ratings with flavor of emotions and love.  \n",
        "\n",
        "**8)\tRomance, Drama:**\n",
        "\n",
        "Romantic story at its core with added emotional depth. Mostly genres where love story is the primary focus and drama intensify the stake and emotions. These genres do attract loyal, emotionally invested audience especially among female viewer with young age. The Romance, Drama titles often got Good IMDB rating.\n",
        "\n",
        "**9)\tDocumentation, sport:**\n",
        "\n",
        "These genres include documentary style content focused on sport themes, such as Behind the scene looks at teams or athlete, sports history or biography and event coverage or training journeys. Despite of low titles, it received a good IMDB rating which attract audience who interest in sports and are sports fan.\n",
        "\n",
        "**10)\tDocumentation, Music:**\n",
        "\n",
        "This genre combines documentary film-making with music-themed content such as biographies of musician or bands, behind the scenes of album and tour, Music history or cultural exploration or concert films or storytelling. The music lover audience target such type of genres which filled with all music story teller and journey. Despite of having fewer good-ratings in IMDB, it didn’t fail to be in Top-10 chart of Amazon Prime.\n",
        "\n",
        "\n",
        "\n",
        "\n",
        "\n",
        "\n",
        "\n"
      ]
    },
    {
      "cell_type": "markdown",
      "metadata": {
        "id": "F_KsoAiGCnAm"
      },
      "source": [
        "##### 3. Will the gained insights help creating a positive business impact?\n",
        "Are there any insights that lead to negative growth? Justify with specific reason."
      ]
    },
    {
      "cell_type": "markdown",
      "source": [
        "**Positive Impact:**\n",
        "\n",
        "**Enhanced Viewer Engagement:**\n",
        "\n",
        "Genres like Comedy and Drama keeps viewer emotionally hooked which increases impact on binge watching and daily active user.\n",
        "\n",
        "**Global Audience Reach:**\n",
        "\n",
        "The content based on documentaries attract diverse global viewers. It broadens Amazon Prime’s international subscriber base.\n",
        "\n",
        "**Increase Viewer Satisfaction:**\n",
        "\n",
        "Genres like Documentation, Drama and Comedy continuously received strong viewers ratings. Higher user satisfaction and retention reduces churn rates.\n",
        "\n",
        "**Emotional Resonance:**\n",
        "\n",
        "Romance, Drama genres connect deeply with audiences. Builds emotional loyalty to both shows and platform.\n",
        "\n",
        "**Strong Critical Reception:**\n",
        "\n",
        "Many top-genres are award friendly. It builds Amazon brand credibility and recognition in global content market.  \n",
        "\n",
        "**Negative Impact:**\n",
        "\n",
        "**Content Saturation:**\n",
        "\n",
        "Overproducing in popular genres like drama, Drama, Romance or Drama Comedy may lead to repetitive themes and audience fatigue.\n",
        "\n",
        "**Neglect of Niche genres:**\n",
        "\n",
        "Unique or experimental combinations(e.g. Sci-Fi, Mystery or Fantasy, Adventure) might be underfunded or under-promoted despite potential.\n",
        "\n",
        "**Audience Segmentation Gap:**\n",
        "\n",
        "Heavy focus on mainstream genres may alienate niche audience who crave diversity.  \n",
        "\n",
        "\n",
        "\n",
        "\n",
        "\n",
        "\n"
      ],
      "metadata": {
        "id": "3d_Glf_ECnAm"
      }
    },
    {
      "cell_type": "markdown",
      "source": [],
      "metadata": {
        "id": "9o7s0tMRmGIq"
      }
    },
    {
      "cell_type": "markdown",
      "metadata": {
        "id": "JWZ5wTuKm6Ki"
      },
      "source": [
        "#### Chart - 21\n",
        "\n",
        "\n"
      ]
    },
    {
      "cell_type": "markdown",
      "source": [
        "**Do movies or TV shows have higher TMDB popularity on average?**\n",
        "\n",
        "\n"
      ],
      "metadata": {
        "id": "uJ16rLpim6Ki"
      }
    },
    {
      "cell_type": "code",
      "source": [
        "# Chart - 21 visualization code\n",
        "\n",
        "# Group by content type (Movie / TV Show) and calculate average TMDB popularity\n",
        "popularity_by_type=amazon_data.groupby('Type')['TMDB Popularity'].mean().reset_index()\n",
        "\n",
        "# Sort values\n",
        "popularity_by_type = popularity_by_type.sort_values('TMDB Popularity', ascending=False)\n",
        "\n",
        "\n",
        "#Plot the Bar\n",
        "sns.set_context('notebook')\n",
        "sns.set_style(\"darkgrid\")\n",
        "fig, ax=plt.subplots(figsize=(12,5))\n",
        "sns.barplot(data=popularity_by_type, x='Type', y='TMDB Popularity', palette='viridis', ax=ax)\n",
        "ax.set_title('Average TMDB Popularity by Content Type', weight='bold')\n",
        "ax.set_ylabel('Average TMDB Popularity', fontsize=10)\n",
        "ax.set_xlabel('Content Type', fontsize=10)\n",
        "plt.tick_params(axis='both', labelsize=10)\n",
        "plt.tight_layout()\n",
        "plt.show()\n",
        "\n"
      ],
      "metadata": {
        "id": "5A7fBFKjm6Kj",
        "collapsed": true
      },
      "execution_count": null,
      "outputs": []
    },
    {
      "cell_type": "markdown",
      "metadata": {
        "id": "Bcs7x1Cbm6Kj"
      },
      "source": [
        "##### 1. Why did you pick the specific chart?"
      ]
    },
    {
      "cell_type": "markdown",
      "metadata": {
        "id": "5CHyucPXm6Kj"
      },
      "source": [
        "To visually support the insight that TV shows have higher average TMDB popularity than movies, you can use a bar chart. This helps clearly compare the average TMDB popularity across content types."
      ]
    },
    {
      "cell_type": "markdown",
      "metadata": {
        "id": "QLbPObeam6Kj"
      },
      "source": [
        "##### 2. What is/are the insight(s) found from the chart?"
      ]
    },
    {
      "cell_type": "markdown",
      "metadata": {
        "id": "SmL-_WOcm6Kj"
      },
      "source": [
        "**Insight:**\n",
        "\n",
        "TV-Shows have a higher average TMDB-popularity score than Movies:\n",
        "This could be due to:\n",
        "\n",
        "**•\tLonger Viewer Engagement:**\n",
        "\n",
        "TV-shows typically span multiple episodes and seasons, keeping viewers engaged for longer periods which can boost popularity metrics.\n",
        "\n",
        "**•\tBinge Watching Culture:**\n",
        "\n",
        "With Streaming platforms promoting full season releases, shows often become viral quickly through binge watching, increasing their TMDB-engagement.\n",
        "\n",
        "**•\tMore Frequent Updates:**\n",
        "\n",
        "TV-Shows release new seasons regularly, giving them recurring popularity spikes, while movies generally peak once.\n",
        "\n",
        "\n",
        "\n",
        "\n",
        "\n",
        "\n",
        "\n",
        "\n"
      ]
    },
    {
      "cell_type": "markdown",
      "metadata": {
        "id": "TA1CQYZam6Kk"
      },
      "source": [
        "##### 3. Will the gained insights help creating a positive business impact?\n",
        "Are there any insights that lead to negative growth? Justify with specific reason."
      ]
    },
    {
      "cell_type": "markdown",
      "source": [
        "**Positive Impact:**\n",
        "\n",
        "**1)\tStrategic Content Investment:**\n",
        "\n",
        "Amazon can prioritize TV-Show production and acquisition, especially in genres or formats that drive high popularity.\n",
        "\n",
        "**2)\tBoost in Viewer Engagement and Retention:**\n",
        "\n",
        "TV- Shows keep audience engaged over multiple episodes and seasons, improving subscribers retention rates.\n",
        "\n",
        "**3)\tPlatform Differentiation:**\n",
        "\n",
        "Successful TV-Shows create brand identity for the platform and attract loyal fan-base:\n",
        "\n",
        "**Negative Impact:**\n",
        "\n",
        "**1)\tUnderutilized Movie Catalog:**\n",
        "\n",
        "If a large portion of the platform’s movie content fails to gain popularity, it represents a low return on content investment.\n",
        "\n",
        "**2)\tWeakened Competitive Edge:**\n",
        "\n",
        "Platforms like Netflix and Disney+ have strong movie catalogs, Poor movie performance may cause Amazon Prime to lose movie-focused subscriber.\n",
        "\n",
        "**3)\tImbalanced Content Strategy:**\n",
        "\n",
        "An overfocus on TV-Shows may cause neglect of high-potential movie content, including independent films, documentary or award contenders.\n",
        "\n",
        "\n",
        "\n",
        "\n",
        "\n",
        "\n"
      ],
      "metadata": {
        "id": "56ProydXm6Kk"
      }
    },
    {
      "cell_type": "markdown",
      "source": [],
      "metadata": {
        "id": "9DP9rkFwm6Kk"
      }
    },
    {
      "cell_type": "markdown",
      "metadata": {
        "id": "NC_X3p0fY2L0"
      },
      "source": [
        "#### Chart - 22 - Correlation Heatmap"
      ]
    },
    {
      "cell_type": "code",
      "execution_count": null,
      "metadata": {
        "id": "xyC9zolEZNRQ"
      },
      "outputs": [],
      "source": [
        "# Correlation Heatmap visualization code\n",
        "\n",
        "\n",
        "# Calculate correlation matrix\n",
        "num_data=amazon_data.loc[:, ['IMDB Score', 'IMDB Votes', 'TMDB Popularity', 'TMDB Score', 'Runtime', 'Release Year']].corr()\n",
        "\n",
        "# Set up the matplotlib figure\n",
        "fig, ax=plt.subplots(figsize=(15, 5))\n",
        "sns.heatmap(num_data, annot=True, cmap='coolwarm', linewidths=0.5, ax=ax, linecolor='gray')\n",
        "ax.set_title('Correlation Heatmap')\n",
        "\n",
        "plt.xticks(rotation=0, fontsize=10)\n",
        "plt.yticks(rotation=0, fontsize=10)\n",
        "plt.tight_layout()\n",
        "plt.show()\n",
        "\n",
        "\n"
      ]
    },
    {
      "cell_type": "markdown",
      "metadata": {
        "id": "UV0SzAkaZNRQ"
      },
      "source": [
        "##### 1. Why did you pick the specific chart?"
      ]
    },
    {
      "cell_type": "markdown",
      "metadata": {
        "id": "DVPuT8LYZNRQ"
      },
      "source": [
        "A Correlation Heatmap help to visualize relationship between numerical variable such as imdb_score, imdb_votes, tmdb_popularity, tmdb_score, runtime, release_year etc."
      ]
    },
    {
      "cell_type": "markdown",
      "metadata": {
        "id": "YPEH6qLeZNRQ"
      },
      "source": [
        "##### 2. What is/are the insight(s) found from the chart?"
      ]
    },
    {
      "cell_type": "markdown",
      "metadata": {
        "id": "bfSqtnDqZNRR"
      },
      "source": [
        "**Insights:**\n",
        "\n",
        "**Positive Corelations:**\n",
        "\n",
        "Imdb_score vs tmdb_score: IMDB score and TMDB score values are strongly correlated to each other. It helps to analyse the similar audience perception across different platform. It also shows that engagement on one platform\n",
        "reflects broader interest.\n",
        "\n",
        "**Moderate/Positive Correlation:**\n",
        "\n",
        "Imdb_votes vs tmdb_populartiy:  Indicates that the title receiving more user rating on IMDB are also considered to be more popular in TMDB.\n",
        "\n",
        "**Weak/No Corelation:**\n",
        "\n",
        "Runtime vs  imdb_score: It indicates that duration of movies or TV-shows in Amazon Prime are not associated with imdb ratings. Longer duration doesn’t guarantee higher ratings.\n",
        "\n",
        "**Weak/Moderate Relationship:**\n",
        "\n",
        "release_year vs imdb_votes or release_year vs tmdb_popularity: The two relations completely depend on platform trend. Recent content may get popularity but not on high ratings.\n"
      ]
    },
    {
      "cell_type": "markdown",
      "metadata": {
        "id": "q29F0dvdveiT"
      },
      "source": [
        "#### Chart - 23 - Pair Plot"
      ]
    },
    {
      "cell_type": "code",
      "execution_count": null,
      "metadata": {
        "id": "o58-TEIhveiU",
        "collapsed": true
      },
      "outputs": [],
      "source": [
        "# Pair Plot visualization code\n",
        "\n",
        "# Select numeric data\n",
        "num_data=amazon_data[['IMDB Score', 'IMDB Votes', 'TMDB Popularity', 'TMDB Score', 'Runtime', 'Release Year']]\n",
        "\n",
        "# Set style for better visuals\n",
        "sns.set(style=\"darkgrid\", context='notebook')\n",
        "\n",
        "# Create pairplot\n",
        "sns.pairplot(num_data, diag_kind='kde')\n",
        "plt.suptitle(\"Pair Plot of Amazon Prime TV-Shows and Movies\", y=1.02, fontsize=14, weight='bold')\n",
        "plt.tight_layout()\n",
        "plt.show()"
      ]
    },
    {
      "cell_type": "markdown",
      "metadata": {
        "id": "EXh0U9oCveiU"
      },
      "source": [
        "##### 1. Why did you pick the specific chart?"
      ]
    },
    {
      "cell_type": "markdown",
      "metadata": {
        "id": "eMmPjTByveiU"
      },
      "source": [
        "A Pair plot which helps to visualize the pairwise relationships between key numeric variables in Amazon Prime dataset that includes imdb_score, tmdb_score, imdb_vote, tmdb_popularity and runtime."
      ]
    },
    {
      "cell_type": "markdown",
      "metadata": {
        "id": "22aHeOlLveiV"
      },
      "source": [
        "##### 2. What is/are the insight(s) found from the chart?"
      ]
    },
    {
      "cell_type": "markdown",
      "metadata": {
        "id": "uPQ8RGwHveiV"
      },
      "source": [
        "**Positive Correlation:**\n",
        "\n",
        "**IMDB Votes Vs TMDB Popularity**\n",
        "\n",
        "Amazon Movie and Shows title with higher IMDB votes also tend to have higher TMDB popularity.\n",
        "\n",
        "**IMDB Score Vs TMDB Score**\n",
        "\n",
        "Amazon titles with high IMDB score also reflect the high TMDB score. Viewers on both platform rate content similarly.\n",
        "\n",
        "**Weak Relationship:**\n",
        "\n",
        "**IMDB/TMDB score vs Runtime:**\n",
        "\n",
        "The plot are scattered which state that runtime of Amazon movies and shows doesnot reflect ratings of IMDB and TMDB. Longer duration doesnot reflect ratings. Ratings are based on content, genre, story telling and audience engagement factor. Duration of movies(longer or shorter) doesnot reflect the ratings.\n",
        "\n",
        "**Distributions:**\n",
        "\n",
        "**Normal Distribution**:\n",
        "\n",
        "IMDB score and TMDB score data are normally distributed.\n",
        "\n",
        "**Right Skewed:**\n",
        "\n",
        "IMDB votes and TMDB votes are right skewed.\n"
      ]
    },
    {
      "cell_type": "markdown",
      "metadata": {
        "id": "JcMwzZxoAimU"
      },
      "source": [
        "## **5. Solution to Business Objective**"
      ]
    },
    {
      "cell_type": "markdown",
      "metadata": {
        "id": "8G2x9gOozGDZ"
      },
      "source": [
        "#### What do you suggest the client to achieve Business Objective ?\n",
        "Explain Briefly."
      ]
    },
    {
      "cell_type": "markdown",
      "metadata": {
        "id": "pASKb0qOza21"
      },
      "source": [
        "To help Amazon Prime to achieve its business objective (such as increase in user engagement, customer retention and improving content investment decisions), Here are some strategic suggestions based on data insights:\n",
        "\n",
        "**1)\tInvest In High Performing Genres:**\n",
        "\n",
        "Genres like Drama, Comedy, Romance, Thriller and Action consistently score high on IMDB and attracts global viewership.\n",
        "\n",
        "Suggestions:\n",
        "\n",
        "•\tPrioritize production and acquisition in Drama-Comedy hybrid and Documentary-Crime genres.\n",
        "\n",
        "•\tLocalize Top Genres for Key Markets (Romance for India, Crime for UK/US).\n",
        "\n",
        "•\tGenres like Sci-Fi, Action, Animation etc. should also be prioritize on a large scale to attract new gen-z audience.\n",
        "\n",
        "**2)\tStrengthen Multi-Genre Offerings:**\n",
        "\n",
        "Multi-genres (Combined Genres) content such as ‘Romance, Comedy’, ‘Drama, Comedy’, ‘Romance, History’, ‘Documentation, Sports’ performs better in IMDB rating and engagement.\n",
        "\n",
        "Suggestions:\n",
        "\n",
        "•\tEmphasize more in multi-genre content in Amazon Prime to tailored recommendation engines.\n",
        "\n",
        "•\tMulti-genres have more potential to attract different audience giving them entertainment in one package. Encourage cross-genre story-telling in originals. (e.g. History, Fantasy, Drama Romance)\n",
        "\n",
        "**3)\tLeverage High Rated Talent:**\n",
        "\n",
        "Certain actor and directors consistently bring higher ratings and vote counts with their performance.\n",
        "\n",
        "Suggestions:\n",
        "\n",
        "•\tSign exclusive deals with top-performing actors and director.\n",
        "\n",
        "•\tFeature them prominently in Prime Originals and marketing Campaign.\n",
        "\n",
        "**4)\tFocus on Top Performing Countries:**\n",
        "\n",
        "Countries like US, India, UK, Canada, Australia and more deliver the best content in terms of rating and Volume.\n",
        "\n",
        "Suggestions:\n",
        "\n",
        "•\tCo-produce with studios in these countries to maximize reach.\n",
        "\n",
        "•\tExpand regional content with subtitles/dubs for global reach.\n",
        "\n",
        "**5)\tBoost High-Rated Reality and Documentary Content:**\n",
        "\n",
        "Reality and Documentary shows with travel, food and lifestyle themes have high IMDB ratings and long watch times.\n",
        "\n",
        "Suggestion:\n",
        "\n",
        "•\tInvest in feel-good, travel reality, and document series (e.g. Clarkson Farm).\n",
        "\n",
        "•\tBundle such content into genre-specific channels on Prime.\n",
        "\n",
        "**6)\tImprove Underperforming Genre Combinations:**\n",
        "\n",
        "Some Genre mixes (Romance + War, History + Horror) have lower rating.\n",
        "\n",
        "Suggestion:\n",
        "\n",
        "•\tConduct testing before investing in niche genre hybrids.\n",
        "\n",
        "•\tReposition such shows with better thumbnail, trailers or rebranding.\n",
        "\n",
        "**7)\tUnderstanding Audience Demand:**\n",
        "\n",
        "Understanding audience demand in Amazon Prime involves analyzing user preferences, behaviors and content performances to identify what kind of shows and movies resonate most with the viewers.\n",
        "\n",
        "Suggestion:\n",
        "\n",
        "•\tUse viewership and ratings data to segment user by genre preference, age group and watch behaviors.\n",
        "\n",
        "•\tProduce localized original content based on regional demand trends.\n",
        "\n",
        "•\tWork with high-impact actors and director who draw more views and rating.\n"
      ]
    },
    {
      "cell_type": "markdown",
      "metadata": {
        "id": "gCX9965dhzqZ"
      },
      "source": [
        "# **Conclusion**"
      ]
    },
    {
      "cell_type": "markdown",
      "metadata": {
        "id": "Fjb1IsQkh3yE"
      },
      "source": [
        "**Conclusion:**\n",
        "\n",
        "After analyzing the Amazon Prime Dataset across various dimensions-including genres, actors, directors, country performance and audience demand-here are the key takeaways:\n",
        "\n",
        "**1)\tGenre Performance:**\n",
        "\n",
        "Top Genres like Drama, Comedy, Romance and Action dominates in both quantity and quality. Combined Genres like ‘Drama, Romance’, ‘Drama, Comedy’ received high IMDB ratings and audience engagement. Documentary Genres also have a loyal and high rating audience base.\n",
        "\n",
        "**2)\tCountry-Wise Insight:**\n",
        "\n",
        "US and India lead in producing top-rated contents. Great Britain and Canada are emerging strong players in regional and international content. European and Asian content is gaining traction through combined-genre storytelling.\n",
        "\n",
        "**3)\tActor and Director Influence:**\n",
        "\n",
        "Actors with multiple high rated titles (IMDB>7) show strong consistency in content appeal. Directors with the highest IMDB votes attract global attention with producing remarkable movies or TV-show in Amazon Prime indicating the importance of renowned filmmakers.\n",
        "\n",
        "**4)\tIMDB Rating and Votes:**\n",
        "\n",
        "Titles with high IMDB votes and scores reflect global appeal and strong viewer trust. Genres with consistency good rating reflect audience satisfaction and re-watch values.\n",
        "\n",
        "**5)\tAudience Demand and Certification:**\n",
        "\n",
        "Most viewed content lies within the 13+ and 16+ certification-targeting teen and young adults. Family content (rated PG) is also widely appreciated but in lower volume.\n",
        "\n",
        "**6)\tOverall Strategic Impact:**\n",
        "\n",
        "Amazon Prime can strengthen its global presence by investing in high-performing genres, regional hits, and director/actor drive content. A deeper understanding of genre combinations and audience trends enables more personalized recommendation and better content acquisition. Using data driven decisions enhances both viewer satisfaction and subscription growth.\n",
        "\n"
      ]
    },
    {
      "cell_type": "markdown",
      "metadata": {
        "id": "gIfDvo9L0UH2"
      },
      "source": [
        "### ***Hurrah! You have successfully completed your EDA Capstone Project !!!***"
      ]
    }
  ],
  "metadata": {
    "colab": {
      "cell_execution_strategy": "setup",
      "collapsed_sections": [
        "mDgbUHAGgjLW",
        "H0kj-8xxnORC",
        "nA9Y7ga8ng1Z",
        "PBTbrJXOngz2",
        "0wOQAZs5pc--",
        "lQ7QKXXCp7Bj",
        "448CDAPjqfQr",
        "t6dVpIINYklI",
        "ijmpgYnKYklI",
        "-JiQyfWJYklI",
        "EM7whBJCYoAo",
        "85gYPyotYoAp",
        "RoGjAbkUYoAp",
        "4Of9eVA-YrdM",
        "iky9q4vBYrdO",
        "F6T5p64dYrdO",
        "y-Ehk30pYrdP",
        "bamQiAODYuh1",
        "QHF8YVU7Yuh3",
        "GwzvFGzlYuh3",
        "qYpmQ266Yuh3",
        "OH-pJp9IphqM",
        "bbFf2-_FphqN",
        "_ouA3fa0phqN",
        "Seke61FWphqN",
        "PIIx-8_IphqN",
        "t27r6nlMphqO",
        "r2jJGEOYphqO",
        "b0JNsNcRphqO",
        "jj7wYXLtphqO",
        "eZrbJ2SmphqO",
        "YJ55k-q6phqO",
        "gCFgpxoyphqP",
        "OVtJsKN_phqQ",
        "lssrdh5qphqQ",
        "U2RJ9gkRphqQ",
        "1M8mcRywphqQ",
        "JMzcOPDDphqR",
        "x-EpHcCOp1ci",
        "X_VqEhTip1ck",
        "8zGJKyg5p1ck",
        "PVzmfK_Ep1ck",
        "n3dbpmDWp1ck",
        "ylSl6qgtp1ck",
        "ZWILFDl5p1ck",
        "M7G43BXep1ck",
        "Ag9LCva-p1cl",
        "E6MkPsBcp1cl",
        "2cELzS2fp1cl",
        "3MPXvC8up1cl",
        "nTSN20Z16syZ",
        "fLzXrG70Y_rI",
        "S_Hj0S9dY_rJ",
        "wgIKZYbwY_rK",
        "YkSYH8I1Y_rK",
        "m30OdlaO-06u",
        "NC_X3p0fY2L0",
        "UV0SzAkaZNRQ",
        "q29F0dvdveiT",
        "EXh0U9oCveiU",
        "22aHeOlLveiV",
        "8G2x9gOozGDZ"
      ],
      "provenance": [],
      "include_colab_link": true
    },
    "kernelspec": {
      "display_name": "Python 3",
      "name": "python3"
    },
    "language_info": {
      "name": "python"
    }
  },
  "nbformat": 4,
  "nbformat_minor": 0
}